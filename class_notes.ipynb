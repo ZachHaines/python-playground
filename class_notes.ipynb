{
 "cells": [
  {
   "cell_type": "markdown",
   "metadata": {},
   "source": [
    "---\n",
    "\n",
    "# Day 1: Data Types, Variables, & Conversions\n",
    "\n",
    "--- "
   ]
  },
  {
   "cell_type": "markdown",
   "metadata": {},
   "source": [
    "## Object Data Types"
   ]
  },
  {
   "cell_type": "markdown",
   "metadata": {},
   "source": [
    "### Overview\n",
    "\n",
    "#### Data Types\n",
    "\n",
    "- integer (int)\n",
    "- float\n",
    "- boolean (bool)\n",
    "- string (str)\n",
    "- None\n",
    "\n",
    "#### Containers\n",
    "\n",
    "- lists\n",
    "- tuple\n",
    "\n",
    "\n",
    "### Check Data Type\n",
    "\n",
    "`type()` function shows what kind of type the argument is. Example: `type(6)` : **int**\n",
    "\n",
    "### Division\n",
    "- Quotient (`/`) division always outputs a float. Example: `5/2` : **2/5**\n",
    "\n",
    "- Integer (`//`) division outputs an integer. Example: `5//2` : **2**\n",
    "\n",
    "- Modulus (`%`) division returns remainder. Example: `5 % 3` : **2**\n",
    "\n",
    "### Boolean\n",
    "\n",
    "### Strings\n",
    "\n",
    "- Escape Character (`\\`): Use the backslash (`\\`) to ignore the the following character.\n",
    "- Double quotes vs single quotes\n",
    "- Unicode Example: `'\\U00000195'` : **ƕ**\n",
    "- Adding Strings: `'a' + 'b'` : **ab**\n",
    "\n",
    "### Lists\n",
    "\n",
    "- Lists are wrapped in square brackets `[]`\n",
    "- Lists are mutable\n",
    "- Create an empty list: `[]` or `list()`\n",
    "\n",
    "### Tuple\n",
    "\n",
    "- Similar to a list, but not as dynamic or mutable\n",
    "- Tuple values are wrapped in paraenthesis \n",
    "- Good for dat preservation. \n",
    "- Example: `(1,2,3,5.7,0,'words',[1,2,3])`\n",
    "\n",
    "### Misc\n",
    "\n",
    "- `help('keywords')` displays all of the reserved words in Python"
   ]
  },
  {
   "cell_type": "markdown",
   "metadata": {},
   "source": [
    "## Variables"
   ]
  },
  {
   "cell_type": "code",
   "execution_count": null,
   "metadata": {},
   "outputs": [],
   "source": [
    "mynumber = 1  \n",
    "print(mynumber)    \n",
    "Mynumber = 2\n",
    "print(MyNumber) "
   ]
  },
  {
   "cell_type": "markdown",
   "metadata": {},
   "source": [
    "### Dynamic Variable Declarartion"
   ]
  },
  {
   "cell_type": "code",
   "execution_count": null,
   "metadata": {},
   "outputs": [],
   "source": [
    "var1, var2, var3 = 'one', 2, 3.0\n",
    "print(var1, var2, var3)"
   ]
  },
  {
   "cell_type": "markdown",
   "metadata": {},
   "source": [
    "### Incremental Variable"
   ]
  },
  {
   "cell_type": "code",
   "execution_count": 19,
   "metadata": {},
   "outputs": [
    {
     "name": "stdout",
     "output_type": "stream",
     "text": [
      "15\n",
      "27\n"
     ]
    }
   ],
   "source": [
    "ans = 0\n",
    "\n",
    "ans = ans + 15\n",
    "print(ans)\n",
    "\n",
    "ans += 12\n",
    "print(ans)"
   ]
  },
  {
   "cell_type": "markdown",
   "metadata": {},
   "source": [
    "### Data Conversion"
   ]
  },
  {
   "cell_type": "markdown",
   "metadata": {},
   "source": [
    "- `int()` - constructs an integer number from an integer literal, a float literal (by removing all decimals), or a string literal (providing the string represents a whole number)\n",
    "- `float()` - constructs a float number from an integer literal, a float literal or a string literal (providing the string represents a float or an integer)\n",
    "- `str()` - constructs a string from a wide variety of data types, including strings, integer literals and float literals"
   ]
  },
  {
   "cell_type": "code",
   "execution_count": null,
   "metadata": {},
   "outputs": [],
   "source": [
    "num = '4'\n",
    "print (int(num) + 5)"
   ]
  },
  {
   "cell_type": "markdown",
   "metadata": {},
   "source": [
    "\n",
    "#### Storing data conversion in new variable\n",
    "```\n",
    "fl_num = 4.5\n",
    "str_num = str(fl_num)\n",
    "print(type(str_num))\n",
    "```\n",
    "***<class 'str'>***\n",
    "\n",
    "***Note:*** To convert from a string to an integer with a decimal, you must convert from string --> float --> integer\n",
    "\n",
    "- `tuple()`: Convert list to a tuple.\n",
    "\n",
    "### input() Function\n",
    "\n",
    "- `input()` - Queries a user for input\n",
    "- Store an input to a variable. Example: `last_name = input()`\n",
    "- **Warning!** `input()` automatically interprets to a string! \n",
    "- If requesting input for another data type besides a string, convert before storing to variable. \n",
    "- Example: `input_num = int(input())` \n",
    "- User Input Prompt: `full_name = input('Enter your name: ')`\n",
    "\n",
    "### Expanding on the Print Function\n",
    "\n",
    "- the `print()` function includes a return carriage `\\n` by default. Adjust the **end** parameter to change default return carriage.\n",
    "- Example: `print('hello', end='+'); print('world')`\n",
    "- **sep** separator value: If print() function receives multiple arguements, the seperator value changes the character(s) between the arguments."
   ]
  },
  {
   "cell_type": "markdown",
   "metadata": {},
   "source": [
    "---\n",
    "\n",
    "# Day 2: Indexing, String/List Methods, Math Operators, Defining Functions\n",
    "\n",
    "--- "
   ]
  },
  {
   "cell_type": "markdown",
   "metadata": {},
   "source": [
    "## Indexing"
   ]
  },
  {
   "cell_type": "code",
   "execution_count": null,
   "metadata": {},
   "outputs": [],
   "source": [
    "# Indexing allows us to access individual items in an ordered collection (string, list, tuple)\n",
    "# Python uses 0-based indexing: the first time is index 0, the second item is index 1, ...\n",
    "# Python also allows negative indexing: the last item is index -1, the second to last time is index -2, ...\n",
    "\n",
    "#          01234\n",
    "aString = 'hello'\n",
    "print(aString[0])\n",
    "print(aString[4])\n",
    "print(aString[-5])\n",
    "print(aString[-1])"
   ]
  },
  {
   "cell_type": "code",
   "execution_count": 130,
   "metadata": {},
   "outputs": [
    {
     "name": "stdout",
     "output_type": "stream",
     "text": [
      "1\n",
      "4\n",
      "1\n",
      "4\n"
     ]
    }
   ],
   "source": [
    "#        0 1 2 3\n",
    "aList = [1,2,3,4]\n",
    "print(aList[0])\n",
    "print(aList[3])\n",
    "print(aList[-4])\n",
    "print(aList[-1])"
   ]
  },
  {
   "cell_type": "markdown",
   "metadata": {},
   "source": [
    "## String methods"
   ]
  },
  {
   "cell_type": "code",
   "execution_count": null,
   "metadata": {},
   "outputs": [],
   "source": [
    "# The dir() function returns all properties and methods of the specified object, without the values.\n",
    "# This function will return all the properties and methods, even built-in properties which are default for all object.\n",
    "\n",
    "dir(str)"
   ]
  },
  {
   "cell_type": "markdown",
   "metadata": {},
   "source": [
    "### .format Method"
   ]
  },
  {
   "cell_type": "code",
   "execution_count": null,
   "metadata": {},
   "outputs": [],
   "source": [
    "# string methods (a method is a function that works on specific object types)\n",
    "# format() method\n",
    "name = 'Smilla'\n",
    "pet = 'dog'\n",
    "myString = 'I have a {} whose name is {}.'.format(pet, name)\n",
    "print(myString)\n",
    "\n",
    "pi = 3.14159\n",
    "aStr = 'Pi rounded to four decimal places is {:.4f}.'.format(pi)\n",
    "print(aStr)\n",
    "\n",
    "# alternately can use f-strings\n",
    "myString = f'I have a {pet} whose name is {name}.'\n",
    "print(myString)\n",
    "\n",
    "aStr = f'Pi rounded to four decimal places is {pi:.4f}.'\n",
    "print(aStr)"
   ]
  },
  {
   "cell_type": "markdown",
   "metadata": {},
   "source": [
    "### .split Method"
   ]
  },
  {
   "cell_type": "code",
   "execution_count": null,
   "metadata": {},
   "outputs": [],
   "source": [
    "# split() method - split a string into a list based on a delimiter\n",
    "\n",
    "aStr = 'This is a sentence'\n",
    "print(aStr.split(' '))\n",
    "print(aStr.split())     # by default the delimiter is the ' ' character\n",
    "\n",
    "csvString = 'This,might,be,what,a,csv,file,looks,like'\n",
    "print(csvString.split(','))\n",
    "\n",
    "aMACaddress = '07:bb:21:3d:a9:29'\n",
    "print(aMACaddress.split(':'))\n",
    "\n",
    "anIPaddress = '192.168.68.101'\n",
    "print(anIPaddress.split('.'))"
   ]
  },
  {
   "cell_type": "markdown",
   "metadata": {},
   "source": [
    "### .join Method"
   ]
  },
  {
   "cell_type": "code",
   "execution_count": null,
   "metadata": {},
   "outputs": [],
   "source": [
    "# join() method - constuct a string from a list where each list element is separated by the given string\n",
    "\n",
    "# string are immutable, but given a string how could I 'make changes' to it?\n",
    "\n",
    "myStr = 'line tree' # want to change it to 'pine tree'\n",
    "print(myStr)\n",
    "\n",
    "myStrList = list(myStr)\n",
    "print(myStrList)\n",
    "\n",
    "myStrList[0] = 'p'\n",
    "print(myStrList)\n",
    "\n",
    "myStr = ''.join(myStrList)\n",
    "print(myStr)\n",
    "\n",
    "# put the IP address from above back together\n",
    "anIPaddress = '192.168.68.101'\n",
    "print(anIPaddress)\n",
    "\n",
    "anIPaddressList = anIPaddress.split('.')\n",
    "print(anIPaddressList)\n",
    "\n",
    "anIPaddressReassembled = '.'.join(anIPaddressList)\n",
    "print(anIPaddressReassembled)"
   ]
  },
  {
   "cell_type": "markdown",
   "metadata": {},
   "source": [
    "### .replace Method"
   ]
  },
  {
   "cell_type": "code",
   "execution_count": null,
   "metadata": {},
   "outputs": [],
   "source": [
    "# replace() method - create a copy of the string where first character is replaced by second character\n",
    "\n",
    "aStr = '192.168.68.101'\n",
    "print(aStr.replace('.', '+'))\n",
    "\n",
    "# aStr not modified\n",
    "print(aStr)"
   ]
  },
  {
   "cell_type": "markdown",
   "metadata": {},
   "source": [
    "### .strip Method"
   ]
  },
  {
   "cell_type": "code",
   "execution_count": null,
   "metadata": {},
   "outputs": [],
   "source": [
    "# strip() method - remove characters from left and right side of string; by default removes whitespace\n",
    "\n",
    "aStr = '    characters     '\n",
    "print(aStr)\n",
    "\n",
    "print(aStr.strip())\n",
    "\n",
    "# optional argument is all characters to be removed from left and right side of string\n",
    "bStr = 'www.example.com'\n",
    "print(bStr.strip('w.com'))"
   ]
  },
  {
   "cell_type": "markdown",
   "metadata": {},
   "source": [
    "### string boolean Methods"
   ]
  },
  {
   "cell_type": "code",
   "execution_count": null,
   "metadata": {},
   "outputs": [],
   "source": [
    "# some boolean string methods - returns True or False\n",
    "\n",
    "aStr = 'word'\n",
    "print(aStr.isalpha())\n",
    "print(aStr.islower())\n",
    "print(aStr.isupper())\n",
    "print(aStr.isdigit())"
   ]
  },
  {
   "cell_type": "markdown",
   "metadata": {},
   "source": [
    "## List Methods"
   ]
  },
  {
   "cell_type": "markdown",
   "metadata": {},
   "source": [
    "### .append Method"
   ]
  },
  {
   "cell_type": "code",
   "execution_count": null,
   "metadata": {},
   "outputs": [],
   "source": [
    "# append() method - add an item to the end of the list\n",
    "aList = [1,2,3,4]\n",
    "print(aList)\n",
    "aList.append(5)\n",
    "print(aList)"
   ]
  },
  {
   "cell_type": "markdown",
   "metadata": {},
   "source": [
    "### .count Method"
   ]
  },
  {
   "cell_type": "code",
   "execution_count": null,
   "metadata": {},
   "outputs": [],
   "source": [
    "# count() method - returns the number of occurences of the argument in the list\n",
    "aList = [1,4,4,3]\n",
    "print(aList.count(1))\n",
    "print(aList.count(4))\n",
    "print(aList.count(5))"
   ]
  },
  {
   "cell_type": "markdown",
   "metadata": {},
   "source": [
    "### .extend Method"
   ]
  },
  {
   "cell_type": "code",
   "execution_count": null,
   "metadata": {},
   "outputs": [],
   "source": [
    "# extend Method - add one list onto the end of another list\n",
    "aList = [1,2,3,4]\n",
    "bList = [5,6,7,8]\n",
    "aList.extend(bList)\n",
    "print(aList)\n",
    "\n",
    "# extend is functionally the same as concatenating one list to another\n",
    "cList = [1,2,3,4]\n",
    "dList = [5,6,7,8]\n",
    "cList += dList\n",
    "print(cList)"
   ]
  },
  {
   "cell_type": "markdown",
   "metadata": {},
   "source": [
    "### .pop Method"
   ]
  },
  {
   "cell_type": "code",
   "execution_count": null,
   "metadata": {},
   "outputs": [],
   "source": [
    "# pop() Method - removes and returns item at index provided as argument (default is last item)\n",
    "aList = [1,2,3,4]\n",
    "a = aList.pop(0)\n",
    "print(a)\n",
    "print(aList)\n",
    "b = aList.pop()\n",
    "print(b)\n",
    "print(aList)"
   ]
  },
  {
   "cell_type": "markdown",
   "metadata": {},
   "source": [
    "### .remove Method"
   ]
  },
  {
   "cell_type": "code",
   "execution_count": null,
   "metadata": {},
   "outputs": [],
   "source": [
    "# remove() method - removes first occurrence of item provided by argument; if item is not in list there will be an error\n",
    "aList = [1,2,3,2,3]\n",
    "aList.remove(2)\n",
    "print(aList)"
   ]
  },
  {
   "cell_type": "markdown",
   "metadata": {},
   "source": [
    "### sum Function"
   ]
  },
  {
   "cell_type": "code",
   "execution_count": null,
   "metadata": {},
   "outputs": [],
   "source": [
    "# sum() - built-in Function that adds up all numbers in a tuple, list or set (every item must be a number)\n",
    "aList = [1,2,3,4]\n",
    "print(sum(aList))\n",
    "\n",
    "aTuple = (1,2,3)\n",
    "print(sum(aTuple))\n",
    "\n",
    "aSet = {1,2,3,4,5}\n",
    "print(sum(aSet))"
   ]
  },
  {
   "cell_type": "markdown",
   "metadata": {},
   "source": [
    "## Mathematical operators"
   ]
  },
  {
   "cell_type": "code",
   "execution_count": null,
   "metadata": {},
   "outputs": [],
   "source": [
    "# mathematical operators\n",
    "a = 8\n",
    "b = 3\n",
    "print(a + b)    # addition\n",
    "print(a - b)    # subtraction\n",
    "print(a * b)    # multiplication\n",
    "print(a / b)    # division\n",
    "print(4 / 2)    # division always results in a float\n",
    "print(a // b)   # integer division\n",
    "print(a % b)    # modulo division\n",
    "print(a ** b)   # exponentation"
   ]
  },
  {
   "cell_type": "markdown",
   "metadata": {},
   "source": [
    "### math and assignment short cuts"
   ]
  },
  {
   "cell_type": "code",
   "execution_count": null,
   "metadata": {},
   "outputs": [],
   "source": [
    "# mathematical operators and assignment examples\n",
    "a = a + 1\n",
    "a += 1\n",
    "print(a)\n",
    "\n",
    "a = a - 1\n",
    "a -= 1\n",
    "print(a)\n",
    "\n",
    "a = a * 3\n",
    "a *= 3\n",
    "print(a)\n",
    "\n",
    "a = a / 3\n",
    "a /= 3\n",
    "print(a)"
   ]
  },
  {
   "cell_type": "markdown",
   "metadata": {},
   "source": [
    "### round Function"
   ]
  },
  {
   "cell_type": "code",
   "execution_count": null,
   "metadata": {},
   "outputs": [],
   "source": [
    "# round() - built-in function that rounds argument to nearest integer (up or down)\n",
    "print(round(4.3))\n",
    "print(round(4.6))\n",
    "print(round(5.82673843, 3))\n",
    "print(round(527.924, -2))"
   ]
  },
  {
   "cell_type": "markdown",
   "metadata": {},
   "source": [
    "### input Function"
   ]
  },
  {
   "cell_type": "code",
   "execution_count": null,
   "metadata": {},
   "outputs": [],
   "source": [
    "# input() function -  used to get input from the user via the keyboard\n",
    "# optional argument is the prompt: this is a message outputed to the screen\n",
    "\n",
    "a = input('Enter something for me: ')\n",
    "print(a)"
   ]
  },
  {
   "cell_type": "code",
   "execution_count": null,
   "metadata": {},
   "outputs": [],
   "source": [
    "# input() always returns a string\n",
    "# repr returns a readable version of an object\n",
    "# The isinstance() function returns True if the specified object is of the specified type, otherwise False.\n",
    "\n",
    "a = input('Enter an integer: ')\n",
    "print(repr(a))\n",
    "print(type(a))\n",
    "print (isinstance(a, str))"
   ]
  },
  {
   "cell_type": "markdown",
   "metadata": {},
   "source": [
    "### User Defined Functions"
   ]
  },
  {
   "cell_type": "code",
   "execution_count": null,
   "metadata": {},
   "outputs": [],
   "source": [
    "# user defined functions\n",
    "\n",
    "def multiply(a: float,b: float):  # the parameters for this function are a and b\n",
    "    print(a*b)      # this is the function body\n",
    "\n",
    "multiply(2,3)       # call the function with arguments; they must match up with the parameters\n",
    "\n",
    "funcReturn = multiply(4,3) # multiply() does not return anything\n",
    "print(funcReturn)"
   ]
  },
  {
   "cell_type": "markdown",
   "metadata": {},
   "source": [
    "#### return Statement"
   ]
  },
  {
   "cell_type": "code",
   "execution_count": 150,
   "metadata": {},
   "outputs": [
    {
     "name": "stdout",
     "output_type": "stream",
     "text": [
      "8\n"
     ]
    }
   ],
   "source": [
    "# user defined function with a return statement\n",
    "\n",
    "def power(base:float, exp:float) -> float:\n",
    "    return base ** exp\n",
    "\n",
    "funcReturn  = power(2,3)\n",
    "print(funcReturn)"
   ]
  },
  {
   "cell_type": "markdown",
   "metadata": {},
   "source": [
    "#### pass Statement"
   ]
  },
  {
   "cell_type": "code",
   "execution_count": null,
   "metadata": {},
   "outputs": [],
   "source": [
    "# pass statement - legal code that does nothing\n",
    "# generally provided after a function definition that does not yet have a function body\n",
    "\n",
    "def myFunction():       # legal function definition\n",
    "    pass                # legal function body\n",
    "\n",
    "myFunction()            # function call"
   ]
  },
  {
   "cell_type": "markdown",
   "metadata": {},
   "source": [
    "#### function Scope"
   ]
  },
  {
   "cell_type": "code",
   "execution_count": null,
   "metadata": {},
   "outputs": [],
   "source": [
    "# Scope\n",
    "# Python will always look local scope before global scope (unless explictly directed to do otherwise)\n",
    "\n",
    "x = 10          # global variable defined named x\n",
    "\n",
    "def aFunc():\n",
    "    x = 20      # local variable defined named x\n",
    "    print(x)    # Python looks for any local variables first\n",
    "\n",
    "aFunc()\n",
    "print(x)        # the local variable x does not exist anymore; this is the global x"
   ]
  },
  {
   "cell_type": "code",
   "execution_count": null,
   "metadata": {},
   "outputs": [],
   "source": [
    "# demonstrate why it is not advised to use variable names that are also built-in function names\n",
    "# this unfortunate result occurs because of local vs global scope"
   ]
  },
  {
   "cell_type": "markdown",
   "metadata": {},
   "source": [
    "----\n",
    "\n",
    "# Day 3: Comparison Operators, If Statements, Slicking, Loops\n",
    "\n",
    "---"
   ]
  },
  {
   "cell_type": "markdown",
   "metadata": {},
   "source": [
    "### Comparison operators"
   ]
  },
  {
   "cell_type": "code",
   "execution_count": null,
   "metadata": {},
   "outputs": [],
   "source": [
    "# bool revisited\n",
    "print(type(True))\n",
    "print(type(False))"
   ]
  },
  {
   "cell_type": "code",
   "execution_count": 4,
   "metadata": {},
   "outputs": [
    {
     "name": "stdout",
     "output_type": "stream",
     "text": [
      "False\n",
      "False\n",
      "True\n",
      "True\n",
      "False\n",
      "True\n"
     ]
    }
   ],
   "source": [
    "# comparison operators\n",
    "a = 4\n",
    "b = 3\n",
    "print(a == b)   # equality\n",
    "print(a < b)    # less than\n",
    "print(a > b)    # greater than\n",
    "print(a != b)   # not equal\n",
    "print(a <= b)   # less than or equal\n",
    "print(a >= b)   # greater than or equal"
   ]
  },
  {
   "cell_type": "markdown",
   "metadata": {},
   "source": [
    "### in operator"
   ]
  },
  {
   "cell_type": "code",
   "execution_count": null,
   "metadata": {},
   "outputs": [],
   "source": [
    "# collection membership\n",
    "print('e' in 'hello')\n",
    "print('f' in 'hello')\n",
    "print(1 in [1, 2, 3, 4])\n",
    "print(5 in [1, 2, 3, 4])"
   ]
  },
  {
   "cell_type": "markdown",
   "metadata": {},
   "source": [
    "### is operator"
   ]
  },
  {
   "cell_type": "code",
   "execution_count": 5,
   "metadata": {},
   "outputs": [
    {
     "name": "stdout",
     "output_type": "stream",
     "text": [
      "True\n",
      "False\n",
      "True\n",
      "9776768\n",
      "9776768\n"
     ]
    }
   ],
   "source": [
    "# object id match\n",
    "print(a is a)\n",
    "print(a is b)\n",
    "\n",
    "c = 4\n",
    "print(a is c)\n",
    "print(id(a))\n",
    "print(id(c))"
   ]
  },
  {
   "cell_type": "markdown",
   "metadata": {},
   "source": [
    "### logical operators"
   ]
  },
  {
   "cell_type": "markdown",
   "metadata": {},
   "source": [
    "#### and"
   ]
  },
  {
   "cell_type": "code",
   "execution_count": null,
   "metadata": {},
   "outputs": [],
   "source": [
    "# logical operators\n",
    "\n",
    "# and\n",
    "print(True and True)\n",
    "print(True and False)\n",
    "print(False and True)\n",
    "print(False and False)\n",
    "\n",
    "timeInRank = True\n",
    "enoughPromotionPoints = False\n",
    "\n",
    "elligibleForPromotion  = timeInRank and enoughPromotionPoints\n",
    "\n",
    "print(f'SGT Smith elligble for promotion: {elligibleForPromotion}')"
   ]
  },
  {
   "cell_type": "markdown",
   "metadata": {},
   "source": [
    "#### or"
   ]
  },
  {
   "cell_type": "code",
   "execution_count": null,
   "metadata": {},
   "outputs": [],
   "source": [
    "# or\n",
    "print(True or True)\n",
    "print(True or False)\n",
    "print(False or True)\n",
    "print(False or False)\n",
    "\n",
    "ballThrownToFirstBeforeRunner = True\n",
    "runnerTaggedByBallBeforeFirst = False\n",
    "\n",
    "runnerIsOut = ballThrownToFirstBeforeRunner or runnerTaggedByBallBeforeFirst\n",
    "\n",
    "print(f'The batter is out: {runnerIsOut}')"
   ]
  },
  {
   "cell_type": "markdown",
   "metadata": {},
   "source": [
    "#### not"
   ]
  },
  {
   "cell_type": "code",
   "execution_count": null,
   "metadata": {},
   "outputs": [],
   "source": [
    "# not\n",
    "print(not(True))\n",
    "print(not(False))\n",
    "\n",
    "minesPresent = False\n",
    "\n",
    "safeToProceed = not(minesPresent)\n",
    "\n",
    "print(f'The platoon may proceed through the obstacle: {safeToProceed}')"
   ]
  },
  {
   "cell_type": "markdown",
   "metadata": {},
   "source": [
    "### Order of Operations\n",
    "\n",
    "1. ()\n",
    "2. ** Power\n",
    "3. *, / Multiply & Divide\n",
    "4. +- Addition & Subtraction\n",
    "5. ==, <, >, <=, >=, != \n",
    "6. not\n",
    "7. and\n",
    "8. or"
   ]
  },
  {
   "cell_type": "markdown",
   "metadata": {},
   "source": [
    "## Branching a.k.a Conditional Statements a.k.a Selection Statements"
   ]
  },
  {
   "cell_type": "markdown",
   "metadata": {},
   "source": [
    "### if"
   ]
  },
  {
   "cell_type": "markdown",
   "metadata": {},
   "source": [
    "#### using boolean variable"
   ]
  },
  {
   "cell_type": "code",
   "execution_count": null,
   "metadata": {},
   "outputs": [],
   "source": [
    "# Branching a.k.a conditional statements a.k.a. selection statements\n",
    "\n",
    "# if statement\n",
    "\n",
    "condition = True\n",
    "\n",
    "if condition:\n",
    "    print('this line will display if the condition is True.')\n",
    "\n",
    "print('this line always displays')"
   ]
  },
  {
   "cell_type": "markdown",
   "metadata": {},
   "source": [
    "#### using boolean string method"
   ]
  },
  {
   "cell_type": "code",
   "execution_count": null,
   "metadata": {},
   "outputs": [],
   "source": [
    "# if using a boolean function\n",
    "ui = input('Enter an integer: ')\n",
    "if ui.isdigit():\n",
    "    print(f'The integer you entered is {int(ui)}')"
   ]
  },
  {
   "cell_type": "markdown",
   "metadata": {},
   "source": [
    "### if-else"
   ]
  },
  {
   "cell_type": "markdown",
   "metadata": {},
   "source": [
    "#### using boolean variable"
   ]
  },
  {
   "cell_type": "code",
   "execution_count": null,
   "metadata": {},
   "outputs": [],
   "source": [
    "# if - else\n",
    " \n",
    "condition =  True\n",
    "\n",
    "if condition:\n",
    "    print('this line will display if the condition is True.')\n",
    "else:\n",
    "    print('this line will display if the condition is False.')\n",
    "\n",
    "print('this line always displays.')"
   ]
  },
  {
   "cell_type": "markdown",
   "metadata": {},
   "source": [
    "#### using boolean string method"
   ]
  },
  {
   "cell_type": "code",
   "execution_count": 7,
   "metadata": {},
   "outputs": [
    {
     "name": "stdout",
     "output_type": "stream",
     "text": [
      "The integer you entered is 9\n"
     ]
    }
   ],
   "source": [
    "# if - else using a boolean function\n",
    "ui = input('Enter an integer: ')\n",
    "if ui.isdigit():\n",
    "    print(f'The integer you entered is {int(ui)}')\n",
    "else:\n",
    "    print(f'{ui} is not an integer!')"
   ]
  },
  {
   "cell_type": "markdown",
   "metadata": {},
   "source": [
    "### if-elif-else"
   ]
  },
  {
   "cell_type": "code",
   "execution_count": null,
   "metadata": {},
   "outputs": [],
   "source": [
    "# if - elif -else\n",
    "# elif (short for else if) allows us to test another condition if the first condition is False\n",
    "\n",
    "grade = 100\n",
    "\n",
    "if grade >= 90:\n",
    "    print('You got an A')\n",
    "elif grade >= 80:\n",
    "    print('You got a B')\n",
    "elif grade >= 70:\n",
    "    print('You got a C')\n",
    "elif grade >= 60:\n",
    "    print('You got a D')\n",
    "else:\n",
    "    print('You failed.')"
   ]
  },
  {
   "cell_type": "markdown",
   "metadata": {},
   "source": [
    "#### bad logic used in if-elif-else"
   ]
  },
  {
   "cell_type": "code",
   "execution_count": null,
   "metadata": {},
   "outputs": [],
   "source": [
    "# bad logic - need to go from most specific to least specific\n",
    "\n",
    "grade = 100\n",
    "\n",
    "if grade >= 60:\n",
    "    print('You got an D')\n",
    "elif grade >= 70:\n",
    "    print('You got a C')\n",
    "elif grade >= 80:\n",
    "    print('You got a B')\n",
    "elif grade >= 90:\n",
    "    print('You got a A')\n",
    "else:\n",
    "    print('You failed.')"
   ]
  },
  {
   "cell_type": "markdown",
   "metadata": {},
   "source": [
    "#### correct logic, but unnecessary conditions given if-elif-else construct"
   ]
  },
  {
   "cell_type": "code",
   "execution_count": null,
   "metadata": {},
   "outputs": [],
   "source": [
    "# Correct logic, but unnecessary conditions used given if-elif-else construct\n",
    "\n",
    "grade = 100\n",
    "\n",
    "if grade >= 90:\n",
    "    print('You got an A')\n",
    "elif grade >= 80 and grade < 90:\n",
    "    print('You got a B')\n",
    "elif grade >= 70 and grade < 80:\n",
    "    print('You got a C')\n",
    "elif grade >= 60 and grade < 70:\n",
    "    print('You got a D')\n",
    "else:\n",
    "    print('You failed.')"
   ]
  },
  {
   "cell_type": "markdown",
   "metadata": {},
   "source": [
    "#### determine if user input integer is odd or even"
   ]
  },
  {
   "cell_type": "code",
   "execution_count": null,
   "metadata": {},
   "outputs": [],
   "source": [
    "# odd or even?\n",
    "\n",
    "number = int(input('Enter a number: '))\n",
    "\n",
    "if number % 2 == 0:\n",
    "    print(f'{number} is even.')\n",
    "else:\n",
    "    print(f'{number} is odd.')"
   ]
  },
  {
   "cell_type": "markdown",
   "metadata": {},
   "source": [
    "### len Function"
   ]
  },
  {
   "cell_type": "code",
   "execution_count": null,
   "metadata": {},
   "outputs": [],
   "source": [
    "# len() - built-in funcction that returns the number of elements in a collection\n",
    "aStr = 'hello'\n",
    "print(len(aStr))\n",
    "\n",
    "aList = [1, 2, 3, 4]\n",
    "print(len(aList))\n",
    "\n",
    "aTuple = (1, 2, 3, 4, 5, 6)\n",
    "print(len(aTuple))"
   ]
  },
  {
   "cell_type": "markdown",
   "metadata": {},
   "source": [
    "### Slicing"
   ]
  },
  {
   "cell_type": "code",
   "execution_count": null,
   "metadata": {},
   "outputs": [],
   "source": [
    "# slicing - ordered sequences can be sliced\n",
    "# slicing a string generates a sub-string\n",
    "# slicing a list generates a sub-list\n",
    "# slicing a tuple generates a sub-tuple\n",
    "\n",
    "# syntax\n",
    "# sequence[start:stop:step]\n",
    "# note that step by default is 1 and so may be omitted\n",
    "# start is inclusive\n",
    "# stop is exclusive\n",
    "\n",
    "# index  0  1  2  3  4\n",
    "aList = [1, 2, 3, 4, 5]\n",
    "\n",
    "print(aList[0:1])\n",
    "print(aList[0:2])\n",
    "print(aList[2:4])\n",
    "print(aList[:3])\n",
    "print(aList[3:])\n",
    "print(aList[:])     # creates a shallow copy of the list\n",
    "print(aList[::-1])  # creates a reversed shallow copy of the list\n",
    "\n",
    "a = aList\n",
    "print(a is aList)\n",
    "a = aList[:]\n",
    "print(a is aList)"
   ]
  },
  {
   "cell_type": "markdown",
   "metadata": {},
   "source": [
    "### range Function"
   ]
  },
  {
   "cell_type": "code",
   "execution_count": 8,
   "metadata": {},
   "outputs": [
    {
     "name": "stdout",
     "output_type": "stream",
     "text": [
      "range(0, 10)\n",
      "<class 'range'>\n",
      "[0, 1, 2, 3, 4, 5, 6, 7, 8, 9]\n",
      "[1, 2, 3, 4, 5, 6, 7, 8, 9]\n",
      "[1, 3, 5, 7, 9]\n",
      "[10, 9, 8, 7, 6, 5, 4, 3, 2, 1, 0]\n"
     ]
    }
   ],
   "source": [
    "# range() - built-in function that creates a range object\n",
    "# arguments are start, stop, step where only stop is mandatory; by default start is 0 and step is 1\n",
    "\n",
    "print(range(10))\n",
    "print(type(range(10)))\n",
    "\n",
    "print(list(range(10)))          # ordered sequence from 0 to 9\n",
    "print(list(range(1,10)))        # ordered sequence from 1 to 9\n",
    "print(list(range(1,10,2)))      # ordered sequence of odd numbers from 1 to 9\n",
    "print(list(range(10,-1,-1)))    # ordered sequence from 10 to 0"
   ]
  },
  {
   "cell_type": "code",
   "execution_count": null,
   "metadata": {},
   "outputs": [],
   "source": [
    "# How can I get a sequence of indices for a string?\n",
    "myString = 'Hello World'\n",
    "myStringIndices = list(range(len(myString)))\n",
    "print(myStringIndices)"
   ]
  },
  {
   "cell_type": "markdown",
   "metadata": {},
   "source": [
    "## Loops"
   ]
  },
  {
   "cell_type": "markdown",
   "metadata": {},
   "source": [
    "### while loops"
   ]
  },
  {
   "cell_type": "markdown",
   "metadata": {},
   "source": [
    "#### using boolean variable as condition"
   ]
  },
  {
   "cell_type": "code",
   "execution_count": null,
   "metadata": {},
   "outputs": [],
   "source": [
    "# while loop - used for indefinite iteration\n",
    "# a while loop executes if a condition is True, and will continue as long as the condition is true\n",
    "# think of it as a repeating if statement\n",
    "\n",
    "condition  = False\n",
    "while condition:\n",
    "    print('This line will never display.')"
   ]
  },
  {
   "cell_type": "markdown",
   "metadata": {},
   "source": [
    "####  using boolean expression as condition"
   ]
  },
  {
   "cell_type": "code",
   "execution_count": null,
   "metadata": {},
   "outputs": [],
   "source": [
    "# boolean expression as condition for while loop\n",
    "\n",
    "a = 0\n",
    "while a < 5:\n",
    "    print(f'Loop iteration: {a}')\n",
    "    a += 1"
   ]
  },
  {
   "cell_type": "code",
   "execution_count": null,
   "metadata": {},
   "outputs": [],
   "source": [
    "# Using a Flag to exit a While Loop\n",
    "a = 0\n",
    "done = False\n",
    "while not done:\n",
    "    print(a)\n",
    "    a += 1\n",
    "    if a > 5:\n",
    "        done = True"
   ]
  },
  {
   "cell_type": "markdown",
   "metadata": {},
   "source": [
    "#### infinite loops"
   ]
  },
  {
   "cell_type": "code",
   "execution_count": null,
   "metadata": {},
   "outputs": [],
   "source": [
    "# infinite loop occurs if the there is no mechanism for the loop condition to become False\n",
    "\n",
    "a = 0\n",
    "while a < 5:\n",
    "    print('This line displays forever!')"
   ]
  },
  {
   "cell_type": "markdown",
   "metadata": {},
   "source": [
    "#### Review of values evaluating to True or False"
   ]
  },
  {
   "cell_type": "code",
   "execution_count": 9,
   "metadata": {},
   "outputs": [
    {
     "name": "stdout",
     "output_type": "stream",
     "text": [
      "Empty string evaluates to False\n",
      "Non-empty string evaluates to True\n",
      "Empty list evaluates to False\n",
      "Non-empty list evaluates to True\n"
     ]
    }
   ],
   "source": [
    "# All values evaulate to True or False as a condition, not just boolean data types\n",
    "# Some non-bool data types values that evaluate to False as a condition\n",
    "\n",
    "if '':\n",
    "    print('Does not display')\n",
    "else:\n",
    "    print('Empty string evaluates to False')\n",
    "\n",
    "if ' ':\n",
    "    print('Non-empty string evaluates to True')\n",
    "else:\n",
    "    print('Does not display')\n",
    "\n",
    "if []:\n",
    "    print('Does not display')\n",
    "else:\n",
    "    print('Empty list evaluates to False')\n",
    "\n",
    "if [1]:\n",
    "    print('Non-empty list evaluates to True')\n",
    "else:\n",
    "    print('Does not display')"
   ]
  },
  {
   "cell_type": "markdown",
   "metadata": {},
   "source": [
    "#### Check to see if user provided any substantive input (not the empty string)"
   ]
  },
  {
   "cell_type": "code",
   "execution_count": null,
   "metadata": {},
   "outputs": [],
   "source": [
    "# Non-empty string user input will be treated as True\n",
    "# Empty string user input will be treated as False\n",
    "\n",
    "ui = input('Enter some characters: ')\n",
    "\n",
    "if ui:\n",
    "    print(ui)\n",
    "else:\n",
    "    print('Nothing provided!')"
   ]
  },
  {
   "cell_type": "markdown",
   "metadata": {},
   "source": [
    "#### Continue to accept user input until user enters empty string"
   ]
  },
  {
   "cell_type": "code",
   "execution_count": null,
   "metadata": {},
   "outputs": [],
   "source": [
    "# Append user input to a list until the user enters the empty string\n",
    "\n",
    "uiList = []\n",
    "\n",
    "ui = input('Enter some characters or simply enter to stop: ')\n",
    "while ui:\n",
    "    uiList.append(ui)\n",
    "    ui = input('Enter some characters or simply enter to stop: ')\n",
    "\n",
    "print(uiList)"
   ]
  },
  {
   "cell_type": "markdown",
   "metadata": {},
   "source": [
    "#### break statement"
   ]
  },
  {
   "cell_type": "code",
   "execution_count": null,
   "metadata": {},
   "outputs": [],
   "source": [
    "# the break statement will immediately and permanently end the execution of a loop\n",
    "\n",
    "uiList = []\n",
    "\n",
    "while True:\n",
    "    ui = input('Enter some charact    if not num % 3 or not num % 5:\n",
    "        print(num)\n",
    "    elif: not num % 3:\n",
    "        print('fizz')\n",
    "    elif: not num % 5:\n",
    "        print('buzz')\n",
    "    else: \n",
    "        print('fizzbuzz')ers or simply enter to stop: ')\n",
    "    if not ui:\n",
    "        break\n",
    "    uiList.append(ui)\n",
    "    \n",
    "\n",
    "print(uiList)"
   ]
  },
  {
   "cell_type": "markdown",
   "metadata": {},
   "source": [
    "#### continue statement"
   ]
  },
  {
   "cell_type": "code",
   "execution_count": null,
   "metadata": {},
   "outputs": [],
   "source": [
    "# the continue statement will immediately end the current iteration of the loop \n",
    "# and go to the next iteration (if the loop condition is still True)\n",
    "\n",
    "# use a while loop to append only single digit odd numbers to a list\n",
    "\n",
    "oddList = []\n",
    "num = 0\n",
    "\n",
    "while num < 10:\n",
    "    num += 1\n",
    "    if num % 2 == 0:\n",
    "        continue\n",
    "    oddList.append(num)\n",
    "\n",
    "print(oddList)\n"
   ]
  },
  {
   "cell_type": "markdown",
   "metadata": {},
   "source": [
    "#### break and continue together"
   ]
  },
  {
   "cell_type": "code",
   "execution_count": null,
   "metadata": {},
   "outputs": [],
   "source": [
    "# use break and continue to add integers from user input, break on empty string\n",
    "# however validate user only enters integers\n",
    "\n",
    "userSum = 0\n",
    "\n",
    "while True:\n",
    "    ui = input('Enter an integer: ')\n",
    "    if not ui:\n",
    "        break\n",
    "    if not ui.isdigit():\n",
    "        print('That is not an integer, try again!')\n",
    "        continue\n",
    "    userSum += int(ui)\n",
    "    print(f'Your running total is: {userSum}')\n",
    "\n",
    "print(f'Thanks for using the calculator! The total is: {userSum}')"
   ]
  },
  {
   "cell_type": "markdown",
   "metadata": {},
   "source": [
    "### for loops"
   ]
  },
  {
   "cell_type": "code",
   "execution_count": 12,
   "metadata": {},
   "outputs": [
    {
     "name": "stdout",
     "output_type": "stream",
     "text": [
      "The loop variable i is assigned the value: 5\n",
      "The loop variable i is assigned the value: 6\n",
      "The loop variable i is assigned the value: 7\n",
      "The loop variable i is assigned the value: 8\n",
      "The loop variable i is assigned the value: 9\n"
     ]
    }
   ],
   "source": [
    "# for loop - used for definite iteration\n",
    "# employs a loop variable and a loop sequence\n",
    "# loop sequence values are assinged the loop variable one iteration at a time\n",
    "\n",
    "#    loop var        loop sequence\n",
    "for    i      in     range(10):\n",
    "    print(f'The loop variable i is assigned the value: {i}')"
   ]
  },
  {
   "cell_type": "markdown",
   "metadata": {},
   "source": [
    "#### using a string as the loop sequence"
   ]
  },
  {
   "cell_type": "code",
   "execution_count": null,
   "metadata": {},
   "outputs": [],
   "source": [
    "# using a string as the loop sequence\n",
    "\n",
    "#    loop var        loop sequence\n",
    "for   char     in      'hello':\n",
    "    print(f'The loop variable char is assigned the value: {char}')"
   ]
  },
  {
   "cell_type": "markdown",
   "metadata": {},
   "source": [
    "#### using a list as the loop sequence"
   ]
  },
  {
   "cell_type": "code",
   "execution_count": 14,
   "metadata": {},
   "outputs": [
    {
     "name": "stdout",
     "output_type": "stream",
     "text": [
      "The loop variable item is assigned the value: 1\n",
      "The loop variable item is assigned the value: hello\n",
      "The loop variable item is assigned the value: (0, 0)\n",
      "The loop variable item is assigned the value: [1, 2, 3]\n",
      "The loop variable item is assigned the value: True\n",
      "The loop variable item is assigned the value: 1.1\n"
     ]
    }
   ],
   "source": [
    "# using a list as the loop sequence\n",
    "\n",
    "#    loop var                  loop sequence\n",
    "for   item     in      [1, 'hello', (0,0), [1,2,3], True, 1.1]:\n",
    "    print(f'The loop variable item is assigned the value: {item}')"
   ]
  },
  {
   "cell_type": "markdown",
   "metadata": {},
   "source": [
    "#### break and continue in for loop"
   ]
  },
  {
   "cell_type": "code",
   "execution_count": null,
   "metadata": {},
   "outputs": [],
   "source": [
    "# break and continue can also be used in a for loop\n",
    "\n",
    "# multiply odd numbers from 1 to 99, but stop when product exceeds 1000000000 (one billion)\n",
    "# don't use step for range to generate odd numbers\n",
    "\n",
    "product = 1\n",
    "\n",
    "for i in range(1,100):\n",
    "    if i % 2 == 0:\n",
    "        continue\n",
    "    product *= i\n",
    "    if product > 1000000000:\n",
    "        break\n",
    "\n",
    "print(f'The loop stopped when i was assigned {i} and the product was {product}.')"
   ]
  },
  {
   "cell_type": "markdown",
   "metadata": {},
   "source": [
    "### list comprehensions"
   ]
  },
  {
   "cell_type": "code",
   "execution_count": null,
   "metadata": {},
   "outputs": [],
   "source": [
    "# list comprehension\n",
    "\n",
    "#syntax --> [ valueExpression for controlVariable in iterator whereClause]\n",
    "\n",
    "# list of squares of single digit integers\n",
    "\n",
    "#          valueExpression          contolVariable             iterator\n",
    "squares = [x*x               for     x                in      range(1,10)]\n",
    "print(squares)"
   ]
  },
  {
   "cell_type": "code",
   "execution_count": null,
   "metadata": {},
   "outputs": [],
   "source": [
    "# list of squares of single digit even integers\n",
    "\n",
    "#          valueExpression          contolVariable             iterator         whereClause\n",
    "evenSquares = [x*x               for     x                in      range(1,10)      if x % 2 == 0]\n",
    "print(evenSquares)"
   ]
  },
  {
   "cell_type": "code",
   "execution_count": 17,
   "metadata": {},
   "outputs": [
    {
     "name": "stdout",
     "output_type": "stream",
     "text": [
      "['A', 'B', 'C', 'D', 'E', 'F', 'G', 'H', 'I', 'J', 'K', 'L', 'M', 'N', 'O', 'P', 'Q', 'R', 'S', 'T', 'U', 'V', 'W', 'X', 'Y', 'Z']\n",
      "['a', 'b', 'c', 'd', 'e', 'f', 'g', 'h', 'i', 'j', 'k', 'l', 'm', 'n', 'o', 'p', 'q', 'r', 's', 't', 'u', 'v', 'w', 'x', 'y', 'z']\n"
     ]
    }
   ],
   "source": [
    "# list of uppercase letters\n",
    "upperLetters = [chr(x) for x in range(65,91)]\n",
    "print(upperLetters)\n",
    "\n",
    "# list of lowercase letters\n",
    "lowerLetters = [chr(x) for x in range(97, 123)]\n",
    "print(lowerLetters)"
   ]
  },
  {
   "cell_type": "code",
   "execution_count": 19,
   "metadata": {},
   "outputs": [
    {
     "name": "stdout",
     "output_type": "stream",
     "text": [
      "[4]\n"
     ]
    }
   ],
   "source": [
    "intList = [int(x) for x in input().split()]\n",
    "\n",
    "print (intList)"
   ]
  },
  {
   "cell_type": "markdown",
   "metadata": {},
   "source": [
    "---\n",
    "\n",
    "# Day 4\n",
    "\n",
    "---"
   ]
  },
  {
   "cell_type": "markdown",
   "metadata": {},
   "source": [
    "## File IO"
   ]
  },
  {
   "cell_type": "markdown",
   "metadata": {},
   "source": [
    "### `open` Function"
   ]
  },
  {
   "cell_type": "code",
   "execution_count": null,
   "metadata": {},
   "outputs": [],
   "source": [
    "# file I/O\n",
    "\n",
    "# open() - built-in fucnction for opening files, returns a file object\n",
    "\n",
    "# mandatory argument is the file name; optional argument is mode; by default the mode is 'r'\n",
    "\n",
    "fp = open('test.txt', 'r')  # file object stored in variable fp\n",
    "fp.close()                  # close() is a file object method"
   ]
  },
  {
   "cell_type": "markdown",
   "metadata": {},
   "source": [
    "### `with` Keyword"
   ]
  },
  {
   "cell_type": "code",
   "execution_count": null,
   "metadata": {},
   "outputs": [],
   "source": [
    "# files must be closed after using it\n",
    "# the with statement ensures the file is closed without an explicit close()\n",
    "\n",
    "with open('test.txt', 'r') as fp:\n",
    "    pass"
   ]
  },
  {
   "cell_type": "markdown",
   "metadata": {},
   "source": [
    "### `.read()` Method"
   ]
  },
  {
   "cell_type": "code",
   "execution_count": 7,
   "metadata": {},
   "outputs": [
    {
     "name": "stdout",
     "output_type": "stream",
     "text": [
      "['this is a simple text', 'file to start off Day 4', 'showcasing File I/O.']\n"
     ]
    }
   ],
   "source": [
    "# reading files\n",
    "# read() - method for reading entire file returning a string; file must have been opened in a mode supporting read\n",
    "# The splitlines() method splits a string into a list. The splitting is done at line breaks.\n",
    "\n",
    "with open('test.txt', 'r') as fp:\n",
    "    # print(fp.read()) \n",
    "    print(fp.read().splitlines())  "
   ]
  },
  {
   "cell_type": "code",
   "execution_count": null,
   "metadata": {},
   "outputs": [],
   "source": [
    "# read() - optional argument is number of characters to read from file\n",
    "\n",
    "with open('test.txt', 'r') as fp:\n",
    "    print(fp.read(5))"
   ]
  },
  {
   "cell_type": "markdown",
   "metadata": {},
   "source": [
    "### `.readline()` Method"
   ]
  },
  {
   "cell_type": "code",
   "execution_count": null,
   "metadata": {},
   "outputs": [],
   "source": [
    "# readline() - read one line from a file returning a string\n",
    "\n",
    "with open('test.txt', 'r') as fp:\n",
    "    print(fp.readline())\n",
    "\n",
    "with open('test.txt', 'r') as fp:\n",
    "    for i in range(2):\n",
    "        print(f'Line {i}: {fp.readline().strip()}') # strip removes return carriage \\n"
   ]
  },
  {
   "cell_type": "markdown",
   "metadata": {},
   "source": [
    "### `.readlines()` Method"
   ]
  },
  {
   "cell_type": "code",
   "execution_count": 1,
   "metadata": {},
   "outputs": [
    {
     "name": "stdout",
     "output_type": "stream",
     "text": [
      "['line1line2\\n', 'line3\\n', 'line4\\n', 'line5']\n"
     ]
    }
   ],
   "source": [
    "# readlines() - read entire file returning a list where each line is a an element in the list\n",
    "\n",
    "with open('test.txt', 'r') as fp:\n",
    "    print(fp.readlines())"
   ]
  },
  {
   "cell_type": "markdown",
   "metadata": {},
   "source": [
    "### file objects are iterable"
   ]
  },
  {
   "cell_type": "code",
   "execution_count": null,
   "metadata": {},
   "outputs": [],
   "source": [
    "# we can also iterate through a file object to get one line on each iteration\n",
    "\n",
    "with open('test.txt', 'r') as fp:\n",
    "    print(fp.read())\n",
    "    for line in fp:\n",
    "        print(line.strip('\\n'))"
   ]
  },
  {
   "cell_type": "markdown",
   "metadata": {},
   "source": [
    "### `.write()` Method"
   ]
  },
  {
   "cell_type": "markdown",
   "metadata": {},
   "source": [
    "#### `'w'` mode when opening file"
   ]
  },
  {
   "cell_type": "code",
   "execution_count": null,
   "metadata": {},
   "outputs": [],
   "source": [
    "# write() - method for writing a string to a file; file must have been opened in a mode supporting write\n",
    "\n",
    "# 'w' mode will create the file if it does not exist; if it exists it will truncate the file\n",
    "with open('test.txt', 'w') as fp:\n",
    "    fp.write('line1\\nline2\\nline3\\nline4\\nline5')"
   ]
  },
  {
   "cell_type": "markdown",
   "metadata": {},
   "source": [
    "#### `'a'` mode when opening file"
   ]
  },
  {
   "cell_type": "code",
   "execution_count": null,
   "metadata": {},
   "outputs": [],
   "source": [
    "# 'a' mode will create the file if it does not exist; if it exists it will append to the end of the file\n",
    "\n",
    "with open('test.txt', 'a') as fp:\n",
    "    fp.write('\\nline6')"
   ]
  },
  {
   "cell_type": "markdown",
   "metadata": {},
   "source": [
    "### `.writelines()` Method"
   ]
  },
  {
   "cell_type": "code",
   "execution_count": 11,
   "metadata": {},
   "outputs": [],
   "source": [
    "# writelines() - method for writing a list to a file\n",
    "\n",
    "with open('test.txt', 'w') as fp:\n",
    "    fp.writelines(['line1\\n','line2\\n','line3\\n','line4\\n','line5'])"
   ]
  },
  {
   "cell_type": "markdown",
   "metadata": {},
   "source": [
    "### `.tell()` and `.seek()` Methods"
   ]
  },
  {
   "cell_type": "code",
   "execution_count": null,
   "metadata": {},
   "outputs": [],
   "source": [
    "# tell() - method that returns the current read/write position in the file\n",
    "# seek() - method that moves read/write position to seek argument\n",
    "\n",
    "with open('test.txt', 'r') as fp:\n",
    "    print(fp.read(5))\n",
    "    print(fp.tell())\n",
    "    fp.seek(0)\n",
    "    print(fp.read(11))\n",
    "    print(fp.tell())\n",
    "    fp.seek(0)\n",
    "    print(fp.read())\n",
    "    print(fp.tell())"
   ]
  },
  {
   "cell_type": "markdown",
   "metadata": {},
   "source": [
    "### multi-mode"
   ]
  },
  {
   "cell_type": "code",
   "execution_count": 12,
   "metadata": {},
   "outputs": [
    {
     "name": "stdout",
     "output_type": "stream",
     "text": [
      "0\n",
      "line1line2\n",
      "line3\n",
      "line4\n",
      "line5\n",
      "28\n",
      "\n"
     ]
    }
   ],
   "source": [
    "# open a file in multi-mode\n",
    "# 'r+' - reading and writing with no truncation (file must exist)\n",
    "# 'w+' - reading and writing but file is truncated (file need not exist)\n",
    "# 'a+' - reading and writing with no truncation (cursor is at end of the file)\n",
    "\n",
    "with open('test.txt', 'r+') as fp:\n",
    "    print(fp.tell())\n",
    "    print(fp.read())\n",
    "\n",
    "with open('test.txt', 'a+') as fp:\n",
    "    print(fp.tell())\n",
    "    print(fp.read())"
   ]
  },
  {
   "cell_type": "markdown",
   "metadata": {},
   "source": [
    "### open two files with one with statement"
   ]
  },
  {
   "cell_type": "code",
   "execution_count": null,
   "metadata": {},
   "outputs": [],
   "source": [
    "# copy one file to another using one with statatemnt\n",
    "\n",
    "with open('test.txt', 'r') as inFile, open('copyTest.txt', 'w') as outFile:\n",
    "    contents = inFile.read()\n",
    "    outFile.write(contents)"
   ]
  },
  {
   "cell_type": "markdown",
   "metadata": {},
   "source": [
    "### continually write user input to file until user enters empty string"
   ]
  },
  {
   "cell_type": "code",
   "execution_count": null,
   "metadata": {},
   "outputs": [],
   "source": [
    "# write user input to file until empty string\n",
    "\n",
    "with open('userInput.txt', 'w') as fp:\n",
    "    ui = input('Enter some characters or simply enter to quit: ')\n",
    "    while ui:\n",
    "        fp.write(ui + '\\n')\n",
    "        ui = input('Enter some characters or simply enter to quit: ')"
   ]
  },
  {
   "cell_type": "markdown",
   "metadata": {},
   "source": [
    "## Using Standard Library Modules"
   ]
  },
  {
   "cell_type": "markdown",
   "metadata": {},
   "source": [
    "### import Statement"
   ]
  },
  {
   "cell_type": "markdown",
   "metadata": {},
   "source": [
    "#### math Module"
   ]
  },
  {
   "cell_type": "code",
   "execution_count": null,
   "metadata": {},
   "outputs": [],
   "source": [
    "# import the entire module\n",
    "import math\n",
    "print(math.pi) # access the constant pi"
   ]
  },
  {
   "cell_type": "code",
   "execution_count": null,
   "metadata": {},
   "outputs": [],
   "source": [
    "print(math.sqrt(4)) # calculate square root of a number"
   ]
  },
  {
   "cell_type": "code",
   "execution_count": null,
   "metadata": {},
   "outputs": [],
   "source": [
    "print(math.hypot(3,4)) # calculate hypotenuse of a triangle given length of other two sides"
   ]
  },
  {
   "cell_type": "markdown",
   "metadata": {},
   "source": [
    "#### random Module"
   ]
  },
  {
   "cell_type": "code",
   "execution_count": 17,
   "metadata": {},
   "outputs": [
    {
     "name": "stdout",
     "output_type": "stream",
     "text": [
      "0.8623819910467897\n"
     ]
    }
   ],
   "source": [
    "import random\n",
    "print(random.random())"
   ]
  },
  {
   "cell_type": "code",
   "execution_count": null,
   "metadata": {},
   "outputs": [],
   "source": [
    "print(random.randint(1,6)) # both numbers inclusive\n",
    "print(random.randrange(1, 6)) # first number inclusive, second number exclusive"
   ]
  },
  {
   "cell_type": "code",
   "execution_count": null,
   "metadata": {},
   "outputs": [],
   "source": [
    "print(random.choice([1,2,3,4,5,6]))"
   ]
  },
  {
   "cell_type": "code",
   "execution_count": null,
   "metadata": {},
   "outputs": [],
   "source": [
    "aList = [1,2,3,4,5,6]\n",
    "random.shuffle(aList)\n",
    "print(aList)"
   ]
  },
  {
   "cell_type": "markdown",
   "metadata": {},
   "source": [
    "#### copy Module"
   ]
  },
  {
   "cell_type": "code",
   "execution_count": null,
   "metadata": {},
   "outputs": [],
   "source": [
    "import copy\n",
    "aList = [[1,2,3], [4,5,6], [7,8,9]]\n",
    "bList = copy.copy(aList)        # perform a shallow copy of aList\n",
    "print(f'copy: {aList is bList}')           # aList and bList are different objects\n",
    "for i in range(len(aList)):\n",
    "    print(aList[i] is bList[i]) # aList[i] and bList[i] are the same objects\n",
    "\n",
    "bList = copy.deepcopy(aList)    # perform a deep copy of aList\n",
    "print(f'deepcopy: {aList is bList}')           # aList and bList are different objects\n",
    "for i in range(len(aList)):\n",
    "    print(aList[i] is bList[i]) # aList[i] and bList[i] are different objects"
   ]
  },
  {
   "cell_type": "markdown",
   "metadata": {},
   "source": [
    "#### Alternative Import Statements"
   ]
  },
  {
   "cell_type": "code",
   "execution_count": null,
   "metadata": {},
   "outputs": [],
   "source": [
    "# import specific functions from the import module using the \"from\" keyword\n",
    "from math import pi"
   ]
  },
  {
   "cell_type": "code",
   "execution_count": null,
   "metadata": {},
   "outputs": [],
   "source": [
    "# import all functions to eliminate module name reference\n",
    "from math import *"
   ]
  },
  {
   "cell_type": "code",
   "execution_count": null,
   "metadata": {},
   "outputs": [],
   "source": [
    "# import custom modules from other documents\n",
    "\n",
    "import myModule\n",
    "myModule.myFunc()"
   ]
  },
  {
   "cell_type": "markdown",
   "metadata": {},
   "source": [
    "# Day 5"
   ]
  },
  {
   "cell_type": "markdown",
   "metadata": {},
   "source": [
    "## Sets"
   ]
  },
  {
   "cell_type": "markdown",
   "metadata": {},
   "source": [
    "### Definition"
   ]
  },
  {
   "cell_type": "markdown",
   "metadata": {},
   "source": [
    "- Sets are an unorded collection of unique values\n",
    "- Sets can only contain immutable data types\n",
    "- Duplicates are NOT allowed\n",
    "- Sets are wrapped in `{}` curly braces"
   ]
  },
  {
   "cell_type": "markdown",
   "metadata": {},
   "source": [
    "### `set()` constructor"
   ]
  },
  {
   "cell_type": "code",
   "execution_count": null,
   "metadata": {},
   "outputs": [],
   "source": [
    "# make a new empty set\n",
    "\n",
    "new_set = set()"
   ]
  },
  {
   "cell_type": "markdown",
   "metadata": {},
   "source": [
    "### `.union()` Method"
   ]
  },
  {
   "cell_type": "code",
   "execution_count": 4,
   "metadata": {},
   "outputs": [
    {
     "name": "stdout",
     "output_type": "stream",
     "text": [
      "{1, 2, 3, 4, 5, 6, 7, 8}\n"
     ]
    }
   ],
   "source": [
    "# Two sets containing unique and overlapping values\n",
    "# .union method combines sets\n",
    "\n",
    "set1 = {1, 2, 3, 4, 5}\n",
    "set2 = {4, 5, 6, 7, 8}\n",
    "combo_sets = set1.union(set2)\n",
    "print(combo_sets)\n"
   ]
  },
  {
   "cell_type": "code",
   "execution_count": 9,
   "metadata": {},
   "outputs": [
    {
     "name": "stdout",
     "output_type": "stream",
     "text": [
      "{1, 2, 3, 4, 5, 6, 7, 8, 9}\n"
     ]
    }
   ],
   "source": [
    "# union of more than two sets\n",
    "\n",
    "set1 = {1, 2, 3, 4, 5}\n",
    "set2 = {4, 5, 6, 7, 8}\n",
    "set3 = {1, 9}\n",
    "\n",
    "combo = set1.union(set2, set3)\n",
    "print(combo)\n"
   ]
  },
  {
   "cell_type": "markdown",
   "metadata": {},
   "source": [
    "### `.difference()` Method"
   ]
  },
  {
   "cell_type": "code",
   "execution_count": 7,
   "metadata": {},
   "outputs": [
    {
     "name": "stdout",
     "output_type": "stream",
     "text": [
      "{1, 2, 3}\n",
      "{8, 6, 7}\n"
     ]
    }
   ],
   "source": [
    "# difference method - what is in the first set that is NOT in the second set\n",
    "\n",
    "set1 = {1, 2, 3, 4, 5}\n",
    "set2 = {4, 5, 6, 7, 8}\n",
    "\n",
    "in_1_not_2 = set1.difference(set2)\n",
    "in_2_not_1 = set2.difference(set1)\n",
    "print(in_1_not_2)\n",
    "print(in_2_not_1)"
   ]
  },
  {
   "cell_type": "code",
   "execution_count": 10,
   "metadata": {},
   "outputs": [
    {
     "name": "stdout",
     "output_type": "stream",
     "text": [
      "{2, 3}\n"
     ]
    }
   ],
   "source": [
    "# difference of more than two sets\n",
    "\n",
    "set1 = {1, 2, 3, 4, 5}\n",
    "set2 = {4, 5, 6, 7, 8}\n",
    "set3 = {1, 9}\n",
    "\n",
    "different = set1.difference(set2, set3)\n",
    "print(different)"
   ]
  },
  {
   "cell_type": "markdown",
   "metadata": {},
   "source": [
    "### `.intersection()` Method"
   ]
  },
  {
   "cell_type": "code",
   "execution_count": 13,
   "metadata": {},
   "outputs": [
    {
     "name": "stdout",
     "output_type": "stream",
     "text": [
      "{4, 5}\n"
     ]
    }
   ],
   "source": [
    "# .intersection method - what is found in both\n",
    "\n",
    "set1 = {1, 2, 3, 4, 5}\n",
    "set2 = {4, 5, 6, 7, 8}\n",
    "\n",
    "in_both = set1.intersection(set2)\n",
    "print(in_both)"
   ]
  },
  {
   "cell_type": "code",
   "execution_count": 11,
   "metadata": {},
   "outputs": [
    {
     "name": "stdout",
     "output_type": "stream",
     "text": [
      "set()\n"
     ]
    }
   ],
   "source": [
    "# intersection of more than two sets. Looks for what's in common across ALL of the sets.\n",
    "\n",
    "set1 = {1, 2, 3, 4, 5}\n",
    "set2 = {4, 5, 6, 7, 8}\n",
    "set3 = {1, 9}\n",
    "\n",
    "found_all = set1.intersection(set2, set3)\n",
    "print(found_all)\n"
   ]
  },
  {
   "cell_type": "markdown",
   "metadata": {},
   "source": [
    "### `.add()` Method"
   ]
  },
  {
   "cell_type": "code",
   "execution_count": 14,
   "metadata": {},
   "outputs": [
    {
     "name": "stdout",
     "output_type": "stream",
     "text": [
      "{1, 2, 3, 4, 5, 100}\n",
      "{0, 1, 2, 3, 4, 5, 100}\n",
      "{0, 1, 2, 3, 4, 5, 100, 50}\n"
     ]
    }
   ],
   "source": [
    "# .add Method - adds entries to a pre-existing set\n",
    "\n",
    "set1 = {1, 2, 3, 4, 5}\n",
    "\n",
    "# add 100 to the set\n",
    "\n",
    "set1.add(100) #100\n",
    "print(set1)\n",
    "set1.add(0) # 0\n",
    "print(set1)\n",
    "set1.add(50) # 50\n",
    "print(set1)"
   ]
  },
  {
   "cell_type": "markdown",
   "metadata": {},
   "source": [
    "### `set()` Constructor"
   ]
  },
  {
   "cell_type": "code",
   "execution_count": 16,
   "metadata": {},
   "outputs": [
    {
     "name": "stdout",
     "output_type": "stream",
     "text": [
      "{3, 'that'}\n"
     ]
    }
   ],
   "source": [
    "# set() constructor creates sets from lists and tuples\n",
    "\n",
    "# Starting with 2 lists of various data types, convert to a set and compare:\n",
    "\n",
    "# two list with differing and overlapping strings and integers\n",
    "lst1 = ['this', 'that', 1, 2, 3, 1, 2, 3]\n",
    "lst2 = ['that', 'those', 3, 4, 5, 3, 4, 5]\n",
    "\n",
    "# convert lists to sets\n",
    "set1 = set(lst1)\n",
    "set2 = set(lst2)\n",
    "\n",
    "# what is found in both? - .intersection()\n",
    "overlap_sets = set1.intersection(set2)\n",
    "print(overlap_sets)\n"
   ]
  },
  {
   "cell_type": "markdown",
   "metadata": {},
   "source": [
    "## Dictionaries"
   ]
  },
  {
   "cell_type": "markdown",
   "metadata": {},
   "source": [
    "### Definition"
   ]
  },
  {
   "cell_type": "markdown",
   "metadata": {},
   "source": [
    "- Dictionaries are wrapped in `{}`\n",
    "- Used {key:value} pairs\n",
    "- Pairs are comma separated: {key1:value1, key2:value2}\n",
    "- keys cannot be duplicated\n",
    "- values may be duplicated "
   ]
  },
  {
   "cell_type": "markdown",
   "metadata": {},
   "source": [
    "### Create a dictionary"
   ]
  },
  {
   "cell_type": "code",
   "execution_count": 20,
   "metadata": {},
   "outputs": [
    {
     "name": "stdout",
     "output_type": "stream",
     "text": [
      "{}\n",
      "<class 'dict'>\n"
     ]
    }
   ],
   "source": [
    "# empty dictionary\n",
    "\n",
    "d = {}\n",
    "print(d)\n",
    "print(type(d))"
   ]
  },
  {
   "cell_type": "code",
   "execution_count": 21,
   "metadata": {},
   "outputs": [
    {
     "name": "stdout",
     "output_type": "stream",
     "text": [
      "{'red': 'apple', 'yellow': 'lemon', 'green': 'green apple', 'blue': 'cotton candy', 'pink': 'cotton candy'}\n"
     ]
    }
   ],
   "source": [
    "# build a dictionary of crayons as keys and flavors as values\n",
    "\n",
    "crayons = {'red':'apple', 'yellow':'lemon', 'green':'green apple', 'blue':'cotton candy', 'pink':'cotton candy'}\n",
    "print(crayons)"
   ]
  },
  {
   "cell_type": "markdown",
   "metadata": {},
   "source": [
    "### Accessing Items in the Dictionary"
   ]
  },
  {
   "cell_type": "markdown",
   "metadata": {},
   "source": [
    "#### Access Values Via Key"
   ]
  },
  {
   "cell_type": "code",
   "execution_count": 29,
   "metadata": {},
   "outputs": [
    {
     "name": "stdout",
     "output_type": "stream",
     "text": [
      "lemon\n"
     ]
    }
   ],
   "source": [
    "# Get the flavor of yellow \n",
    "\n",
    "print(crayons['yellow'])"
   ]
  },
  {
   "cell_type": "markdown",
   "metadata": {},
   "source": [
    "#### `.keys()` Method"
   ]
  },
  {
   "cell_type": "code",
   "execution_count": null,
   "metadata": {},
   "outputs": [],
   "source": [
    "# creates a list of just keys\n",
    "\n",
    "just_keys = crayons.keys()\n",
    "print(just_keys)\n",
    "print(type(just_keys))\n",
    "\n",
    "# make this a list data type of the keys\n",
    "just_keys = list(crayons.keys())\n",
    "print(just_keys)\n",
    "print(type(just_keys))\n",
    "\n",
    "# Notice the class change from the \"dict_keys\" to the list data type."
   ]
  },
  {
   "cell_type": "markdown",
   "metadata": {},
   "source": [
    "#### `.values()` Method"
   ]
  },
  {
   "cell_type": "code",
   "execution_count": null,
   "metadata": {},
   "outputs": [],
   "source": [
    "# creates a list of just values. Note, duplicates are possible.\n",
    "\n",
    "just_values = crayons.values()\n",
    "print(just_values)"
   ]
  },
  {
   "cell_type": "markdown",
   "metadata": {},
   "source": [
    "#### `.items()` Method"
   ]
  },
  {
   "cell_type": "code",
   "execution_count": null,
   "metadata": {},
   "outputs": [],
   "source": [
    "# Creates a list of tuple key/value pairs. \n",
    "\n",
    "key_value_pairs = crayons.items()\n",
    "print(key_value_pairs)"
   ]
  },
  {
   "cell_type": "markdown",
   "metadata": {},
   "source": [
    "### Add, Update, & Delete Dictionary"
   ]
  },
  {
   "cell_type": "markdown",
   "metadata": {},
   "source": [
    "#### Add"
   ]
  },
  {
   "cell_type": "code",
   "execution_count": null,
   "metadata": {},
   "outputs": [],
   "source": [
    "crayons = {'red':'apple', 'yellow':'lemon', 'green':'green apple', 'blue':'cotton candy', 'pink':'cotton candy'}\n",
    "\n",
    "# Define new key and assign new value using =\n",
    "crayons['purple'] = 'grape'\n",
    "print(crayons)"
   ]
  },
  {
   "cell_type": "markdown",
   "metadata": {},
   "source": [
    "#### Update and `.update()` Method"
   ]
  },
  {
   "cell_type": "code",
   "execution_count": null,
   "metadata": {},
   "outputs": [],
   "source": [
    "# Reassign a pre-existing key to a new value. lemon --> snow\n",
    "crayons = {'red':'apple', 'yellow':'lemon', 'green':'green apple', 'blue':'cotton candy', 'pink':'cotton candy'}\n",
    "print(crayons)\n",
    "\n",
    "crayons['yellow'] = 'snow'\n",
    "print(crayons)"
   ]
  },
  {
   "cell_type": "code",
   "execution_count": null,
   "metadata": {},
   "outputs": [],
   "source": [
    "# .update() Method (W3 Schools)\n",
    "\n",
    "car = {\n",
    "  \"brand\": \"Ford\",\n",
    "  \"model\": \"Mustang\",\n",
    "  \"year\": 1964\n",
    "}\n",
    "\n",
    "car.update({\"color\": \"White\"})\n",
    "\n",
    "print(car)"
   ]
  },
  {
   "cell_type": "markdown",
   "metadata": {},
   "source": [
    "#### Delete - `del`"
   ]
  },
  {
   "cell_type": "code",
   "execution_count": null,
   "metadata": {},
   "outputs": [],
   "source": [
    "# Remove 'blue' from the dictioanry\n",
    "crayons = {'red':'apple', 'yellow':'lemon', 'green':'green apple', 'blue':'cotton candy', 'pink':'cotton candy'}\n",
    "print(crayons)\n",
    "\n",
    "del crayons['blue']\n",
    "print(crayons)"
   ]
  },
  {
   "cell_type": "markdown",
   "metadata": {},
   "source": [
    "#### Assign Multiple Values - Lists/Tuples"
   ]
  },
  {
   "cell_type": "code",
   "execution_count": null,
   "metadata": {},
   "outputs": [],
   "source": [
    "# tuple (immutable)\n",
    "crayons['yellow'] = 'snow', 'lemon'\n",
    "print(crayons)\n",
    "\n",
    "# lists(mutable) \n",
    "crayons['yellow'] = ['snow', 'lemon']\n",
    "print(crayons)"
   ]
  },
  {
   "cell_type": "markdown",
   "metadata": {},
   "source": [
    "### Comparison Operators"
   ]
  },
  {
   "cell_type": "markdown",
   "metadata": {},
   "source": [
    "#### `in` Keyword"
   ]
  },
  {
   "cell_type": "code",
   "execution_count": null,
   "metadata": {},
   "outputs": [],
   "source": [
    "# Checks the existence of keys or values\n",
    "\n",
    "crayons = {'red':'apple', 'yellow':'lemon', 'green':'green apple', 'blue':'cotton candy', 'pink':'cotton candy'}\n",
    "\n",
    "print('yellow' in crayons)\n",
    "print('apple' in crayons.values())\n",
    "print(('red', 'apple') in crayons.items())"
   ]
  },
  {
   "cell_type": "markdown",
   "metadata": {},
   "source": [
    "#### `.get()` Method"
   ]
  },
  {
   "cell_type": "code",
   "execution_count": null,
   "metadata": {},
   "outputs": [],
   "source": [
    "# .get Method avoids code breaking errors when keys do not exist. Returns 'None' instead of breaking code.\n",
    "\n",
    "# test a key that does NOT exist. \n",
    "print(crayons.get('black'))\n",
    "\n",
    "# Provide default argument if key does not exist\n",
    "print(crayons.get('black', 'Key does not exist'))\n",
    "\n",
    "# test a key that DOES exist\n",
    "print(crayons.get('pink'))\n",
    "\n"
   ]
  },
  {
   "cell_type": "markdown",
   "metadata": {},
   "source": [
    "### Iterate Over a Dictionary"
   ]
  },
  {
   "cell_type": "markdown",
   "metadata": {},
   "source": [
    "#### Keys"
   ]
  },
  {
   "cell_type": "code",
   "execution_count": null,
   "metadata": {},
   "outputs": [],
   "source": [
    "# Iterates over the keys\n",
    "print('Keys:')\n",
    "for key in crayons:\n",
    "     print(key)"
   ]
  },
  {
   "cell_type": "markdown",
   "metadata": {},
   "source": [
    "#### Values"
   ]
  },
  {
   "cell_type": "code",
   "execution_count": null,
   "metadata": {},
   "outputs": [],
   "source": [
    "print('\\nValues (Method 1):')\n",
    "\n",
    "# Iterates over the values\n",
    "for key in crayons.values():\n",
    "     print(key)\n",
    "\n",
    "print('\\nValues (Method 2):')\n",
    "\n",
    "for key in crayons:\n",
    "     print(crayons[key])"
   ]
  },
  {
   "cell_type": "markdown",
   "metadata": {},
   "source": [
    "#### Items and Key/Value Pairs"
   ]
  },
  {
   "cell_type": "code",
   "execution_count": null,
   "metadata": {},
   "outputs": [],
   "source": [
    "for item in crayons.items():\n",
    "    print(item)\n",
    "\n",
    "for key, value in crayons.items():\n",
    "    print(f'Key is {key} & value is {value}')"
   ]
  },
  {
   "cell_type": "markdown",
   "metadata": {},
   "source": [
    "#### `sum()` Function"
   ]
  },
  {
   "cell_type": "code",
   "execution_count": null,
   "metadata": {},
   "outputs": [],
   "source": [
    "# build a lottery dictionary\n",
    "# find the total if you won every lottery\n",
    "\n",
    "# The Long Way - Iteration\n",
    "total = 0\n",
    "lottery = {'mega':100, 'GA':20, 'power':5} # in millions of dollars\n",
    "\n",
    "for value in lottery.values(): \n",
    "    total += value\n",
    "print(total)\n",
    "\n",
    "# The Short Way - sum() function\n",
    "print(sum(lottery.values()))\n",
    "\n"
   ]
  },
  {
   "cell_type": "markdown",
   "metadata": {},
   "source": [
    "## Parameters & Arguements"
   ]
  },
  {
   "cell_type": "markdown",
   "metadata": {},
   "source": [
    "### Positional vs Keyword Arguments"
   ]
  },
  {
   "cell_type": "code",
   "execution_count": null,
   "metadata": {},
   "outputs": [],
   "source": [
    "def domath(a, b, c):\n",
    "    print(a + b + c)\n",
    "    add_elements(dogs, 'german shepherd', ['sable','white'])"
   ]
  },
  {
   "cell_type": "markdown",
   "metadata": {},
   "source": [
    "### Default Parameters"
   ]
  },
  {
   "cell_type": "code",
   "execution_count": null,
   "metadata": {},
   "outputs": [],
   "source": [
    "# Ex: Allow users to enter two to four numbers as arguments to be added together.\n",
    "\n",
    "def more_math(num1, num2, num3=0, num4=0):\n",
    "    print(num1, num2, num3, num4)\n",
    "    print (num1 + num2 + num3 + num4)\n",
    "\n",
    "more_math(5, 10)\n",
    "more_math(5, 10, 2)\n",
    "more_math(1, 2, 3, 4) "
   ]
  },
  {
   "cell_type": "markdown",
   "metadata": {},
   "source": [
    "### Unpacking: `*args`"
   ]
  },
  {
   "cell_type": "code",
   "execution_count": 68,
   "metadata": {},
   "outputs": [
    {
     "name": "stdout",
     "output_type": "stream",
     "text": [
      "['joe', 'sue', 'bob']\n",
      "joe sue bob\n",
      "joe sue bob\n"
     ]
    }
   ],
   "source": [
    "names = ['joe', 'sue', 'bob']\n",
    "\n",
    "print(names)\n",
    "print(names[0], names[1], names[2])\n",
    "\n",
    "# Use the asterick * to pack/unpack\n",
    "print(*names)"
   ]
  },
  {
   "cell_type": "markdown",
   "metadata": {},
   "source": [
    "### Packing Arbitrary Arguements: `*args`"
   ]
  },
  {
   "cell_type": "code",
   "execution_count": 81,
   "metadata": {},
   "outputs": [
    {
     "name": "stdout",
     "output_type": "stream",
     "text": [
      "('joe', 'sue', 'bob')\n",
      "Welcome to class joe\n",
      "Welcome to class sue\n",
      "Welcome to class bob\n"
     ]
    }
   ],
   "source": [
    "# Allow a function to accept various/arbitrary number of arguments into a tuple.\n",
    "\n",
    "day1= ['joe', 'sue', 'bob']\n",
    "day2 = ['joe,', 'sue', 'dan', 'jones']\n",
    "\n",
    "def welcome(*args):\n",
    "    print(args)\n",
    "    for each_name in args:\n",
    "        print(f'Welcome to class {each_name}')\n",
    "# print(type(*day2))\n",
    "welcome(*day1)\n"
   ]
  },
  {
   "cell_type": "markdown",
   "metadata": {},
   "source": [
    "### Packing/Unpacking a Dictionary Into Functions: `**kwargs`"
   ]
  },
  {
   "cell_type": "code",
   "execution_count": 95,
   "metadata": {},
   "outputs": [
    {
     "name": "stdout",
     "output_type": "stream",
     "text": [
      "The color red tastes like apple\n",
      "The color yellow tastes like lemon\n",
      "The color green tastes like green apple\n",
      "The color blue tastes like cotton candy\n",
      "The color pink tastes like cotton candy\n",
      "* * * * * * * * * * * * *\n",
      "The color red tastes like apple\n",
      "The color black tastes like rasberry\n"
     ]
    }
   ],
   "source": [
    "crayons = {'red':'apple', 'yellow':'lemon', 'green':'green apple', 'blue':'cotton candy', 'pink':'cotton candy'}\n",
    "\n",
    "# build a box for the crayons and print a label\n",
    "\n",
    "def buildbox(**kwargs):\n",
    "    # print(kwargs)\n",
    "    for key, value in kwargs.items():\n",
    "        print(f'The color {key} tastes like {value}')\n",
    "\n",
    "# unpack the items found in the crayons dictionary\n",
    "buildbox(**crayons)\n",
    "print('* * * * * * * * * * * * *')\n",
    "buildbox(red='apple', black='rasberry')\n"
   ]
  },
  {
   "cell_type": "markdown",
   "metadata": {},
   "source": [
    "#### Combine Unlimited Arguments with Keyword Arguments"
   ]
  },
  {
   "cell_type": "code",
   "execution_count": 97,
   "metadata": {},
   "outputs": [
    {
     "name": "stdout",
     "output_type": "stream",
     "text": [
      "hello\n",
      "world\n",
      "10\n",
      "20\n",
      "30\n"
     ]
    }
   ],
   "source": [
    "# Positional arguments come first before keyword arguments\n",
    "\n",
    "# Task 1: Print each argument on its own line\n",
    "# Task 2: Print the values of each argument:\n",
    "\n",
    "def multiple_args(*pos_args, **kwargs):\n",
    "    for each_item in pos_args:\n",
    "        print(each_item)\n",
    "    \n",
    "    for each_num in kwargs.values():\n",
    "        print(each_num)\n",
    "\n",
    "# *pos_args includes 'hello' and 'world' (tuple)\n",
    "# **kwargs includes num1, num2, and num3 (dictionary)\n",
    "multiple_args('hello', 'world', num1=10, num2=20, num3=30)"
   ]
  },
  {
   "cell_type": "markdown",
   "metadata": {},
   "source": [
    "---\n",
    "\n",
    "# Day 6A: Sorting, Anonymous Function, & Error Handling\n",
    "\n",
    "---"
   ]
  },
  {
   "cell_type": "markdown",
   "metadata": {},
   "source": [
    "### List Sorting"
   ]
  },
  {
   "cell_type": "code",
   "execution_count": 99,
   "metadata": {},
   "outputs": [
    {
     "name": "stdout",
     "output_type": "stream",
     "text": [
      "[52, 17, 77, 37, 16, 79, 58, 86, 70, 26]\n"
     ]
    }
   ],
   "source": [
    "# Sorting lists\n",
    "# .sort() - list method that PERMANENTLY sorts a list\n",
    "# sorted() - built-in function that returns a sorted copy of the list\n",
    "# Note that the sort() method not return anything\n",
    "\n",
    "import random\n",
    "aList = random.sample(range(1,100), 10)\n",
    "print(aList)"
   ]
  },
  {
   "cell_type": "markdown",
   "metadata": {},
   "source": [
    "#### `sorted()` Function"
   ]
  },
  {
   "cell_type": "code",
   "execution_count": null,
   "metadata": {},
   "outputs": [],
   "source": [
    "# By default sorted() sorts in acending order\n",
    "aListSorted = sorted(aList)\n",
    "print(aListSorted)\n",
    "print(aList)        # original list unchanged"
   ]
  },
  {
   "cell_type": "code",
   "execution_count": null,
   "metadata": {},
   "outputs": [],
   "source": [
    "# Can use the reverse keyword to sort in descending order\n",
    "aListReverseSorted = sorted(aList, reverse=True)\n",
    "print(aListReverseSorted)\n",
    "print(aList)        # original list unchanged"
   ]
  },
  {
   "cell_type": "markdown",
   "metadata": {},
   "source": [
    "#### `.sort()` Method"
   ]
  },
  {
   "cell_type": "code",
   "execution_count": null,
   "metadata": {},
   "outputs": [],
   "source": [
    "# sort() method permantly changes the list.\n",
    "# The .sort() method does NOT return anything.\n",
    "# .sort() modifies the list directly in place.\n",
    "\n",
    "aList.sort()\n",
    "print(aList)\n",
    "\n",
    "aList.sort(reverse=True)\n",
    "print(aList)"
   ]
  },
  {
   "cell_type": "markdown",
   "metadata": {},
   "source": [
    "#### sorting using the keyword key"
   ]
  },
  {
   "cell_type": "code",
   "execution_count": 127,
   "metadata": {},
   "outputs": [
    {
     "name": "stdout",
     "output_type": "stream",
     "text": [
      "[(46219, 'z'), (62569, 'h'), (74781, 'f'), (23420, 'm'), (14901, 'v'), (42508, 'x'), (29990, 'k'), (97748, 'l'), (78699, 'i'), (3878, 'd')]\n"
     ]
    }
   ],
   "source": [
    "# How to sort a list of tuples?\n",
    "# zip() is like vehicle traffic merging\n",
    "\n",
    "bListOfTuples = list(zip(random.sample(range(1,100000),10), random.sample('abcdefghijklmnopqrstuvwxyz',10)))\n",
    "print((bListOfTuples))"
   ]
  },
  {
   "cell_type": "code",
   "execution_count": 126,
   "metadata": {},
   "outputs": [
    {
     "name": "stdout",
     "output_type": "stream",
     "text": [
      "[(8776, 'e'), (11516, 's'), (14804, 'p'), (20635, 'm'), (21234, 'q'), (32872, 'z'), (36583, 'o'), (61371, 'u'), (73991, 'c'), (87988, 't')]\n",
      "[(73991, 'c'), (8776, 'e'), (20635, 'm'), (36583, 'o'), (14804, 'p'), (21234, 'q'), (11516, 's'), (87988, 't'), (61371, 'u'), (32872, 'z')]\n",
      "[(8776, 'e'), (87988, 't'), (73991, 'c'), (32872, 'z'), (20635, 'm'), (14804, 'p'), (61371, 'u'), (11516, 's'), (21234, 'q'), (36583, 'o')]\n"
     ]
    }
   ],
   "source": [
    "# By default will sort on the first value of the tuple\n",
    "print(sorted(bListOfTuples))\n",
    "\n",
    "# sorted() also has a keyword argument 'key' where key is a function that tells us how to sort\n",
    "def sortByValue(aTup):\n",
    "    return aTup[1]\n",
    "\n",
    "print(sorted(bListOfTuples, key=sortByValue))\n",
    "\n",
    "def sortByDigitlen(aTup):\n",
    "    num = aTup[0]\n",
    "    numDigits = len(str(num))\n",
    "    return numDigits\n",
    "\n",
    "print(sorted(bListOfTuples, key=sortByDigitlen))"
   ]
  },
  {
   "cell_type": "code",
   "execution_count": 136,
   "metadata": {},
   "outputs": [
    {
     "name": "stdout",
     "output_type": "stream",
     "text": [
      "['u', 'Q', 'M', 's', 'n', 'y', 'L', 'G', 'w', 'g', 'i', 'K', 'X', 'U', 'D', 'o', 'b', 'q', 'A', 'e']\n",
      "['A', 'D', 'G', 'K', 'L', 'M', 'Q', 'U', 'X', 'b', 'e', 'g', 'i', 'n', 'o', 'q', 's', 'u', 'w', 'y']\n",
      "['A', 'b', 'D', 'e', 'G', 'g', 'i', 'K', 'L', 'M', 'n', 'o', 'Q', 'q', 's', 'u', 'U', 'w', 'X', 'y']\n"
     ]
    }
   ],
   "source": [
    "# We can also use key to sort upper and lower case characters as if they are all lower case\n",
    "cList = random.sample('abcdefghijklmnopqrstuvwxyzABCDEFGHIJKLMNOPQRSTUVWXYZ', 20)\n",
    "print(cList)\n",
    "\n",
    "print(sorted(cList))\n",
    "print(sorted(cList, key=str.lower))"
   ]
  },
  {
   "cell_type": "markdown",
   "metadata": {},
   "source": [
    "#### lambda - an anonymous function"
   ]
  },
  {
   "cell_type": "code",
   "execution_count": 137,
   "metadata": {},
   "outputs": [
    {
     "name": "stdout",
     "output_type": "stream",
     "text": [
      "2\n",
      "2\n",
      "<function t at 0x7fe669ae8790>\n",
      "<function <lambda> at 0x7fe67bd7f430>\n"
     ]
    }
   ],
   "source": [
    "# lambda - keyword that allows us to make a small function\n",
    "\n",
    "def t(x):\n",
    "    return x+1\n",
    "\n",
    "z = t(1)\n",
    "print(z)\n",
    "\n",
    "y = lambda x: x+1\n",
    "z = y(1)\n",
    "print(z)\n",
    "\n",
    "# t and y are functionally the same although t is a function and y is a lambda function\n",
    "print(t)\n",
    "print(y)"
   ]
  },
  {
   "cell_type": "code",
   "execution_count": null,
   "metadata": {},
   "outputs": [],
   "source": [
    "# Sorting bListOfTuples using lambda\n",
    "\n",
    "print(sorted(bListOfTuples, key=lambda aTup: aTup[1]))"
   ]
  },
  {
   "cell_type": "markdown",
   "metadata": {},
   "source": [
    "## Error Handling"
   ]
  },
  {
   "cell_type": "code",
   "execution_count": null,
   "metadata": {},
   "outputs": [],
   "source": [
    "print(5/0)\n",
    "print('this line will not execute')"
   ]
  },
  {
   "cell_type": "markdown",
   "metadata": {},
   "source": [
    "### try / except"
   ]
  },
  {
   "cell_type": "code",
   "execution_count": null,
   "metadata": {},
   "outputs": [],
   "source": [
    "# Error handling with try/except\n",
    "\n",
    "try:\n",
    "    5/0\n",
    "except:\n",
    "    print('there was an error')\n",
    "\n",
    "print('this line will execute')"
   ]
  },
  {
   "cell_type": "markdown",
   "metadata": {},
   "source": [
    "### Access the error information"
   ]
  },
  {
   "cell_type": "code",
   "execution_count": 139,
   "metadata": {},
   "outputs": [
    {
     "name": "stdout",
     "output_type": "stream",
     "text": [
      "Error: division by zero\n",
      "this line will execute\n"
     ]
    }
   ],
   "source": [
    "# More error handling - access the error\n",
    "\n",
    "try:\n",
    "    5/0\n",
    "except Exception as err:\n",
    "    print(f'Error: {err}')\n",
    "\n",
    "print('this line will execute')"
   ]
  },
  {
   "cell_type": "markdown",
   "metadata": {},
   "source": [
    "### else block of try/except"
   ]
  },
  {
   "cell_type": "code",
   "execution_count": null,
   "metadata": {},
   "outputs": [],
   "source": [
    "# More error handling - the else block\n",
    "\n",
    "try:\n",
    "    5/1\n",
    "except Exception as err:\n",
    "    print(f'Error: {err}')\n",
    "else:\n",
    "    print('There was no error')"
   ]
  },
  {
   "cell_type": "markdown",
   "metadata": {},
   "source": [
    "### finally block of try/except"
   ]
  },
  {
   "cell_type": "code",
   "execution_count": null,
   "metadata": {},
   "outputs": [],
   "source": [
    "# More error handling - the finally block\n",
    "\n",
    "a = 5\n",
    "b = 1\n",
    "\n",
    "try:\n",
    "    a/b\n",
    "except Exception as err:\n",
    "    print(f'Error: {err}')\n",
    "else:\n",
    "    print('There was no error')\n",
    "finally:\n",
    "    print('This line will always execute')"
   ]
  },
  {
   "cell_type": "markdown",
   "metadata": {},
   "source": [
    "### demo"
   ]
  },
  {
   "cell_type": "code",
   "execution_count": 154,
   "metadata": {},
   "outputs": [
    {
     "name": "stdout",
     "output_type": "stream",
     "text": [
      "8.0\n",
      "invalid literal for int() with base 10: '89b' in func2\n"
     ]
    }
   ],
   "source": [
    "import random\n",
    "\n",
    "def func1(a,b):\n",
    "    try:\n",
    "        print(a/b)\n",
    "    except Exception as err:\n",
    "        print(f'{err} in {func1.__name__}')\n",
    "\n",
    "def func2(b):\n",
    "    try:\n",
    "        print(int(b))\n",
    "    except Exception as err:\n",
    "        print(f'{err} in {func2.__name__}')\n",
    "\n",
    "\n",
    "func1(random.randint(1,10),random.randint(0,2))\n",
    "func2(''.join(list(random.sample('1234567890ab',3))))\n"
   ]
  },
  {
   "cell_type": "code",
   "execution_count": null,
   "metadata": {},
   "outputs": [],
   "source": [
    "# Displays the properties of the function\n",
    "\n",
    "dir(func1)"
   ]
  },
  {
   "cell_type": "code",
   "execution_count": 156,
   "metadata": {},
   "outputs": [
    {
     "name": "stdout",
     "output_type": "stream",
     "text": [
      "Invalid Input!\n",
      "Invalid Input!\n",
      "12\n"
     ]
    }
   ],
   "source": [
    "done = False\n",
    "while not done:\n",
    "    ui = input('Enter an integer: ')\n",
    "    try:\n",
    "        userAsInt = int(ui)\n",
    "        print(userAsInt)\n",
    "        done = True\n",
    "    except:\n",
    "        print('Invalid Input!')"
   ]
  },
  {
   "cell_type": "markdown",
   "metadata": {},
   "source": [
    "# Day 6B: Number Systems - Decimal, Binary, Octal, Hexidecimal"
   ]
  },
  {
   "cell_type": "markdown",
   "metadata": {},
   "source": [
    "## 4 types of number systems\n",
    "\n",
    "- Integer - Base 10\n",
    "- Binary - Base2\n",
    "- Octal Base 8\n",
    "- Hexadecimal - Base 16"
   ]
  },
  {
   "cell_type": "markdown",
   "metadata": {},
   "source": [
    "### Binary - Base 2 - `bin()`\n",
    "\n",
    "- Binary numbers are any combination of base 2 whole numbers: 0-1\n",
    "\n",
    "- Python provides a built-in function that performs the conversion of `int` into a binary `str`\n",
    "\n",
    "`bin()` converts the `int` 16 into a binary `str`"
   ]
  },
  {
   "cell_type": "code",
   "execution_count": 157,
   "metadata": {},
   "outputs": [
    {
     "name": "stdout",
     "output_type": "stream",
     "text": [
      "0b10000\n"
     ]
    }
   ],
   "source": [
    "bin_16 = bin(16)\n",
    "print(bin_16)"
   ]
  },
  {
   "cell_type": "markdown",
   "metadata": {},
   "source": [
    "It is important to note that the `bin()` conversion function results in a `str` data type"
   ]
  },
  {
   "cell_type": "code",
   "execution_count": 159,
   "metadata": {},
   "outputs": [
    {
     "name": "stdout",
     "output_type": "stream",
     "text": [
      "<class 'str'>\n"
     ]
    },
    {
     "data": {
      "text/plain": [
       "'0b1'"
      ]
     },
     "execution_count": 159,
     "metadata": {},
     "output_type": "execute_result"
    }
   ],
   "source": [
    "print(type(bin_16))\n",
    "bin(1)"
   ]
  },
  {
   "cell_type": "markdown",
   "metadata": {},
   "source": [
    "#### Binary literal in Python\n",
    "\n",
    "- Python allows you to directly type `0b10000` and understands that this is a literal binary number\n",
    "\n",
    "- While Python can interpret this binary literal, it is represented in output as an `int`\n",
    "    - Which is why if you `print(0b10000)` the output will be 16\n",
    "    - Also, if you `print(type(0b10000))` the output is `<class 'int'>`"
   ]
  },
  {
   "cell_type": "code",
   "execution_count": 161,
   "metadata": {},
   "outputs": [
    {
     "name": "stdout",
     "output_type": "stream",
     "text": [
      "16\n",
      "<class 'int'>\n"
     ]
    }
   ],
   "source": [
    "0b10000\n",
    "print(0b10000)\n",
    "print(type(0b10000))"
   ]
  },
  {
   "cell_type": "markdown",
   "metadata": {},
   "source": [
    "#### Convert binary string to integer\n",
    "\n",
    "- Convert the binary `str` stored in `binary_16` back into an `int`\n",
    "- The `int` conversion function has a parameter `base` that accepts an `int` indicating what base rules the `str` being converted needs to follow\n",
    "\n",
    "In this case we are starting with a binary `str` and binary follows Base 2 rules"
   ]
  },
  {
   "cell_type": "code",
   "execution_count": 165,
   "metadata": {},
   "outputs": [
    {
     "name": "stdout",
     "output_type": "stream",
     "text": [
      "0b10000\n"
     ]
    },
    {
     "data": {
      "text/plain": [
       "16"
      ]
     },
     "execution_count": 165,
     "metadata": {},
     "output_type": "execute_result"
    }
   ],
   "source": [
    "binary_16 = bin(16)\n",
    "print(binary_16)\n",
    "\n",
    "# Add second parameter to indicate the base. Note: The keyword \"base\" is not needed.\n",
    "int(binary_16, base=2)\n",
    "\n"
   ]
  },
  {
   "cell_type": "markdown",
   "metadata": {},
   "source": [
    "### Octal - Base 8 - `oct()`\n",
    "\n",
    "- Octal numbers are represented using a grouping of Base 8 integers 0-8\n",
    "\n",
    "- Python provides a built-in function that performs the conversion of `int` into an octal `str`\n",
    "\n",
    "`oct()` convert the `int` 16 into an octal `str`:"
   ]
  },
  {
   "cell_type": "code",
   "execution_count": 170,
   "metadata": {},
   "outputs": [
    {
     "name": "stdout",
     "output_type": "stream",
     "text": [
      "0o20\n",
      "<class 'str'>\n"
     ]
    }
   ],
   "source": [
    "oct_16 = oct(16)\n",
    "print(oct_16)\n",
    "print(type(oct_16))"
   ]
  },
  {
   "cell_type": "markdown",
   "metadata": {},
   "source": [
    "#### Octal literal in Python\n",
    "\n",
    "- Python allows you to directly type `0o20` and understands that this is a literal octal number\n",
    "\n",
    "- While Python can interpret this octal literal, it is represented in output as an `int`\n",
    "    - Which is why if you `print(0o20)` the output will be 16\n",
    "    - Also, if you `print(type(0o20))` the output is `<class 'int'>`"
   ]
  },
  {
   "cell_type": "code",
   "execution_count": 173,
   "metadata": {},
   "outputs": [
    {
     "name": "stdout",
     "output_type": "stream",
     "text": [
      "<class 'int'>\n"
     ]
    }
   ],
   "source": [
    "0o20\n",
    "print(type(0o20))"
   ]
  },
  {
   "cell_type": "markdown",
   "metadata": {},
   "source": [
    "#### Convert octal string to integer\n",
    "\n",
    "- Convert the octal `str` stored in `oct_16` back into an `int`\n",
    "- The `int` conversion function has a parameter `base` that accepts an `int` indicating what base rules the `str` being converted needs to follow\n",
    "\n",
    "In this case we are starting with an octal `str` and octal follows Base 8 rules"
   ]
  },
  {
   "cell_type": "code",
   "execution_count": 174,
   "metadata": {},
   "outputs": [
    {
     "data": {
      "text/plain": [
       "16"
      ]
     },
     "execution_count": 174,
     "metadata": {},
     "output_type": "execute_result"
    }
   ],
   "source": [
    "oct_16 = oct(16)\n",
    "int(oct_16, 8)"
   ]
  },
  {
   "cell_type": "markdown",
   "metadata": {},
   "source": [
    "### Hexadecimal - Base 16 - `hex()`\n",
    "\n",
    "- Hexadecimal numbers are represented using a grouping of Base 16 integers 0-9 and characters A-F \n",
    "\n",
    "- Python provides a built-in function that performs the conversion of `int` into a hexadecimal `str`\n",
    "\n",
    "`hex()` convert the `int` 16 into a hexadecimal `str`:"
   ]
  },
  {
   "cell_type": "code",
   "execution_count": 175,
   "metadata": {},
   "outputs": [
    {
     "data": {
      "text/plain": [
       "'0x10'"
      ]
     },
     "execution_count": 175,
     "metadata": {},
     "output_type": "execute_result"
    }
   ],
   "source": [
    "hex(16)"
   ]
  },
  {
   "cell_type": "markdown",
   "metadata": {},
   "source": [
    "#### Hexadecimal literal in Python\n",
    "\n",
    "- Python allows you to directly type `0x10` and understands that this is a literal binary number\n",
    "\n",
    "- While Python can interpret this hexadecimal literal, it is represented in output as an `int`\n",
    "    - Which is why if you `print(0x10)` the output will be 16\n",
    "    - Also, if you `print(type(0x10))` the output is `<class 'int'>`"
   ]
  },
  {
   "cell_type": "code",
   "execution_count": null,
   "metadata": {},
   "outputs": [
    {
     "data": {
      "text/plain": [
       "16"
      ]
     },
     "metadata": {},
     "output_type": "display_data"
    }
   ],
   "source": [
    "0x10"
   ]
  },
  {
   "cell_type": "markdown",
   "metadata": {},
   "source": [
    "#### Convert hexadecimal string to integer\n",
    "\n",
    "- Convert the hexadecimal `str` stored in `hex_16` back into an `int`\n",
    "- The `int` conversion function has a parameter `base` that accepts an `int` indicating what base rules the `str` being converted needs to follow\n",
    "\n",
    "In this case we are starting with a hexadecimal `str` and hexadecimal follows Base 16 rules"
   ]
  },
  {
   "cell_type": "code",
   "execution_count": 176,
   "metadata": {},
   "outputs": [
    {
     "data": {
      "text/plain": [
       "16"
      ]
     },
     "execution_count": 176,
     "metadata": {},
     "output_type": "execute_result"
    }
   ],
   "source": [
    "hex_16 = hex(16)\n",
    "int(hex_16, base=16)"
   ]
  },
  {
   "cell_type": "markdown",
   "metadata": {},
   "source": [
    "## Converting from non-int number system to another non-int\n",
    "\n",
    "- Python will **NOT** allow you to convert a Binary, Octal, or Hexadecimal `str` into any number system OTHER THAN an `int`\n",
    "\n",
    "- All of these numbers systems must 'pass through' an `int` conversion before being able to be converted\n",
    "\n",
    "Examples:\n",
    "___\n",
    "\n",
    "|  **Scenario:** |\n",
    "|---|\n",
    "|Given a Binary `str` convert it into an Octal and then Hexadecimal `str`|\n",
    "\n",
    "- Observe the error when attempting to convert directly from Binary to Octal:"
   ]
  },
  {
   "cell_type": "code",
   "execution_count": null,
   "metadata": {},
   "outputs": [
    {
     "ename": "TypeError",
     "evalue": "'str' object cannot be interpreted as an integer",
     "output_type": "error",
     "traceback": [
      "\u001b[0;31m---------------------------------------------------------------------------\u001b[0m\n",
      "\n",
      "\u001b[0;31mTypeError\u001b[0m                                 Traceback (most recent call last)\n",
      "\n",
      "Cell \u001b[0;32mIn[8], line 3\u001b[0m\n",
      "\n",
      "\u001b[1;32m      1\u001b[0m bin_str \u001b[38;5;241m=\u001b[39m \u001b[38;5;124m'\u001b[39m\u001b[38;5;124m0b111110100\u001b[39m\u001b[38;5;124m'\u001b[39m\n",
      "\n",
      "\u001b[0;32m----> 3\u001b[0m oct_str \u001b[38;5;241m=\u001b[39m \u001b[38;5;28;43moct\u001b[39;49m\u001b[43m(\u001b[49m\u001b[43mbin_str\u001b[49m\u001b[43m)\u001b[49m\n",
      "\n",
      "\n",
      "\n",
      "\u001b[0;31mTypeError\u001b[0m: 'str' object cannot be interpreted as an integer"
     ]
    }
   ],
   "source": [
    "bin_str = '0b111110100'\n",
    "\n",
    "oct_str = oct(bin_str)"
   ]
  },
  {
   "cell_type": "markdown",
   "metadata": {},
   "source": [
    "This is where the Binary `str` must 'pass through' an `int` data type first:"
   ]
  },
  {
   "cell_type": "code",
   "execution_count": 185,
   "metadata": {},
   "outputs": [
    {
     "name": "stdout",
     "output_type": "stream",
     "text": [
      "0o764\n",
      "0o764\n"
     ]
    }
   ],
   "source": [
    "bin_str = '0b111110100'\n",
    "\n",
    "# 2 Line Method\n",
    "bin_str_int = int(bin_str, base=2)\n",
    "oct_str_2 = oct(bin_str_int)\n",
    "\n",
    "# 1 Line Method\n",
    "oct_str_1 = oct(int(bin_str, base=2))\n",
    "\n",
    "print(oct_str_2)\n",
    "print(oct_str_1)"
   ]
  },
  {
   "cell_type": "markdown",
   "metadata": {},
   "source": [
    "This concept is simply repeated to convert the Octal `str` into a Hexadecimal `str`:"
   ]
  },
  {
   "cell_type": "code",
   "execution_count": 183,
   "metadata": {},
   "outputs": [
    {
     "name": "stdout",
     "output_type": "stream",
     "text": [
      "0x198d\n"
     ]
    }
   ],
   "source": [
    "oct_str = '0o14615'\n",
    "\n",
    "hex_str = hex(int(oct_str, base=8))\n",
    "print(hex_str)\n"
   ]
  },
  {
   "cell_type": "code",
   "execution_count": null,
   "metadata": {},
   "outputs": [],
   "source": [
    "bin_str = '0b111110100'\n",
    "\n"
   ]
  },
  {
   "cell_type": "markdown",
   "metadata": {},
   "source": [
    "---\n",
    "\n",
    "# Day 7A: `isinstance()`, Object Oriented Programming\n",
    "\n",
    "---"
   ]
  },
  {
   "cell_type": "markdown",
   "metadata": {},
   "source": [
    "## Object Oriented Programming"
   ]
  },
  {
   "cell_type": "markdown",
   "metadata": {},
   "source": [
    "### Objects and types/classes review"
   ]
  },
  {
   "cell_type": "markdown",
   "metadata": {},
   "source": [
    "##### An object is an instance of a class"
   ]
  },
  {
   "cell_type": "code",
   "execution_count": 186,
   "metadata": {},
   "outputs": [
    {
     "name": "stdout",
     "output_type": "stream",
     "text": [
      "0        is an instance of <class 'int'>\n",
      "0.0      is an instance of <class 'float'>\n",
      "True     is an instance of <class 'bool'>\n",
      "'hello'  is an instance of <class 'str'>\n",
      "(1, 2)   is an instance of <class 'tuple'>\n",
      "[3, 4]   is an instance of <class 'list'>\n",
      "{5, 6}   is an instance of <class 'set'>\n",
      "{'a': 1} is an instance of <class 'dict'>\n"
     ]
    }
   ],
   "source": [
    "someData = [0, 0.0, True, 'hello', (1,2), [3,4], {5,6}, {'a':1}]\n",
    "for data in someData:\n",
    "    print(f'{str(repr(data)).ljust(8)} is an instance of {type(data)}')"
   ]
  },
  {
   "cell_type": "markdown",
   "metadata": {},
   "source": [
    "##### isinstance Function"
   ]
  },
  {
   "cell_type": "code",
   "execution_count": 187,
   "metadata": {},
   "outputs": [
    {
     "name": "stdout",
     "output_type": "stream",
     "text": [
      "0 is an instance of an integer.\n",
      "0 is not an instance of a float.\n",
      "0 is not an instance of a string.\n"
     ]
    }
   ],
   "source": [
    "x = 0\n",
    "if isinstance(x, int):\n",
    "    print(f'{(repr(x))} is an instance of an integer.')\n",
    "else:\n",
    "    print(f'{repr(x)} is not an instance of an integer.')\n",
    "\n",
    "\n",
    "if isinstance(x, float):\n",
    "    print(f'{repr(x)} is an instance of a float.')\n",
    "else:\n",
    "    print(f'{repr(x)} is not an instance of a float.')\n",
    "\n",
    "if isinstance(x, str):\n",
    "    print(f'{repr(x)} is an instance of a string.')\n",
    "else:\n",
    "    print(f'{repr(x)} is not an instance of a string.')"
   ]
  },
  {
   "cell_type": "code",
   "execution_count": null,
   "metadata": {},
   "outputs": [],
   "source": [
    "# User must enforce data types themselves using isinstance()\n",
    "\n",
    "def someFunc(x:int, y:str):\n",
    "    if isinstance(x, int) and isinstance(y, str):\n",
    "        pass\n",
    "    else:\n",
    "        print('Invalid use of someFunc')\n",
    "\n",
    "someFunc(5.6, [1, 2, 3])"
   ]
  },
  {
   "cell_type": "markdown",
   "metadata": {},
   "source": [
    "### class Keyword"
   ]
  },
  {
   "cell_type": "code",
   "execution_count": 188,
   "metadata": {},
   "outputs": [
    {
     "name": "stdout",
     "output_type": "stream",
     "text": [
      "dog\n",
      "I am a dog \n",
      "cat\n",
      "I am a cat \n",
      "Kitty\n",
      "dog\n"
     ]
    },
    {
     "ename": "AttributeError",
     "evalue": "'Pet' object has no attribute 'name'",
     "output_type": "error",
     "traceback": [
      "\u001b[0;31m---------------------------------------------------------------------------\u001b[0m",
      "\u001b[0;31mAttributeError\u001b[0m                            Traceback (most recent call last)",
      "Cell \u001b[0;32mIn[188], line 27\u001b[0m\n\u001b[1;32m     24\u001b[0m \u001b[38;5;28mprint\u001b[39m(b\u001b[38;5;241m.\u001b[39mpetType)\n\u001b[1;32m     26\u001b[0m \u001b[38;5;66;03m# This instance of Pet does not have a 'name' attribute\u001b[39;00m\n\u001b[0;32m---> 27\u001b[0m \u001b[38;5;28mprint\u001b[39m(\u001b[43mb\u001b[49m\u001b[38;5;241;43m.\u001b[39;49m\u001b[43mname\u001b[49m)\n",
      "\u001b[0;31mAttributeError\u001b[0m: 'Pet' object has no attribute 'name'"
     ]
    }
   ],
   "source": [
    "# Simple class with one attribute and one method\n",
    "class Pet():\n",
    "    petType = 'dog'                         # petType is a 'public-ish' attribute\n",
    "\n",
    "    def speak(self):                        # if a method has parameters, the first parameter always refers to the object\n",
    "        print(f'I am a {self.petType} ')\n",
    "\n",
    "# Create an instance of Pet\n",
    "a = Pet()\n",
    "print(a.petType)\n",
    "a.speak()\n",
    "\n",
    "# Change value of attribute petType for this instance of Pet\n",
    "a.petType = 'cat'\n",
    "print(a.petType)\n",
    "a.speak()\n",
    "\n",
    "# Create an arbritary attribute 'name' for only this instance of Pet\n",
    "a.name = 'Kitty'\n",
    "print(a.name)\n",
    "\n",
    "# Create another instance of Pet\n",
    "b = Pet()\n",
    "print(b.petType)\n",
    "\n",
    "# This instance of Pet does not have a 'name' attribute\n",
    "print(b.name)"
   ]
  },
  {
   "cell_type": "markdown",
   "metadata": {},
   "source": [
    "### add a new attribute to a class"
   ]
  },
  {
   "cell_type": "code",
   "execution_count": 189,
   "metadata": {},
   "outputs": [
    {
     "name": "stdout",
     "output_type": "stream",
     "text": [
      "Kitty\n",
      "unknown\n",
      "unknown\n"
     ]
    }
   ],
   "source": [
    "# Make 'name' an attribute for Pet\n",
    "Pet.name = 'unknown'\n",
    "\n",
    "\n",
    "# Note this will not overwrite already created instances that have an arbritary name attribute\n",
    "print(a.name)\n",
    "\n",
    "# If the already created instance did not yet have a name attribute, it now has one with the default value\n",
    "print(b.name)\n",
    "\n",
    "# Create a new instance of Pet - this instance will have the 'name' attribute with the default value\n",
    "c = Pet()\n",
    "print(c.name)"
   ]
  },
  {
   "cell_type": "markdown",
   "metadata": {},
   "source": [
    "### Change petType values for all instances of Pet"
   ]
  },
  {
   "cell_type": "code",
   "execution_count": null,
   "metadata": {},
   "outputs": [],
   "source": [
    "# All instances should be cats\n",
    "Pet.petType = 'cat'\n",
    "\n",
    "# Create a new instance of Pet\n",
    "d = Pet()\n",
    "print(d.petType)\n",
    "\n",
    "# Since petType was never an arbitray attribute for any instances, all instances now have petType with the new value\n",
    "print(a.petType)\n",
    "print(b.petType)\n",
    "print(c.petType)"
   ]
  },
  {
   "cell_type": "markdown",
   "metadata": {},
   "source": [
    "### Define 'magic methods' a.k.a. 'special methods' for a class"
   ]
  },
  {
   "cell_type": "markdown",
   "metadata": {},
   "source": [
    "#### Encapsulation and Abstraction"
   ]
  },
  {
   "cell_type": "code",
   "execution_count": null,
   "metadata": {},
   "outputs": [],
   "source": [
    "dir(Pet)"
   ]
  },
  {
   "cell_type": "code",
   "execution_count": 194,
   "metadata": {},
   "outputs": [
    {
     "name": "stdout",
     "output_type": "stream",
     "text": [
      "10000\n",
      "Current altitude: 10005, Balloon color: red\n",
      "The balloon is at ground level.\n",
      "Current altitude: 0, Balloon color: red\n"
     ]
    }
   ],
   "source": [
    "# Magic Methods are known in Python Documentation as Special Methods\n",
    "# https://docs.python.org/3/reference/datamodel.html#specialnames\n",
    "\n",
    "class Balloon:\n",
    "\n",
    "    # initialize class\n",
    "    def __init__(self, color='red'):\n",
    "        self.altitude = 0\n",
    "        self.color = color\n",
    "    \n",
    "    # magic method called when str or print is called on object instance\n",
    "    def __str__(self):\n",
    "        return 'Current altitude: {}, Balloon color: {}'.format(self.altitude, self.color)\n",
    "\n",
    "    # define regular user methods\n",
    "    def climb(self):\n",
    "        self.altitude += 1\n",
    "\n",
    "    def dive(self):\n",
    "        if self.altitude > 0:\n",
    "            self.altitude -= 1\n",
    "        else:\n",
    "            print('The balloon is at ground level.')\n",
    "\n",
    "    def crashland(self):\n",
    "        self.altitude = 0\n",
    "\n",
    "    def setaltitude(self, newaltitude):\n",
    "        if newaltitude >= 0:\n",
    "            self.altitude = newaltitude\n",
    "\n",
    "    def getaltitude(self):\n",
    "        return self.altitude\n",
    "    \n",
    "    \n",
    "# test cases that will only execute when in the main file\n",
    "# code will not execute when imported as a module into another file\n",
    "if __name__ == '__main__':\n",
    "    b = Balloon()\n",
    "    b.setaltitude(10000)\n",
    "    print(b.getaltitude())\n",
    "    b.climb()\n",
    "    b.climb()\n",
    "    b.climb()\n",
    "    b.dive()\n",
    "    b.climb()\n",
    "    b.climb()\n",
    "    b.climb()\n",
    "    print(b)\n",
    "    b.crashland()\n",
    "    b.dive()\n",
    "    print(b)"
   ]
  },
  {
   "cell_type": "markdown",
   "metadata": {},
   "source": [
    "#### A Dog Class Example with More Magic Methods"
   ]
  },
  {
   "cell_type": "code",
   "execution_count": null,
   "metadata": {},
   "outputs": [],
   "source": [
    "class Dog():\n",
    "    __dogName = ''                          # use a dunderscore if attribute is meant to be 'private-ish'\n",
    "    __goodDogLevel = 0\n",
    "    \n",
    "    def __init__(self, aName, level):       # magic method that initializes the values of __dogName \n",
    "        self.__dogName = aName              # and __goodDogLevel for instance of Dog\n",
    "        if level < 0:\n",
    "            self.__goodDogLevel = 0\n",
    "        elif level > 10:\n",
    "            self.__goodDogLevel = 10\n",
    "        else:\n",
    "            self.__goodDogLevel = level\n",
    "    \n",
    "    def __del__(self):                      # magic method that performs an action prior to destruction\n",
    "        print(f'{self.__dogName} says, \"Goodbye!\"')\n",
    "    \n",
    "    def __str__(self):                      # magic method called when str or print is called on object instance\n",
    "        return f'<Dog object named {self.__dogName} with level {self.__goodDogLevel}>'\n",
    "    \n",
    "    def __eq__(self, aDog):                 # magic method called when == comparison made between two dog objects\n",
    "        return self.__goodDogLevel == aDog.__goodDogLevel\n",
    "    \n",
    "    def __ne__(self, aDog):                 # magic method called when != comparison made between two dog objects\n",
    "        return self.__goodDogLevel != aDog.__goodDogLevel\n",
    "    \n",
    "    def __lt__(self, aDog):                 # magic method called when < comparison made between two dog objects\n",
    "        return self.__goodDogLevel < aDog.__goodDogLevel\n",
    "    \n",
    "    def __le__(self, aDog):                 # magic method called when <= comparison made between two dog objects\n",
    "        return self.__goodDogLevel <= aDog.__goodDogLevel\n",
    "\n",
    "    def __gt__(self, aDog):                 # magic method called when > comparison made between two dog objects\n",
    "        return self.__goodDogLevel > aDog.__goodDogLevel\n",
    "    \n",
    "    def __ge__(self, aDog):                 # magic method called when >= comparison made between two dog objects\n",
    "        return self.__goodDogLevel >= aDog.__goodDogLevel\n",
    "    \n",
    "    def setName(self, aName):               # change value of __dogName without user referencing __dogName\n",
    "        self.__dogName = aName\n",
    "    \n",
    "    def setLevel(self, level):              # change value of __goodDogLevel without user referencing __goodDogLevel\n",
    "        if level < 0:\n",
    "            self.__goodDogLevel = 0\n",
    "        elif level > 10:\n",
    "            self.__goodDogLevel = 10\n",
    "        else:\n",
    "            self.__goodDogLevel = level\n",
    "    def query(self):\n",
    "        print(f'The name of this dog is {self.__dogName} and its level of goodness is {self.__goodDogLevel}.')\n",
    "    \n",
    "\n",
    "a = Dog('Lucky',8)\n",
    "b = Dog('Bailey',8)\n",
    "a.query()\n",
    "b.query()\n",
    "a.setName('Smilla')\n",
    "a.query()\n",
    "b.setName('Buddy')\n",
    "b.query()\n",
    "print((a))\n",
    "print((b))\n",
    "print(f'Are these dogs equal: {a == b}')\n",
    "a.setLevel(9)\n",
    "print((a))\n",
    "print((b))\n",
    "print(f'Are these dogs equal: {a == b}')\n",
    "print(f'Is the first dog more good than the second dog: {a > b}')\n",
    "del a\n",
    "del b"
   ]
  },
  {
   "cell_type": "markdown",
   "metadata": {},
   "source": [
    "#### What does help say about the Dog class?"
   ]
  },
  {
   "cell_type": "code",
   "execution_count": null,
   "metadata": {},
   "outputs": [],
   "source": [
    "help(Dog)\n"
   ]
  },
  {
   "cell_type": "markdown",
   "metadata": {},
   "source": [
    "### Inheritance"
   ]
  },
  {
   "cell_type": "code",
   "execution_count": null,
   "metadata": {},
   "outputs": [],
   "source": [
    "from math import pi\n",
    "\n",
    "# Inheritance\n",
    "\n",
    "class Shape():\n",
    "    area = 0\n",
    "    def printArea(self):\n",
    "        shapeName = str(self.__class__.__name__).lower()\n",
    "        print(f'The area of this {shapeName} shape is {self.area:.2f}.')\n",
    "    \n",
    "    def getArea(self):\n",
    "        print('This method is a placeholder that should be overrided in a subclass.')\n",
    "\n",
    "class Rectangle(Shape):\n",
    "    width = 0\n",
    "    height = 0\n",
    "    def __init__(self, w, h):\n",
    "        self.width = w\n",
    "        self.height = h\n",
    "        self.getArea()\n",
    "\n",
    "    def getArea(self):\n",
    "        self.area = self.width * self.height\n",
    "\n",
    "class Square(Rectangle):\n",
    "    def __init__(self, side):\n",
    "        self.width = side\n",
    "        self.height = side\n",
    "        self.getArea()\n",
    "        #super().__init__(side, side)\n",
    "\n",
    "\n",
    "class Circle(Shape):\n",
    "    radius = 0\n",
    "\n",
    "    def __init__(self, r):\n",
    "        self.radius = r\n",
    "        self.getArea()\n",
    "\n",
    "    def getArea(self):\n",
    "        self.area = pi * self.radius**2\n",
    "\n",
    "MainShape = Shape()\n",
    "MainShape.printArea()\n",
    "MainShape.getArea()\n",
    "\n",
    "R = Rectangle(5,10)\n",
    "R.printArea()\n",
    "\n",
    "C = Circle(5)\n",
    "C.printArea()\n",
    "\n",
    "S = Square(5)\n",
    "S.printArea()\n"
   ]
  },
  {
   "cell_type": "markdown",
   "metadata": {},
   "source": [
    "#### We could use inheritance to create our own list class and add functionality that does not exist in list"
   ]
  },
  {
   "cell_type": "code",
   "execution_count": 198,
   "metadata": {},
   "outputs": [
    {
     "name": "stdout",
     "output_type": "stream",
     "text": [
      "4\n"
     ]
    }
   ],
   "source": [
    "class myList(list):\n",
    "    def cnt(self):\n",
    "        return len(self)\n",
    "\n",
    "aList = myList((1,2,3,4))\n",
    "print(aList.cnt())"
   ]
  },
  {
   "cell_type": "markdown",
   "metadata": {},
   "source": [
    "### Polymorphism"
   ]
  },
  {
   "cell_type": "code",
   "execution_count": 199,
   "metadata": {},
   "outputs": [
    {
     "name": "stdout",
     "output_type": "stream",
     "text": [
      "A behavior\n",
      "B behavior\n",
      "Base behavior\n",
      "C behavior\n"
     ]
    }
   ],
   "source": [
    "# Polymorphism\n",
    "class Base():\n",
    "    def behavior(self):\n",
    "        print('Base behavior')\n",
    "\n",
    "class A(Base):\n",
    "    def behavior(self):\n",
    "        print('A behavior')\n",
    "\n",
    "class B(Base):\n",
    "    def behavior(self):\n",
    "        print('B behavior')\n",
    "\n",
    "class C(Base):\n",
    "    def behavior(self):\n",
    "        Base.behavior(self)\n",
    "        print('C behavior')\n",
    "\n",
    "if __name__ == '__main__':\n",
    "    l = []\n",
    "    l.append(A())\n",
    "    l.append(B())\n",
    "    l.append(C())\n",
    "\n",
    "    for i in l:\n",
    "        i.behavior()"
   ]
  },
  {
   "cell_type": "markdown",
   "metadata": {},
   "source": [
    "#### Polymorphism and Inheritance"
   ]
  },
  {
   "cell_type": "code",
   "execution_count": 200,
   "metadata": {},
   "outputs": [],
   "source": [
    "class Soldier():\n",
    "    \n",
    "    def __init__(self, lname, fname, dodid, rank, etsdate):\n",
    "        self.lname = lname\n",
    "        self.fname = fname\n",
    "        self.dodid = dodid\n",
    "        self.etsdate = etsdate\n",
    "        self.rank = rank\n",
    "    \n",
    "    def __str__(self):\n",
    "        return f'{self.__class__.__name__}: {self.rank} {self.fname} {self.lname}'\n",
    "\n",
    "    def armySong(self):\n",
    "        print('March along, sing our song, with the Army of the free ...')\n",
    "    \n",
    "    def soldierCreed(self):\n",
    "        print('I am an American Solider. I am a warrior ...')\n",
    "    \n",
    "    def setRank(self, rank):\n",
    "        self.rank = rank\n",
    "    \n",
    "    def setEtsDate(self, etsdate):\n",
    "        self.etsdate = etsdate\n",
    "\n",
    "class NCO(Soldier):\n",
    "    \n",
    "    def ncoCreed(self):\n",
    "        print('No one is more professional than I. I am a Non-Commissioned Officer ...')\n",
    "\n",
    "class Warrant(Soldier):\n",
    "   \n",
    "    def warrantCreed(self):\n",
    "        print('Willingly render loyal services to superiors, subordinates and peers ...')\n",
    "\n",
    "class Officer(Soldier):\n",
    "    \n",
    "    def __init__(self, lname, fname, dodid, rank, etsdate, degree):\n",
    "        self.degree = degree\n",
    "        super().__init__(lname, fname, dodid, rank, etsdate)\n",
    "    \n",
    "    def admininsterOath(self):\n",
    "        print('Raise you right hand and repeat after me ...')"
   ]
  },
  {
   "cell_type": "code",
   "execution_count": 201,
   "metadata": {},
   "outputs": [
    {
     "name": "stdout",
     "output_type": "stream",
     "text": [
      "Soldier: SPC James Doe\n",
      "NCO: SSG Jane Doe\n",
      "March along, sing our song, with the Army of the free ...\n",
      "No one is more professional than I. I am a Non-Commissioned Officer ...\n",
      "Warrant: CW2 John Doe\n",
      "I am an American Solider. I am a warrior ...\n",
      "Willingly render loyal services to superiors, subordinates and peers ...\n",
      "Officer: CPT Jill Doe\n",
      "Officer: MAJ Jill Doe\n",
      "Raise you right hand and repeat after me ...\n"
     ]
    }
   ],
   "source": [
    "s = Soldier('Doe', 'James', '1234', 'SPC', '1-1-1')\n",
    "n = NCO('Doe', 'Jane', '2345', 'SSG', '1-1-1')\n",
    "w = Warrant('Doe', 'John', '3456', 'CW2', '1-1-1')\n",
    "o = Officer('Doe', 'Jill', '4567', 'CPT', '1-1-1', 'Bachelors')\n",
    "\n",
    "print(s)\n",
    "\n",
    "print(n)\n",
    "n.armySong()\n",
    "n.ncoCreed()\n",
    "\n",
    "print(w)\n",
    "w.soldierCreed()\n",
    "w.warrantCreed()\n",
    "\n",
    "print(o)\n",
    "o.setRank('MAJ')\n",
    "print(o)\n",
    "o.admininsterOath()"
   ]
  },
  {
   "cell_type": "markdown",
   "metadata": {},
   "source": [
    "---\n",
    "\n",
    "# Day 7B: Encoding Strings & Networking\n",
    "\n",
    "---"
   ]
  },
  {
   "cell_type": "markdown",
   "metadata": {},
   "source": [
    "## Encoding"
   ]
  },
  {
   "cell_type": "markdown",
   "metadata": {},
   "source": [
    "By default strings are Unicode, also known as UTF-8 (The international encoding standard; characters/symbols are assigned to a numeric value). \n",
    "\n",
    "We will focus on UTF-8 encoding as it is the most populat and is the default Python utilizes. This link contains a chart of supported codec types supported by Python:  https://docs.python.org/3/library/codecs.html#standard-encodings "
   ]
  },
  {
   "cell_type": "markdown",
   "metadata": {},
   "source": [
    "### Binary Strings\n",
    "\n",
    "**Object type**:  bytes\n",
    "\n",
    "Immutable just like normal strings in Python\n",
    "\n",
    "Can only consist of ASCII characters\n",
    "\n",
    "**Syntax**:  `b'characters'`  The `b` on the front of the string is one way to declar a Binary string\n",
    "\n",
    "**Benefit**:  Bytes objects are machine readable and can be stored directly on the disk.  This decreases processing loads and storage needs. This is especially beneficial when sending data from one endpoint to another (through sockets)"
   ]
  },
  {
   "cell_type": "code",
   "execution_count": 202,
   "metadata": {},
   "outputs": [
    {
     "name": "stdout",
     "output_type": "stream",
     "text": [
      "b'hello'\n",
      "<class 'bytes'>\n"
     ]
    }
   ],
   "source": [
    "bin_str = b'hello'\n",
    "print(bin_str)\n",
    "print(type(bin_str))"
   ]
  },
  {
   "cell_type": "markdown",
   "metadata": {},
   "source": [
    "The encoded Binary string is NOT equivalent to the normal strings we have been working with"
   ]
  },
  {
   "cell_type": "code",
   "execution_count": 204,
   "metadata": {},
   "outputs": [
    {
     "name": "stdout",
     "output_type": "stream",
     "text": [
      "False\n"
     ]
    }
   ],
   "source": [
    "print(b'hello' == 'hello')"
   ]
  },
  {
   "cell_type": "markdown",
   "metadata": {},
   "source": [
    "These strings are not equivalent because each character in the Binary string is actually a byte, which is represented by an integer."
   ]
  },
  {
   "cell_type": "code",
   "execution_count": null,
   "metadata": {},
   "outputs": [],
   "source": [
    "for letter in b'hello':\n",
    "    print(f'The encoded value {letter} = {chr(letter)}') \n",
    "\n",
    "\n",
    "print('****************  VERSUS  *********************')\n",
    "\n",
    "for letter in 'hello':\n",
    "    print(f'Each letter in the regular string: {letter}')    "
   ]
  },
  {
   "cell_type": "markdown",
   "metadata": {},
   "source": [
    "Remember the `ord()` function is how we find the Unicode integer assignment for each character.\n",
    "\n",
    "`chr(i)` Return the string representing a character whose Unicode code point is the integer i."
   ]
  },
  {
   "cell_type": "code",
   "execution_count": 8,
   "metadata": {},
   "outputs": [
    {
     "name": "stdout",
     "output_type": "stream",
     "text": [
      "104\n",
      "h\n",
      "101\n",
      "e\n",
      "108\n",
      "l\n",
      "108\n",
      "111\n",
      "32\n",
      "119\n",
      "111\n",
      "114\n",
      "108\n",
      "100\n"
     ]
    }
   ],
   "source": [
    "print(ord('h'))\n",
    "print(chr(104))\n",
    "\n",
    "print(ord('e'))\n",
    "print(chr(101))\n",
    "\n",
    "print(ord('l'))\n",
    "print(chr(108))\n",
    "\n",
    "print(ord('l'))\n",
    "print(ord('o'))\n",
    "print(ord(' '))\n",
    "print(ord('w'))\n",
    "print(ord('o'))\n",
    "print(ord('r'))\n",
    "print(ord('l'))\n",
    "print(ord('d'))\n"
   ]
  },
  {
   "cell_type": "markdown",
   "metadata": {},
   "source": [
    "### More ways to create an encoded string:\n",
    "\n",
    "`bytes()`  The built-in function\n",
    "\n",
    "`str.encode()`  The string method built-in to normal strings"
   ]
  },
  {
   "cell_type": "code",
   "execution_count": 209,
   "metadata": {},
   "outputs": [
    {
     "name": "stdout",
     "output_type": "stream",
     "text": [
      "b'hello'\n",
      "b'world'\n"
     ]
    }
   ],
   "source": [
    "# bytes()\n",
    "code_str = bytes('hello', encoding='utf-8')\n",
    "print(code_str)\n",
    "\n",
    "# str.encode()\n",
    "coded_str2 = 'world'.encode('utf-8')\n",
    "print(coded_str2)"
   ]
  },
  {
   "cell_type": "markdown",
   "metadata": {},
   "source": [
    "### Bytes Containers\n",
    "\n",
    "Just like you can store normal strings into a list, Python has a bytes container that can efficiently store bytes string objects. This container is called a **bytearray**\n",
    "\n",
    "This is useful if you might be receiving multiple chunks of data/messages from a distant endpoint and need to store them until all messages have been received.\n",
    "\n",
    "The bytearray is mutable and there are two methods for adding **bytes** to the container:\n",
    "\n",
    "`.append()` - one byte (think character) at a time\n",
    "\n",
    "`.extend()` - allows multiple bytes/characters at a time"
   ]
  },
  {
   "cell_type": "code",
   "execution_count": 212,
   "metadata": {},
   "outputs": [
    {
     "name": "stdout",
     "output_type": "stream",
     "text": [
      "bytearray(b'hello')\n",
      "bytearray(b'hello ')\n",
      "bytearray(b'hello world')\n"
     ]
    }
   ],
   "source": [
    "# combine these two binary/encoded strings into a single bytearray container\n",
    "coded_str = bytes('hello', encoding='utf-8')\n",
    "coded_str2 = 'world'.encode('utf-8')\n",
    "\n",
    "# creates an empty bytearray just like list() creates an empty list\n",
    "byte_container = bytearray()\n",
    "\n",
    "byte_container.extend(coded_str)\n",
    "print(byte_container)\n",
    "\n",
    "byte_container.append(ord(' ')) # use ord to convert str to unicode\n",
    "print(byte_container)\n",
    "\n",
    "byte_container.extend(coded_str2)\n",
    "print(byte_container)\n"
   ]
  },
  {
   "cell_type": "markdown",
   "metadata": {},
   "source": [
    "###  String Decoding\n",
    "\n",
    "You can decode a message sent to you, if needed, but you would need to know the encoding type."
   ]
  },
  {
   "cell_type": "code",
   "execution_count": 215,
   "metadata": {},
   "outputs": [
    {
     "name": "stdout",
     "output_type": "stream",
     "text": [
      "b'Is this class over yet???'\n",
      "<class 'bytes'>\n",
      "\n",
      "Now we can decode\n",
      "Is this class over yet???\n",
      "<class 'str'>\n"
     ]
    }
   ],
   "source": [
    "coded_str3 = b'Is this class over yet???'\n",
    "print(coded_str3)\n",
    "print(type(coded_str3))\n",
    "\n",
    "print('\\nNow we can decode:')\n",
    "\n",
    "decoded = coded_str3.decode('utf-8')\n",
    "print(decoded)\n",
    "print(type(decoded))\n"
   ]
  },
  {
   "cell_type": "markdown",
   "metadata": {},
   "source": [
    "## Networking with Python - Sockets\n",
    "\n",
    "- A socket is an endpoint through which a computer/node can connect to other nodes on a network\n",
    "\n",
    "- We can use these sockets to send those bytes objects we have been creating\n",
    "\n",
    "- The socket library is required for building socket interfaces.\n",
    "\n",
    "- This is not the only way to create Python sockets, but it is the way we will focus on for the scope of this class"
   ]
  },
  {
   "cell_type": "markdown",
   "metadata": {},
   "source": [
    "### Terminology\n",
    "\n",
    "**Server**: Generally a service on a remote server waiting to recieve connections.\n",
    "\n",
    "**Client**: Depending on the context, it can be either the device or the application (i.e. a web browser) being used to connect to a server.\n",
    "\n",
    "**Transmission Control Protocol (TCP)**. Connection oriented communication method; sends a data stream.\n",
    "\n",
    "- **Stream Socket**: Performs like streams of information. There are no record lengths or character boundaries between data, so communicating processes must agree on their own mechanisms for distinguishing information (i.e. connection oriented). Stream sockets are most common because the burden of transferring the data reliably is handled by TCP/IP, rather than by the application.\n",
    "\n",
    "**User Datagram Protocol (UDP)**. Connectionless communication method; sends datagrams.\n",
    "\n",
    "  - **Datagram Socket**: The datagram socket is a connectionless service. Datagrams are sent as independent packets. The service provides no guarantees. Data can be lost or duplicated, and datagrams can arrive out of order. The size of a datagram is limited to the size able to be sent in a single transaction.\n"
   ]
  },
  {
   "cell_type": "markdown",
   "metadata": {},
   "source": [
    "### Socket Methods\n",
    "\n",
    "There are multiple methods availble in the socket library. We will focus on the methods needed to create a client socket to connect to a server that will be provided\n",
    "\n",
    "- `.socket()`   - creating the endpoint\n",
    "- `.connect()`   - connecting to an IP and port\n",
    "- `.recv()`    - receiving bytes data from the server socket we connect to\n",
    "- `.sendall()`   - sending a bytes 'message' to another endpoint"
   ]
  },
  {
   "cell_type": "code",
   "execution_count": null,
   "metadata": {},
   "outputs": [],
   "source": [
    "#  Creating a simple quote of the day server using your own system\n",
    "\n",
    "import socket\n",
    "\n",
    "def tcp_qotd_service():\n",
    "    s = socket.socket() # socket constructor\n",
    "    s.bind(('',12347))  # this binds all IP address attempting to connect through a port number you specify\n",
    "    s.listen()\n",
    "    # the loop makes it work continously; i.e. it is now a \"service\"\n",
    "    while True:\n",
    "        client_socket, address = s.accept()\n",
    "        quote = b'Object oriented programs are offered as alternatives to correct ones.'\n",
    "        # .sendall() will divide up your message if it is larger than the buffer,\n",
    "        # it sends until complete\n",
    "        client_socket.sendall(quote)\n",
    "        client_socket.close()\n",
    "\n",
    "tcp_qotd_service()        "
   ]
  },
  {
   "cell_type": "markdown",
   "metadata": {},
   "source": [
    "Open another instance of Visual Studio Code and copy the code shown below to execute the client to connect to your own server via the loopback IP. \n",
    "\n",
    "Why?\n",
    "- This Python kernel instance will be busy running the server above you created"
   ]
  },
  {
   "cell_type": "markdown",
   "metadata": {},
   "source": [
    "#### After executing your client in a separate VSCode window, go back and manually stop your server"
   ]
  },
  {
   "cell_type": "code",
   "execution_count": null,
   "metadata": {},
   "outputs": [],
   "source": [
    "# \n",
    "# \n",
    "# DO NOT EXECUTE THIS CODE IN THE SAME INSTANCE OF VSCODE THAT IS RUNNING YOUR tcp_qotd_service() \n",
    "#\n",
    "#\n",
    "#\n",
    "\n",
    "import socket\n",
    "\n",
    "def tcp_qotd_client():\n",
    "    s = socket.socket()\n",
    "    s.connect(('127.0.0.1',12347))\n",
    "    msg = bytearray() # <- A bytearray to store the parts of message\n",
    "    chunk = s.recv(4) # <- Receive the first message piece\n",
    "    while chunk:\n",
    "        print(msg) # <- To see the message grow\n",
    "        msg.extend(chunk) # <- adds to bytearray\n",
    "        chunk = s.recv(4) # <- receives next chunk of msg\n",
    "    print(msg) # <- prints the completed message\n",
    "\n",
    "tcp_qotd_client()    "
   ]
  },
  {
   "cell_type": "markdown",
   "metadata": {},
   "source": [
    "### Demo time\n",
    "\n",
    "- Build a client socket to connect to the IP and Port provided by the instructor\n",
    "\n",
    "- Send a message (in bytes) to the server\n",
    "\n",
    "- Receive a message (in bytes) from the server and print the final message received\n",
    "\n",
    "- Safe practice and ways to identify an error in your code, implement error handling with the use of try and except in the client\n",
    "\n",
    "- **NOTE:** The use of try and except in a client connection is not mandatory, but it is good practice and helps us identify where the issue is if an error is present in your client"
   ]
  },
  {
   "cell_type": "code",
   "execution_count": 5,
   "metadata": {},
   "outputs": [
    {
     "name": "stdout",
     "output_type": "stream",
     "text": [
      "bytearray(b'Welcome to the server!')\n"
     ]
    }
   ],
   "source": [
    "def clientTCP(address, port):\n",
    "    import socket\n",
    "    s = socket.socket()\n",
    "    try:\n",
    "        s.connect((address, port))\n",
    "        bytes_message = b\"ZACHARY HAINES\"\n",
    "        s.sendall(bytes_message)\n",
    "        received_messages = bytearray()\n",
    "\n",
    "        chunk = s.recv(5)\n",
    "        while chunk:\n",
    "            received_messages.extend(chunk)\n",
    "            chunk = s.recv(5)\n",
    "\n",
    "        print(received_messages)\n",
    "\n",
    "    except Exception as error:\n",
    "        print(error)\n",
    "    \n",
    "dest_server = '10.50.28.122'\n",
    "dest_port = 59879\n",
    "clientTCP(dest_server, dest_port)"
   ]
  }
 ],
 "metadata": {
  "kernelspec": {
   "display_name": "Python 3",
   "language": "python",
   "name": "python3"
  },
  "language_info": {
   "codemirror_mode": {
    "name": "ipython",
    "version": 3
   },
   "file_extension": ".py",
   "mimetype": "text/x-python",
   "name": "python",
   "nbconvert_exporter": "python",
   "pygments_lexer": "ipython3",
   "version": "3.8.10"
  }
 },
 "nbformat": 4,
 "nbformat_minor": 2
}
