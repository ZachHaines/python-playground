{
 "cells": [
  {
   "cell_type": "markdown",
   "metadata": {},
   "source": [
    "---\n",
    "\n",
    "# Day 1\n",
    "\n",
    "--- "
   ]
  },
  {
   "cell_type": "markdown",
   "metadata": {},
   "source": [
    "## Object Data Types"
   ]
  },
  {
   "cell_type": "markdown",
   "metadata": {},
   "source": [
    "### Overview\n",
    "\n",
    "#### Data Types\n",
    "\n",
    "- integer (int)\n",
    "- float\n",
    "- boolean (bool)\n",
    "- string (str)\n",
    "- None\n",
    "\n",
    "#### Containers\n",
    "\n",
    "- lists\n",
    "- tuple\n",
    "\n",
    "\n",
    "### Check Data Type\n",
    "\n",
    "`type()` function shows what kind of type the argument is. Example: `type(6)` : **int**\n",
    "\n",
    "### Division\n",
    "- Quotient (`/`) division always outputs a float. Example: `5/2` : **2/5**\n",
    "\n",
    "- Integer (`//`) division outputs an integer. Example: `5//2` : **2**\n",
    "\n",
    "- Modulus (`%`) division returns remainder. Example: `5 % 3` : **2**\n",
    "\n",
    "### Boolean\n",
    "\n",
    "### Strings\n",
    "\n",
    "- Escape Character (`\\`): Use the backslash (`\\`) to ignore the the following character.\n",
    "- Double quotes vs single quotes\n",
    "- Unicode Example: `'\\U00000195'` : **ƕ**\n",
    "- Adding Strings: `'a' + 'b'` : **ab**\n",
    "\n",
    "### Lists\n",
    "\n",
    "- Lists are wrapped in square brackets `[]`\n",
    "- Lists are mutable\n",
    "- Create an empty list: `[]` or `list()`\n",
    "\n",
    "### Tuple\n",
    "\n",
    "- Similar to a list, but not as dynamic or mutable\n",
    "- Tuple values are wrapped in paraenthesis \n",
    "- Good for dat preservation. \n",
    "- Example: `(1,2,3,5.7,0,'words',[1,2,3])`\n",
    "\n",
    "### Misc\n",
    "\n",
    "- `help('keywords')` displays all of the reserved words in Python"
   ]
  },
  {
   "cell_type": "markdown",
   "metadata": {},
   "source": [
    "## Variables"
   ]
  },
  {
   "cell_type": "markdown",
   "metadata": {},
   "source": [
    "> `mynumber = 1`  \n",
    "> `print(mynumber)`    \n",
    "> `Mynumber = 2`  \n",
    "> `print(MyNumber)`   \n",
    "\n",
    "**1**  \n",
    "**2**\n",
    "- Dynamic variable declarartion  \n",
    "> `var1, var2, var3 = 'one', 2, 3.0`  \n",
    "> `print(var1, var2, var3)`\n",
    "\n",
    "**one 2 3.0**\n",
    "\n",
    "### Incremental Variable\n",
    "\n",
    "`ans = ans + 15`  **OR** `ans += 15`\n",
    "\n",
    "### Data Conversion\n",
    "\n",
    "- `int()` - constructs an integer number from an integer literal, a float literal (by removing all decimals), or a string literal (providing the string represents a whole number)\n",
    "- `float()` - constructs a float number from an integer literal, a float literal or a string literal (providing the string represents a float or an integer)\n",
    "- `str()` - constructs a string from a wide variety of data types, including strings, integer literals and float literals\n",
    "\n",
    "#### Example: \n",
    "```\n",
    "num = '4'\n",
    "print (int(num) + 5)\n",
    "```\n",
    "\n",
    "#### Storing data conversion in new variable\n",
    "```\n",
    "fl_num = 4.5\n",
    "str_num = str(fl_num)\n",
    "print(type(str_num))\n",
    "```\n",
    "***<class 'str'>***\n",
    "\n",
    "***Note:*** To convert from a string to an integer with a decimal, you must convert from string --> float --> integer\n",
    "\n",
    "- `tuple()`: Convert list to a tuple.\n",
    "\n",
    "### input() Function\n",
    "\n",
    "- `input()` - Queries a user for input\n",
    "- Store an input to a variable. Example: `last_name = input()`\n",
    "- **Warning!** `input()` automatically interprets to a string! \n",
    "- If requesting input for another data type besides a string, convert before storing to variable. \n",
    "- Example: `input_num = int(input())` \n",
    "- User Input Prompt: `full_name = input('Enter your name: ')`\n",
    "\n",
    "### Expanding on the Print Function\n",
    "\n",
    "- the `print()` function includes a return carriage `\\n` by default. Adjust the **end** parameter to change default return carriage.\n",
    "- Example: `print('hello', end='+'); print('world')`\n",
    "- **sep** separator value: If print() function receives multiple arguements, the seperator value changes the character(s) between the arguments."
   ]
  },
  {
   "cell_type": "markdown",
   "metadata": {},
   "source": [
    "---\n",
    "\n",
    "# Day 2\n",
    "\n",
    "--- "
   ]
  },
  {
   "cell_type": "markdown",
   "metadata": {},
   "source": [
    "## Indexing"
   ]
  },
  {
   "cell_type": "code",
   "execution_count": null,
   "metadata": {},
   "outputs": [],
   "source": [
    "# Indexing allows us to access individual items in an ordered collection (string, list, tuple)\n",
    "# Python uses 0-based indexing: the first time is index 0, the second item is index 1, ...\n",
    "# Python also allows negative indexing: the last item is index -1, the second to last time is index -2, ...\n",
    "\n",
    "#          01234\n",
    "aString = 'hello'\n",
    "print(aString[0])\n",
    "print(aString[4])\n",
    "print(aString[-5])\n",
    "print(aString[-1])"
   ]
  },
  {
   "cell_type": "code",
   "execution_count": 130,
   "metadata": {},
   "outputs": [
    {
     "name": "stdout",
     "output_type": "stream",
     "text": [
      "1\n",
      "4\n",
      "1\n",
      "4\n"
     ]
    }
   ],
   "source": [
    "#        0 1 2 3\n",
    "aList = [1,2,3,4]\n",
    "print(aList[0])\n",
    "print(aList[3])\n",
    "print(aList[-4])\n",
    "print(aList[-1])"
   ]
  },
  {
   "cell_type": "markdown",
   "metadata": {},
   "source": [
    "## String methods"
   ]
  },
  {
   "cell_type": "code",
   "execution_count": null,
   "metadata": {},
   "outputs": [],
   "source": [
    "# The dir() function returns all properties and methods of the specified object, without the values.\n",
    "# This function will return all the properties and methods, even built-in properties which are default for all object.\n",
    "\n",
    "dir(str)"
   ]
  },
  {
   "cell_type": "markdown",
   "metadata": {},
   "source": [
    "### .format Method"
   ]
  },
  {
   "cell_type": "code",
   "execution_count": null,
   "metadata": {},
   "outputs": [],
   "source": [
    "# string methods (a method is a function that works on specific object types)\n",
    "# format() method\n",
    "name = 'Smilla'\n",
    "pet = 'dog'\n",
    "myString = 'I have a {} whose name is {}.'.format(pet, name)\n",
    "print(myString)\n",
    "\n",
    "pi = 3.14159\n",
    "aStr = 'Pi rounded to four decimal places is {:.4f}.'.format(pi)\n",
    "print(aStr)\n",
    "\n",
    "# alternately can use f-strings\n",
    "myString = f'I have a {pet} whose name is {name}.'\n",
    "print(myString)\n",
    "\n",
    "aStr = f'Pi rounded to four decimal places is {pi:.4f}.'\n",
    "print(aStr)"
   ]
  },
  {
   "cell_type": "markdown",
   "metadata": {},
   "source": [
    "### .split Method"
   ]
  },
  {
   "cell_type": "code",
   "execution_count": null,
   "metadata": {},
   "outputs": [],
   "source": [
    "# split() method - split a string into a list based on a delimiter\n",
    "\n",
    "aStr = 'This is a sentence'\n",
    "print(aStr.split(' '))\n",
    "print(aStr.split())     # by default the delimiter is the ' ' character\n",
    "\n",
    "csvString = 'This,might,be,what,a,csv,file,looks,like'\n",
    "print(csvString.split(','))\n",
    "\n",
    "aMACaddress = '07:bb:21:3d:a9:29'\n",
    "print(aMACaddress.split(':'))\n",
    "\n",
    "anIPaddress = '192.168.68.101'\n",
    "print(anIPaddress.split('.'))"
   ]
  },
  {
   "cell_type": "markdown",
   "metadata": {},
   "source": [
    "### .join Method"
   ]
  },
  {
   "cell_type": "code",
   "execution_count": null,
   "metadata": {},
   "outputs": [],
   "source": [
    "# join() method - constuct a string from a list where each list element is separated by the given string\n",
    "\n",
    "# string are immutable, but given a string how could I 'make changes' to it?\n",
    "\n",
    "myStr = 'line tree' # want to change it to 'pine tree'\n",
    "print(myStr)\n",
    "\n",
    "myStrList = list(myStr)\n",
    "print(myStrList)\n",
    "\n",
    "myStrList[0] = 'p'\n",
    "print(myStrList)\n",
    "\n",
    "myStr = ''.join(myStrList)\n",
    "print(myStr)\n",
    "\n",
    "# put the IP address from above back together\n",
    "anIPaddress = '192.168.68.101'\n",
    "print(anIPaddress)\n",
    "\n",
    "anIPaddressList = anIPaddress.split('.')\n",
    "print(anIPaddressList)\n",
    "\n",
    "anIPaddressReassembled = '.'.join(anIPaddressList)\n",
    "print(anIPaddressReassembled)"
   ]
  },
  {
   "cell_type": "markdown",
   "metadata": {},
   "source": [
    "### .replace Method"
   ]
  },
  {
   "cell_type": "code",
   "execution_count": null,
   "metadata": {},
   "outputs": [],
   "source": [
    "# replace() method - create a copy of the string where first character is replaced by second character\n",
    "\n",
    "aStr = '192.168.68.101'\n",
    "print(aStr.replace('.', '+'))\n",
    "\n",
    "# aStr not modified\n",
    "print(aStr)"
   ]
  },
  {
   "cell_type": "markdown",
   "metadata": {},
   "source": [
    "### .strip Method"
   ]
  },
  {
   "cell_type": "code",
   "execution_count": null,
   "metadata": {},
   "outputs": [],
   "source": [
    "# strip() method - remove characters from left and right side of string; by default removes whitespace\n",
    "\n",
    "aStr = '    characters     '\n",
    "print(aStr)\n",
    "\n",
    "print(aStr.strip())\n",
    "\n",
    "# optional argument is all characters to be removed from left and right side of string\n",
    "bStr = 'www.example.com'\n",
    "print(bStr.strip('w.com'))"
   ]
  },
  {
   "cell_type": "markdown",
   "metadata": {},
   "source": [
    "### string boolean Methods"
   ]
  },
  {
   "cell_type": "code",
   "execution_count": null,
   "metadata": {},
   "outputs": [],
   "source": [
    "# some boolean string methods - returns True or False\n",
    "\n",
    "aStr = 'word'\n",
    "print(aStr.isalpha())\n",
    "print(aStr.islower())\n",
    "print(aStr.isupper())\n",
    "print(aStr.isdigit())"
   ]
  },
  {
   "cell_type": "markdown",
   "metadata": {},
   "source": [
    "## List Methods"
   ]
  },
  {
   "cell_type": "markdown",
   "metadata": {},
   "source": [
    "### .append Method"
   ]
  },
  {
   "cell_type": "code",
   "execution_count": null,
   "metadata": {},
   "outputs": [],
   "source": [
    "# append() method - add an item to the end of the list\n",
    "aList = [1,2,3,4]\n",
    "print(aList)\n",
    "aList.append(5)\n",
    "print(aList)"
   ]
  },
  {
   "cell_type": "markdown",
   "metadata": {},
   "source": [
    "### .count Method"
   ]
  },
  {
   "cell_type": "code",
   "execution_count": null,
   "metadata": {},
   "outputs": [],
   "source": [
    "# count() method - returns the number of occurences of the argument in the list\n",
    "aList = [1,4,4,3]\n",
    "print(aList.count(1))\n",
    "print(aList.count(4))\n",
    "print(aList.count(5))"
   ]
  },
  {
   "cell_type": "markdown",
   "metadata": {},
   "source": [
    "### .extend Method"
   ]
  },
  {
   "cell_type": "code",
   "execution_count": null,
   "metadata": {},
   "outputs": [],
   "source": [
    "# extend Method - add one list onto the end of another list\n",
    "aList = [1,2,3,4]\n",
    "bList = [5,6,7,8]\n",
    "aList.extend(bList)\n",
    "print(aList)\n",
    "\n",
    "# extend is functionally the same as concatenating one list to another\n",
    "cList = [1,2,3,4]\n",
    "dList = [5,6,7,8]\n",
    "cList += dList\n",
    "print(cList)"
   ]
  },
  {
   "cell_type": "markdown",
   "metadata": {},
   "source": [
    "### .pop Method"
   ]
  },
  {
   "cell_type": "code",
   "execution_count": null,
   "metadata": {},
   "outputs": [],
   "source": [
    "# pop() Method - removes and returns item at index provided as argument (default is last item)\n",
    "aList = [1,2,3,4]\n",
    "a = aList.pop(0)\n",
    "print(a)\n",
    "print(aList)\n",
    "b = aList.pop()\n",
    "print(b)\n",
    "print(aList)"
   ]
  },
  {
   "cell_type": "markdown",
   "metadata": {},
   "source": [
    "### .remove Method"
   ]
  },
  {
   "cell_type": "code",
   "execution_count": null,
   "metadata": {},
   "outputs": [],
   "source": [
    "# remove() method - removes first occurrence of item provided by argument; if item is not in list there will be an error\n",
    "aList = [1,2,3,2,3]\n",
    "aList.remove(2)\n",
    "print(aList)"
   ]
  },
  {
   "cell_type": "markdown",
   "metadata": {},
   "source": [
    "### sum Function"
   ]
  },
  {
   "cell_type": "code",
   "execution_count": null,
   "metadata": {},
   "outputs": [],
   "source": [
    "# sum() - built-in Function that adds up all numbers in a tuple, list or set (every item must be a number)\n",
    "aList = [1,2,3,4]\n",
    "print(sum(aList))\n",
    "\n",
    "aTuple = (1,2,3)\n",
    "print(sum(aTuple))\n",
    "\n",
    "aSet = {1,2,3,4,5}\n",
    "print(sum(aSet))"
   ]
  },
  {
   "cell_type": "markdown",
   "metadata": {},
   "source": [
    "## Mathematical operators"
   ]
  },
  {
   "cell_type": "code",
   "execution_count": null,
   "metadata": {},
   "outputs": [],
   "source": [
    "# mathematical operators\n",
    "a = 8\n",
    "b = 3\n",
    "print(a + b)    # addition\n",
    "print(a - b)    # subtraction\n",
    "print(a * b)    # multiplication\n",
    "print(a / b)    # division\n",
    "print(4 / 2)    # division always results in a float\n",
    "print(a // b)   # integer division\n",
    "print(a % b)    # modulo division\n",
    "print(a ** b)   # exponentation"
   ]
  },
  {
   "cell_type": "markdown",
   "metadata": {},
   "source": [
    "### math and assignment short cuts"
   ]
  },
  {
   "cell_type": "code",
   "execution_count": null,
   "metadata": {},
   "outputs": [],
   "source": [
    "# mathematical operators and assignment examples\n",
    "a = a + 1\n",
    "a += 1\n",
    "print(a)\n",
    "\n",
    "a = a - 1\n",
    "a -= 1\n",
    "print(a)\n",
    "\n",
    "a = a * 3\n",
    "a *= 3\n",
    "print(a)\n",
    "\n",
    "a = a / 3\n",
    "a /= 3\n",
    "print(a)"
   ]
  },
  {
   "cell_type": "markdown",
   "metadata": {},
   "source": [
    "### round Function"
   ]
  },
  {
   "cell_type": "code",
   "execution_count": null,
   "metadata": {},
   "outputs": [],
   "source": [
    "# round() - built-in function that rounds argument to nearest integer (up or down)\n",
    "print(round(4.3))\n",
    "print(round(4.6))\n",
    "print(round(5.82673843, 3))\n",
    "print(round(527.924, -2))"
   ]
  },
  {
   "cell_type": "markdown",
   "metadata": {},
   "source": [
    "### input Function"
   ]
  },
  {
   "cell_type": "code",
   "execution_count": null,
   "metadata": {},
   "outputs": [],
   "source": [
    "# input() function -  used to get input from the user via the keyboard\n",
    "# optional argument is the prompt: this is a message outputed to the screen\n",
    "\n",
    "a = input('Enter something for me: ')\n",
    "print(a)"
   ]
  },
  {
   "cell_type": "code",
   "execution_count": null,
   "metadata": {},
   "outputs": [],
   "source": [
    "# input() always returns a string\n",
    "# repr returns a readable version of an object\n",
    "# The isinstance() function returns True if the specified object is of the specified type, otherwise False.\n",
    "\n",
    "a = input('Enter an integer: ')\n",
    "print(repr(a))\n",
    "print(type(a))\n",
    "print (isinstance(a, str))"
   ]
  },
  {
   "cell_type": "markdown",
   "metadata": {},
   "source": [
    "### User Defined Functions"
   ]
  },
  {
   "cell_type": "code",
   "execution_count": null,
   "metadata": {},
   "outputs": [],
   "source": [
    "# user defined functions\n",
    "\n",
    "def multiply(a: float,b: float):  # the parameters for this function are a and b\n",
    "    print(a*b)      # this is the function body\n",
    "\n",
    "multiply(2,3)       # call the function with arguments; they must match up with the parameters\n",
    "\n",
    "funcReturn = multiply(4,3) # multiply() does not return anything\n",
    "print(funcReturn)"
   ]
  },
  {
   "cell_type": "markdown",
   "metadata": {},
   "source": [
    "#### return Statement"
   ]
  },
  {
   "cell_type": "code",
   "execution_count": 150,
   "metadata": {},
   "outputs": [
    {
     "name": "stdout",
     "output_type": "stream",
     "text": [
      "8\n"
     ]
    }
   ],
   "source": [
    "# user defined function with a return statement\n",
    "\n",
    "def power(base:float, exp:float) -> float:\n",
    "    return base ** exp\n",
    "\n",
    "funcReturn  = power(2,3)\n",
    "print(funcReturn)"
   ]
  },
  {
   "cell_type": "markdown",
   "metadata": {},
   "source": [
    "#### pass Statement"
   ]
  },
  {
   "cell_type": "code",
   "execution_count": null,
   "metadata": {},
   "outputs": [],
   "source": [
    "# pass statement - legal code that does nothing\n",
    "# generally provided after a function definition that does not yet have a function body\n",
    "\n",
    "def myFunction():       # legal function definition\n",
    "    pass                # legal function body\n",
    "\n",
    "myFunction()            # function call"
   ]
  },
  {
   "cell_type": "markdown",
   "metadata": {},
   "source": [
    "#### function Scope"
   ]
  },
  {
   "cell_type": "code",
   "execution_count": null,
   "metadata": {},
   "outputs": [],
   "source": [
    "# Scope\n",
    "# Python will always look local scope before global scope (unless explictly directed to do otherwise)\n",
    "\n",
    "x = 10          # global variable defined named x\n",
    "\n",
    "def aFunc():\n",
    "    x = 20      # local variable defined named x\n",
    "    print(x)    # Python looks for any local variables first\n",
    "\n",
    "aFunc()\n",
    "print(x)        # the local variable x does not exist anymore; this is the global x"
   ]
  },
  {
   "cell_type": "code",
   "execution_count": null,
   "metadata": {},
   "outputs": [],
   "source": [
    "# demonstrate why it is not advised to use variable names that are also built-in function names\n",
    "# this unfortunate result occurs because of local vs global scope"
   ]
  },
  {
   "cell_type": "markdown",
   "metadata": {},
   "source": [
    "----\n",
    "\n",
    "# Day 3\n",
    "\n",
    "---"
   ]
  },
  {
   "cell_type": "markdown",
   "metadata": {},
   "source": [
    "### Comparison operators"
   ]
  },
  {
   "cell_type": "code",
   "execution_count": null,
   "metadata": {},
   "outputs": [],
   "source": [
    "# bool revisited\n",
    "print(type(True))\n",
    "print(type(False))"
   ]
  },
  {
   "cell_type": "code",
   "execution_count": 4,
   "metadata": {},
   "outputs": [
    {
     "name": "stdout",
     "output_type": "stream",
     "text": [
      "False\n",
      "False\n",
      "True\n",
      "True\n",
      "False\n",
      "True\n"
     ]
    }
   ],
   "source": [
    "# comparison operators\n",
    "a = 4\n",
    "b = 3\n",
    "print(a == b)   # equality\n",
    "print(a < b)    # less than\n",
    "print(a > b)    # greater than\n",
    "print(a != b)   # not equal\n",
    "print(a <= b)   # less than or equal\n",
    "print(a >= b)   # greater than or equal"
   ]
  },
  {
   "cell_type": "markdown",
   "metadata": {},
   "source": [
    "### in operator"
   ]
  },
  {
   "cell_type": "code",
   "execution_count": null,
   "metadata": {},
   "outputs": [],
   "source": [
    "# collection membership\n",
    "print('e' in 'hello')\n",
    "print('f' in 'hello')\n",
    "print(1 in [1, 2, 3, 4])\n",
    "print(5 in [1, 2, 3, 4])"
   ]
  },
  {
   "cell_type": "markdown",
   "metadata": {},
   "source": [
    "### is operator"
   ]
  },
  {
   "cell_type": "code",
   "execution_count": 5,
   "metadata": {},
   "outputs": [
    {
     "name": "stdout",
     "output_type": "stream",
     "text": [
      "True\n",
      "False\n",
      "True\n",
      "9776768\n",
      "9776768\n"
     ]
    }
   ],
   "source": [
    "# object id match\n",
    "print(a is a)\n",
    "print(a is b)\n",
    "\n",
    "c = 4\n",
    "print(a is c)\n",
    "print(id(a))\n",
    "print(id(c))"
   ]
  },
  {
   "cell_type": "markdown",
   "metadata": {},
   "source": [
    "### logical operators"
   ]
  },
  {
   "cell_type": "markdown",
   "metadata": {},
   "source": [
    "#### and"
   ]
  },
  {
   "cell_type": "code",
   "execution_count": null,
   "metadata": {},
   "outputs": [],
   "source": [
    "# logical operators\n",
    "\n",
    "# and\n",
    "print(True and True)\n",
    "print(True and False)\n",
    "print(False and True)\n",
    "print(False and False)\n",
    "\n",
    "timeInRank = True\n",
    "enoughPromotionPoints = False\n",
    "\n",
    "elligibleForPromotion  = timeInRank and enoughPromotionPoints\n",
    "\n",
    "print(f'SGT Smith elligble for promotion: {elligibleForPromotion}')"
   ]
  },
  {
   "cell_type": "markdown",
   "metadata": {},
   "source": [
    "#### or"
   ]
  },
  {
   "cell_type": "code",
   "execution_count": null,
   "metadata": {},
   "outputs": [],
   "source": [
    "# or\n",
    "print(True or True)\n",
    "print(True or False)\n",
    "print(False or True)\n",
    "print(False or False)\n",
    "\n",
    "ballThrownToFirstBeforeRunner = True\n",
    "runnerTaggedByBallBeforeFirst = False\n",
    "\n",
    "runnerIsOut = ballThrownToFirstBeforeRunner or runnerTaggedByBallBeforeFirst\n",
    "\n",
    "print(f'The batter is out: {runnerIsOut}')"
   ]
  },
  {
   "cell_type": "markdown",
   "metadata": {},
   "source": [
    "#### not"
   ]
  },
  {
   "cell_type": "code",
   "execution_count": null,
   "metadata": {},
   "outputs": [],
   "source": [
    "# not\n",
    "print(not(True))\n",
    "print(not(False))\n",
    "\n",
    "minesPresent = False\n",
    "\n",
    "safeToProceed = not(minesPresent)\n",
    "\n",
    "print(f'The platoon may proceed through the obstacle: {safeToProceed}')"
   ]
  },
  {
   "cell_type": "markdown",
   "metadata": {},
   "source": [
    "### Order of Operations\n",
    "\n",
    "1. ()\n",
    "2. ** Power\n",
    "3. *, / Multiply & Divide\n",
    "4. +- Addition & Subtraction\n",
    "5. ==, <, >, <=, >=, != \n",
    "6. not\n",
    "7. and\n",
    "8. or"
   ]
  },
  {
   "cell_type": "markdown",
   "metadata": {},
   "source": [
    "## Branching a.k.a Conditional Statements a.k.a Selection Statements"
   ]
  },
  {
   "cell_type": "markdown",
   "metadata": {},
   "source": [
    "### if"
   ]
  },
  {
   "cell_type": "markdown",
   "metadata": {},
   "source": [
    "#### using boolean variable"
   ]
  },
  {
   "cell_type": "code",
   "execution_count": null,
   "metadata": {},
   "outputs": [],
   "source": [
    "# Branching a.k.a conditional statements a.k.a. selection statements\n",
    "\n",
    "# if statement\n",
    "\n",
    "condition = True\n",
    "\n",
    "if condition:\n",
    "    print('this line will display if the condition is True.')\n",
    "\n",
    "print('this line always displays')"
   ]
  },
  {
   "cell_type": "markdown",
   "metadata": {},
   "source": [
    "#### using boolean string method"
   ]
  },
  {
   "cell_type": "code",
   "execution_count": null,
   "metadata": {},
   "outputs": [],
   "source": [
    "# if using a boolean function\n",
    "ui = input('Enter an integer: ')\n",
    "if ui.isdigit():\n",
    "    print(f'The integer you entered is {int(ui)}')"
   ]
  },
  {
   "cell_type": "markdown",
   "metadata": {},
   "source": [
    "### if-else"
   ]
  },
  {
   "cell_type": "markdown",
   "metadata": {},
   "source": [
    "#### using boolean variable"
   ]
  },
  {
   "cell_type": "code",
   "execution_count": null,
   "metadata": {},
   "outputs": [],
   "source": [
    "# if - else\n",
    " \n",
    "condition =  True\n",
    "\n",
    "if condition:\n",
    "    print('this line will display if the condition is True.')\n",
    "else:\n",
    "    print('this line will display if the condition is False.')\n",
    "\n",
    "print('this line always displays.')"
   ]
  },
  {
   "cell_type": "markdown",
   "metadata": {},
   "source": [
    "#### using boolean string method"
   ]
  },
  {
   "cell_type": "code",
   "execution_count": 7,
   "metadata": {},
   "outputs": [
    {
     "name": "stdout",
     "output_type": "stream",
     "text": [
      "The integer you entered is 9\n"
     ]
    }
   ],
   "source": [
    "# if - else using a boolean function\n",
    "ui = input('Enter an integer: ')\n",
    "if ui.isdigit():\n",
    "    print(f'The integer you entered is {int(ui)}')\n",
    "else:\n",
    "    print(f'{ui} is not an integer!')"
   ]
  },
  {
   "cell_type": "markdown",
   "metadata": {},
   "source": [
    "### if-elif-else"
   ]
  },
  {
   "cell_type": "code",
   "execution_count": null,
   "metadata": {},
   "outputs": [],
   "source": [
    "# if - elif -else\n",
    "# elif (short for else if) allows us to test another condition if the first condition is False\n",
    "\n",
    "grade = 100\n",
    "\n",
    "if grade >= 90:\n",
    "    print('You got an A')\n",
    "elif grade >= 80:\n",
    "    print('You got a B')\n",
    "elif grade >= 70:\n",
    "    print('You got a C')\n",
    "elif grade >= 60:\n",
    "    print('You got a D')\n",
    "else:\n",
    "    print('You failed.')"
   ]
  },
  {
   "cell_type": "markdown",
   "metadata": {},
   "source": [
    "#### bad logic used in if-elif-else"
   ]
  },
  {
   "cell_type": "code",
   "execution_count": null,
   "metadata": {},
   "outputs": [],
   "source": [
    "# bad logic - need to go from most specific to least specific\n",
    "\n",
    "grade = 100\n",
    "\n",
    "if grade >= 60:\n",
    "    print('You got an D')\n",
    "elif grade >= 70:\n",
    "    print('You got a C')\n",
    "elif grade >= 80:\n",
    "    print('You got a B')\n",
    "elif grade >= 90:\n",
    "    print('You got a A')\n",
    "else:\n",
    "    print('You failed.')"
   ]
  },
  {
   "cell_type": "markdown",
   "metadata": {},
   "source": [
    "#### correct logic, but unnecessary conditions given if-elif-else construct"
   ]
  },
  {
   "cell_type": "code",
   "execution_count": null,
   "metadata": {},
   "outputs": [],
   "source": [
    "# Correct logic, but unnecessary conditions used given if-elif-else construct\n",
    "\n",
    "grade = 100\n",
    "\n",
    "if grade >= 90:\n",
    "    print('You got an A')\n",
    "elif grade >= 80 and grade < 90:\n",
    "    print('You got a B')\n",
    "elif grade >= 70 and grade < 80:\n",
    "    print('You got a C')\n",
    "elif grade >= 60 and grade < 70:\n",
    "    print('You got a D')\n",
    "else:\n",
    "    print('You failed.')"
   ]
  },
  {
   "cell_type": "markdown",
   "metadata": {},
   "source": [
    "#### determine if user input integer is odd or even"
   ]
  },
  {
   "cell_type": "code",
   "execution_count": null,
   "metadata": {},
   "outputs": [],
   "source": [
    "# odd or even?\n",
    "\n",
    "number = int(input('Enter a number: '))\n",
    "\n",
    "if number % 2 == 0:\n",
    "    print(f'{number} is even.')\n",
    "else:\n",
    "    print(f'{number} is odd.')"
   ]
  },
  {
   "cell_type": "markdown",
   "metadata": {},
   "source": [
    "### len Function"
   ]
  },
  {
   "cell_type": "code",
   "execution_count": null,
   "metadata": {},
   "outputs": [],
   "source": [
    "# len() - built-in funcction that returns the number of elements in a collection\n",
    "aStr = 'hello'\n",
    "print(len(aStr))\n",
    "\n",
    "aList = [1, 2, 3, 4]\n",
    "print(len(aList))\n",
    "\n",
    "aTuple = (1, 2, 3, 4, 5, 6)\n",
    "print(len(aTuple))"
   ]
  },
  {
   "cell_type": "markdown",
   "metadata": {},
   "source": [
    "### Slicing"
   ]
  },
  {
   "cell_type": "code",
   "execution_count": null,
   "metadata": {},
   "outputs": [],
   "source": [
    "# slicing - ordered sequences can be sliced\n",
    "# slicing a string generates a sub-string\n",
    "# slicing a list generates a sub-list\n",
    "# slicing a tuple generates a sub-tuple\n",
    "\n",
    "# syntax\n",
    "# sequence[start:stop:step]\n",
    "# note that step by default is 1 and so may be omitted\n",
    "# start is inclusive\n",
    "# stop is exclusive\n",
    "\n",
    "# index  0  1  2  3  4\n",
    "aList = [1, 2, 3, 4, 5]\n",
    "\n",
    "print(aList[0:1])\n",
    "print(aList[0:2])\n",
    "print(aList[2:4])\n",
    "print(aList[:3])\n",
    "print(aList[3:])\n",
    "print(aList[:])     # creates a shallow copy of the list\n",
    "print(aList[::-1])  # creates a reversed shallow copy of the list\n",
    "\n",
    "a = aList\n",
    "print(a is aList)\n",
    "a = aList[:]\n",
    "print(a is aList)"
   ]
  },
  {
   "cell_type": "markdown",
   "metadata": {},
   "source": [
    "### range Function"
   ]
  },
  {
   "cell_type": "code",
   "execution_count": 8,
   "metadata": {},
   "outputs": [
    {
     "name": "stdout",
     "output_type": "stream",
     "text": [
      "range(0, 10)\n",
      "<class 'range'>\n",
      "[0, 1, 2, 3, 4, 5, 6, 7, 8, 9]\n",
      "[1, 2, 3, 4, 5, 6, 7, 8, 9]\n",
      "[1, 3, 5, 7, 9]\n",
      "[10, 9, 8, 7, 6, 5, 4, 3, 2, 1, 0]\n"
     ]
    }
   ],
   "source": [
    "# range() - built-in function that creates a range object\n",
    "# arguments are start, stop, step where only stop is mandatory; by default start is 0 and step is 1\n",
    "\n",
    "print(range(10))\n",
    "print(type(range(10)))\n",
    "\n",
    "print(list(range(10)))          # ordered sequence from 0 to 9\n",
    "print(list(range(1,10)))        # ordered sequence from 1 to 9\n",
    "print(list(range(1,10,2)))      # ordered sequence of odd numbers from 1 to 9\n",
    "print(list(range(10,-1,-1)))    # ordered sequence from 10 to 0"
   ]
  },
  {
   "cell_type": "code",
   "execution_count": null,
   "metadata": {},
   "outputs": [],
   "source": [
    "# How can I get a sequence of indices for a string?\n",
    "myString = 'Hello World'\n",
    "myStringIndices = list(range(len(myString)))\n",
    "print(myStringIndices)"
   ]
  },
  {
   "cell_type": "markdown",
   "metadata": {},
   "source": [
    "## Loops"
   ]
  },
  {
   "cell_type": "markdown",
   "metadata": {},
   "source": [
    "### while loops"
   ]
  },
  {
   "cell_type": "markdown",
   "metadata": {},
   "source": [
    "#### using boolean variable as condition"
   ]
  },
  {
   "cell_type": "code",
   "execution_count": null,
   "metadata": {},
   "outputs": [],
   "source": [
    "# while loop - used for indefinite iteration\n",
    "# a while loop executes if a condition is True, and will continue as long as the condition is true\n",
    "# think of it as a repeating if statement\n",
    "\n",
    "condition  = False\n",
    "while condition:\n",
    "    print('This line will never display.')"
   ]
  },
  {
   "cell_type": "markdown",
   "metadata": {},
   "source": [
    "####  using boolean expression as condition"
   ]
  },
  {
   "cell_type": "code",
   "execution_count": null,
   "metadata": {},
   "outputs": [],
   "source": [
    "# boolean expression as condition for while loop\n",
    "\n",
    "a = 0\n",
    "while a < 5:\n",
    "    print(f'Loop iteration: {a}')\n",
    "    a += 1"
   ]
  },
  {
   "cell_type": "code",
   "execution_count": null,
   "metadata": {},
   "outputs": [],
   "source": [
    "# Using a Flag to exit a While Loop\n",
    "a = 0\n",
    "done = False\n",
    "while not done:\n",
    "    print(a)\n",
    "    a += 1\n",
    "    if a > 5:\n",
    "        done = True"
   ]
  },
  {
   "cell_type": "markdown",
   "metadata": {},
   "source": [
    "#### infinite loops"
   ]
  },
  {
   "cell_type": "code",
   "execution_count": null,
   "metadata": {},
   "outputs": [],
   "source": [
    "# infinite loop occurs if the there is no mechanism for the loop condition to become False\n",
    "\n",
    "a = 0\n",
    "while a < 5:\n",
    "    print('This line displays forever!')"
   ]
  },
  {
   "cell_type": "markdown",
   "metadata": {},
   "source": [
    "#### Review of values evaluating to True or False"
   ]
  },
  {
   "cell_type": "code",
   "execution_count": 9,
   "metadata": {},
   "outputs": [
    {
     "name": "stdout",
     "output_type": "stream",
     "text": [
      "Empty string evaluates to False\n",
      "Non-empty string evaluates to True\n",
      "Empty list evaluates to False\n",
      "Non-empty list evaluates to True\n"
     ]
    }
   ],
   "source": [
    "# All values evaulate to True or False as a condition, not just boolean data types\n",
    "# Some non-bool data types values that evaluate to False as a condition\n",
    "\n",
    "if '':\n",
    "    print('Does not display')\n",
    "else:\n",
    "    print('Empty string evaluates to False')\n",
    "\n",
    "if ' ':\n",
    "    print('Non-empty string evaluates to True')\n",
    "else:\n",
    "    print('Does not display')\n",
    "\n",
    "if []:\n",
    "    print('Does not display')\n",
    "else:\n",
    "    print('Empty list evaluates to False')\n",
    "\n",
    "if [1]:\n",
    "    print('Non-empty list evaluates to True')\n",
    "else:\n",
    "    print('Does not display')"
   ]
  },
  {
   "cell_type": "markdown",
   "metadata": {},
   "source": [
    "#### Check to see if user provided any substantive input (not the empty string)"
   ]
  },
  {
   "cell_type": "code",
   "execution_count": null,
   "metadata": {},
   "outputs": [],
   "source": [
    "# Non-empty string user input will be treated as True\n",
    "# Empty string user input will be treated as False\n",
    "\n",
    "ui = input('Enter some characters: ')\n",
    "\n",
    "if ui:\n",
    "    print(ui)\n",
    "else:\n",
    "    print('Nothing provided!')"
   ]
  },
  {
   "cell_type": "markdown",
   "metadata": {},
   "source": [
    "#### Continue to accept user input until user enters empty string"
   ]
  },
  {
   "cell_type": "code",
   "execution_count": null,
   "metadata": {},
   "outputs": [],
   "source": [
    "# Append user input to a list until the user enters the empty string\n",
    "\n",
    "uiList = []\n",
    "\n",
    "ui = input('Enter some characters or simply enter to stop: ')\n",
    "while ui:\n",
    "    uiList.append(ui)\n",
    "    ui = input('Enter some characters or simply enter to stop: ')\n",
    "\n",
    "print(uiList)"
   ]
  },
  {
   "cell_type": "markdown",
   "metadata": {},
   "source": [
    "#### break statement"
   ]
  },
  {
   "cell_type": "code",
   "execution_count": null,
   "metadata": {},
   "outputs": [],
   "source": [
    "# the break statement will immediately and permanently end the execution of a loop\n",
    "\n",
    "uiList = []\n",
    "\n",
    "while True:\n",
    "    ui = input('Enter some charact    if not num % 3 or not num % 5:\n",
    "        print(num)\n",
    "    elif: not num % 3:\n",
    "        print('fizz')\n",
    "    elif: not num % 5:\n",
    "        print('buzz')\n",
    "    else: \n",
    "        print('fizzbuzz')ers or simply enter to stop: ')\n",
    "    if not ui:\n",
    "        break\n",
    "    uiList.append(ui)\n",
    "    \n",
    "\n",
    "print(uiList)"
   ]
  },
  {
   "cell_type": "markdown",
   "metadata": {},
   "source": [
    "#### continue statement"
   ]
  },
  {
   "cell_type": "code",
   "execution_count": null,
   "metadata": {},
   "outputs": [],
   "source": [
    "# the continue statement will immediately end the current iteration of the loop \n",
    "# and go to the next iteration (if the loop condition is still True)\n",
    "\n",
    "# use a while loop to append only single digit odd numbers to a list\n",
    "\n",
    "oddList = []\n",
    "num = 0\n",
    "\n",
    "while num < 10:\n",
    "    num += 1\n",
    "    if num % 2 == 0:\n",
    "        continue\n",
    "    oddList.append(num)\n",
    "\n",
    "print(oddList)\n"
   ]
  },
  {
   "cell_type": "markdown",
   "metadata": {},
   "source": [
    "#### break and continue together"
   ]
  },
  {
   "cell_type": "code",
   "execution_count": null,
   "metadata": {},
   "outputs": [],
   "source": [
    "# use break and continue to add integers from user input, break on empty string\n",
    "# however validate user only enters integers\n",
    "\n",
    "userSum = 0\n",
    "\n",
    "while True:\n",
    "    ui = input('Enter an integer: ')\n",
    "    if not ui:\n",
    "        break\n",
    "    if not ui.isdigit():\n",
    "        print('That is not an integer, try again!')\n",
    "        continue\n",
    "    userSum += int(ui)\n",
    "    print(f'Your running total is: {userSum}')\n",
    "\n",
    "print(f'Thanks for using the calculator! The total is: {userSum}')"
   ]
  },
  {
   "cell_type": "markdown",
   "metadata": {},
   "source": [
    "### for loops"
   ]
  },
  {
   "cell_type": "code",
   "execution_count": 12,
   "metadata": {},
   "outputs": [
    {
     "name": "stdout",
     "output_type": "stream",
     "text": [
      "The loop variable i is assigned the value: 5\n",
      "The loop variable i is assigned the value: 6\n",
      "The loop variable i is assigned the value: 7\n",
      "The loop variable i is assigned the value: 8\n",
      "The loop variable i is assigned the value: 9\n"
     ]
    }
   ],
   "source": [
    "# for loop - used for definite iteration\n",
    "# employs a loop variable and a loop sequence\n",
    "# loop sequence values are assinged the loop variable one iteration at a time\n",
    "\n",
    "#    loop var        loop sequence\n",
    "for    i      in     range(10):\n",
    "    print(f'The loop variable i is assigned the value: {i}')"
   ]
  },
  {
   "cell_type": "markdown",
   "metadata": {},
   "source": [
    "#### using a string as the loop sequence"
   ]
  },
  {
   "cell_type": "code",
   "execution_count": null,
   "metadata": {},
   "outputs": [],
   "source": [
    "# using a string as the loop sequence\n",
    "\n",
    "#    loop var        loop sequence\n",
    "for   char     in      'hello':\n",
    "    print(f'The loop variable char is assigned the value: {char}')"
   ]
  },
  {
   "cell_type": "markdown",
   "metadata": {},
   "source": [
    "#### using a list as the loop sequence"
   ]
  },
  {
   "cell_type": "code",
   "execution_count": 14,
   "metadata": {},
   "outputs": [
    {
     "name": "stdout",
     "output_type": "stream",
     "text": [
      "The loop variable item is assigned the value: 1\n",
      "The loop variable item is assigned the value: hello\n",
      "The loop variable item is assigned the value: (0, 0)\n",
      "The loop variable item is assigned the value: [1, 2, 3]\n",
      "The loop variable item is assigned the value: True\n",
      "The loop variable item is assigned the value: 1.1\n"
     ]
    }
   ],
   "source": [
    "# using a list as the loop sequence\n",
    "\n",
    "#    loop var                  loop sequence\n",
    "for   item     in      [1, 'hello', (0,0), [1,2,3], True, 1.1]:\n",
    "    print(f'The loop variable item is assigned the value: {item}')"
   ]
  },
  {
   "cell_type": "markdown",
   "metadata": {},
   "source": [
    "#### break and continue in for loop"
   ]
  },
  {
   "cell_type": "code",
   "execution_count": null,
   "metadata": {},
   "outputs": [],
   "source": [
    "# break and continue can also be used in a for loop\n",
    "\n",
    "# multiply odd numbers from 1 to 99, but stop when product exceeds 1000000000 (one billion)\n",
    "# don't use step for range to generate odd numbers\n",
    "\n",
    "product = 1\n",
    "\n",
    "for i in range(1,100):\n",
    "    if i % 2 == 0:\n",
    "        continue\n",
    "    product *= i\n",
    "    if product > 1000000000:\n",
    "        break\n",
    "\n",
    "print(f'The loop stopped when i was assigned {i} and the product was {product}.')"
   ]
  },
  {
   "cell_type": "markdown",
   "metadata": {},
   "source": [
    "### list comprehensions"
   ]
  },
  {
   "cell_type": "code",
   "execution_count": null,
   "metadata": {},
   "outputs": [],
   "source": [
    "# list comprehension\n",
    "\n",
    "#syntax --> [ valueExpression for controlVariable in iterator whereClause]\n",
    "\n",
    "# list of squares of single digit integers\n",
    "\n",
    "#          valueExpression          contolVariable             iterator\n",
    "squares = [x*x               for     x                in      range(1,10)]\n",
    "print(squares)"
   ]
  },
  {
   "cell_type": "code",
   "execution_count": null,
   "metadata": {},
   "outputs": [],
   "source": [
    "# list of squares of single digit even integers\n",
    "\n",
    "#          valueExpression          contolVariable             iterator         whereClause\n",
    "evenSquares = [x*x               for     x                in      range(1,10)      if x % 2 == 0]\n",
    "print(evenSquares)"
   ]
  },
  {
   "cell_type": "code",
   "execution_count": 17,
   "metadata": {},
   "outputs": [
    {
     "name": "stdout",
     "output_type": "stream",
     "text": [
      "['A', 'B', 'C', 'D', 'E', 'F', 'G', 'H', 'I', 'J', 'K', 'L', 'M', 'N', 'O', 'P', 'Q', 'R', 'S', 'T', 'U', 'V', 'W', 'X', 'Y', 'Z']\n",
      "['a', 'b', 'c', 'd', 'e', 'f', 'g', 'h', 'i', 'j', 'k', 'l', 'm', 'n', 'o', 'p', 'q', 'r', 's', 't', 'u', 'v', 'w', 'x', 'y', 'z']\n"
     ]
    }
   ],
   "source": [
    "# list of uppercase letters\n",
    "upperLetters = [chr(x) for x in range(65,91)]\n",
    "print(upperLetters)\n",
    "\n",
    "# list of lowercase letters\n",
    "lowerLetters = [chr(x) for x in range(97, 123)]\n",
    "print(lowerLetters)"
   ]
  },
  {
   "cell_type": "code",
   "execution_count": 19,
   "metadata": {},
   "outputs": [
    {
     "name": "stdout",
     "output_type": "stream",
     "text": [
      "[4]\n"
     ]
    }
   ],
   "source": [
    "intList = [int(x) for x in input().split()]\n",
    "\n",
    "print (intList)"
   ]
  },
  {
   "cell_type": "markdown",
   "metadata": {},
   "source": [
    "---\n",
    "\n",
    "# Day 4\n",
    "\n",
    "---"
   ]
  },
  {
   "cell_type": "markdown",
   "metadata": {},
   "source": [
    "## File IO"
   ]
  },
  {
   "cell_type": "markdown",
   "metadata": {},
   "source": [
    "### open Function"
   ]
  },
  {
   "cell_type": "code",
   "execution_count": null,
   "metadata": {},
   "outputs": [],
   "source": [
    "# file I/O\n",
    "\n",
    "# open() - built-in fucnction for opening files, returns a file object\n",
    "\n",
    "# mandatory argument is the file name; optional argument is mode; by default the mode is 'r'\n",
    "\n",
    "fp = open('test.txt', 'r')  # file object stored in variable fp\n",
    "fp.close()                  # close() is a file object method"
   ]
  },
  {
   "cell_type": "markdown",
   "metadata": {},
   "source": [
    "### with Keyword"
   ]
  },
  {
   "cell_type": "code",
   "execution_count": null,
   "metadata": {},
   "outputs": [],
   "source": [
    "# files must be closed after using it\n",
    "# the with statement ensures the file is closed without an explicit close()\n",
    "\n",
    "with open('test.txt', 'r') as fp:\n",
    "    pass"
   ]
  },
  {
   "cell_type": "markdown",
   "metadata": {},
   "source": [
    "### .read Method"
   ]
  },
  {
   "cell_type": "code",
   "execution_count": 7,
   "metadata": {},
   "outputs": [
    {
     "name": "stdout",
     "output_type": "stream",
     "text": [
      "['this is a simple text', 'file to start off Day 4', 'showcasing File I/O.']\n"
     ]
    }
   ],
   "source": [
    "# reading files\n",
    "# read() - method for reading entire file returning a string; file must have been opened in a mode supporting read\n",
    "# The splitlines() method splits a string into a list. The splitting is done at line breaks.\n",
    "\n",
    "with open('test.txt', 'r') as fp:\n",
    "    # print(fp.read()) \n",
    "    print(fp.read().splitlines())  "
   ]
  },
  {
   "cell_type": "code",
   "execution_count": null,
   "metadata": {},
   "outputs": [],
   "source": [
    "# read() - optional argument is number of characters to read from file\n",
    "\n",
    "with open('test.txt', 'r') as fp:\n",
    "    print(fp.read(5))"
   ]
  },
  {
   "cell_type": "markdown",
   "metadata": {},
   "source": [
    "### .readline Method"
   ]
  },
  {
   "cell_type": "code",
   "execution_count": null,
   "metadata": {},
   "outputs": [],
   "source": [
    "# readline() - read one line from a file returning a string\n",
    "\n",
    "with open('test.txt', 'r') as fp:\n",
    "    print(fp.readline())\n",
    "\n",
    "with open('test.txt', 'r') as fp:\n",
    "    for i in range(2):\n",
    "        print(f'Line {i}: {fp.readline().strip()}') # strip removes return carriage \\n"
   ]
  },
  {
   "cell_type": "markdown",
   "metadata": {},
   "source": [
    "### .readlines Method"
   ]
  },
  {
   "cell_type": "code",
   "execution_count": 1,
   "metadata": {},
   "outputs": [
    {
     "name": "stdout",
     "output_type": "stream",
     "text": [
      "['line1line2\\n', 'line3\\n', 'line4\\n', 'line5']\n"
     ]
    }
   ],
   "source": [
    "# readlines() - read entire file returning a list where each line is a an element in the list\n",
    "\n",
    "with open('test.txt', 'r') as fp:\n",
    "    print(fp.readlines())"
   ]
  },
  {
   "cell_type": "markdown",
   "metadata": {},
   "source": [
    "### file objects are iterable"
   ]
  },
  {
   "cell_type": "code",
   "execution_count": null,
   "metadata": {},
   "outputs": [],
   "source": [
    "# we can also iterate through a file object to get one line on each iteration\n",
    "\n",
    "with open('test.txt', 'r') as fp:\n",
    "    print(fp.read())\n",
    "    for line in fp:\n",
    "        print(line.strip('\\n'))"
   ]
  },
  {
   "cell_type": "markdown",
   "metadata": {},
   "source": [
    "### .write Method"
   ]
  },
  {
   "cell_type": "markdown",
   "metadata": {},
   "source": [
    "#### 'w' mode when opening file"
   ]
  },
  {
   "cell_type": "code",
   "execution_count": null,
   "metadata": {},
   "outputs": [],
   "source": [
    "# write() - method for writing a string to a file; file must have been opened in a mode supporting write\n",
    "\n",
    "# 'w' mode will create the file if it does not exist; if it exists it will truncate the file\n",
    "with open('test.txt', 'w') as fp:\n",
    "    fp.write('line1\\nline2\\nline3\\nline4\\nline5')"
   ]
  },
  {
   "cell_type": "markdown",
   "metadata": {},
   "source": [
    "#### 'a' mode when opening file"
   ]
  },
  {
   "cell_type": "code",
   "execution_count": null,
   "metadata": {},
   "outputs": [],
   "source": [
    "# 'a' mode will create the file if it does not exist; if it exists it will append to the end of the file\n",
    "\n",
    "with open('test.txt', 'a') as fp:\n",
    "    fp.write('\\nline6')"
   ]
  },
  {
   "cell_type": "markdown",
   "metadata": {},
   "source": [
    "### .writelines Method"
   ]
  },
  {
   "cell_type": "code",
   "execution_count": 11,
   "metadata": {},
   "outputs": [],
   "source": [
    "# writelines() - method for writing a list to a file\n",
    "\n",
    "with open('test.txt', 'w') as fp:\n",
    "    fp.writelines(['line1\\n','line2\\n','line3\\n','line4\\n','line5'])"
   ]
  },
  {
   "cell_type": "markdown",
   "metadata": {},
   "source": [
    "### .tell and .seek Methods"
   ]
  },
  {
   "cell_type": "code",
   "execution_count": null,
   "metadata": {},
   "outputs": [],
   "source": [
    "# tell() - method that returns the current read/write position in the file\n",
    "# seek() - method that moves read/write position to seek argument\n",
    "\n",
    "with open('test.txt', 'r') as fp:\n",
    "    print(fp.read(5))\n",
    "    print(fp.tell())\n",
    "    fp.seek(0)\n",
    "    print(fp.read(11))\n",
    "    print(fp.tell())\n",
    "    fp.seek(0)\n",
    "    print(fp.read())\n",
    "    print(fp.tell())"
   ]
  },
  {
   "cell_type": "markdown",
   "metadata": {},
   "source": [
    "### multi-mode"
   ]
  },
  {
   "cell_type": "code",
   "execution_count": 12,
   "metadata": {},
   "outputs": [
    {
     "name": "stdout",
     "output_type": "stream",
     "text": [
      "0\n",
      "line1line2\n",
      "line3\n",
      "line4\n",
      "line5\n",
      "28\n",
      "\n"
     ]
    }
   ],
   "source": [
    "# open a file in multi-mode\n",
    "# 'r+' - reading and writing with no truncation (file must exist)\n",
    "# 'w+' - reading and writing but file is truncated (file need not exist)\n",
    "# 'a+' - reading and writing with no truncation (cursor is at end of the file)\n",
    "\n",
    "with open('test.txt', 'r+') as fp:\n",
    "    print(fp.tell())\n",
    "    print(fp.read())\n",
    "\n",
    "with open('test.txt', 'a+') as fp:\n",
    "    print(fp.tell())\n",
    "    print(fp.read())"
   ]
  },
  {
   "cell_type": "markdown",
   "metadata": {},
   "source": [
    "### open two files with one with statement"
   ]
  },
  {
   "cell_type": "code",
   "execution_count": null,
   "metadata": {},
   "outputs": [],
   "source": [
    "# copy one file to another using one with statatemnt\n",
    "\n",
    "with open('test.txt', 'r') as inFile, open('copyTest.txt', 'w') as outFile:\n",
    "    contents = inFile.read()\n",
    "    outFile.write(contents)"
   ]
  },
  {
   "cell_type": "markdown",
   "metadata": {},
   "source": [
    "### continually write user input to file until user enters empty string"
   ]
  },
  {
   "cell_type": "code",
   "execution_count": null,
   "metadata": {},
   "outputs": [],
   "source": [
    "# write user input to file until empty string\n",
    "\n",
    "with open('userInput.txt', 'w') as fp:\n",
    "    ui = input('Enter some characters or simply enter to quit: ')\n",
    "    while ui:\n",
    "        fp.write(ui + '\\n')\n",
    "        ui = input('Enter some characters or simply enter to quit: ')"
   ]
  },
  {
   "cell_type": "markdown",
   "metadata": {},
   "source": [
    "## Using Standard Library Modules"
   ]
  },
  {
   "cell_type": "markdown",
   "metadata": {},
   "source": [
    "### import Statement"
   ]
  },
  {
   "cell_type": "markdown",
   "metadata": {},
   "source": [
    "#### math Module"
   ]
  },
  {
   "cell_type": "code",
   "execution_count": null,
   "metadata": {},
   "outputs": [],
   "source": [
    "# import the entire module\n",
    "import math\n",
    "print(math.pi) # access the constant pi"
   ]
  },
  {
   "cell_type": "code",
   "execution_count": null,
   "metadata": {},
   "outputs": [],
   "source": [
    "print(math.sqrt(4)) # calculate square root of a number"
   ]
  },
  {
   "cell_type": "code",
   "execution_count": null,
   "metadata": {},
   "outputs": [],
   "source": [
    "print(math.hypot(3,4)) # calculate hypotenuse of a triangle given length of other two sides"
   ]
  },
  {
   "cell_type": "markdown",
   "metadata": {},
   "source": [
    "#### random Module"
   ]
  },
  {
   "cell_type": "code",
   "execution_count": 17,
   "metadata": {},
   "outputs": [
    {
     "name": "stdout",
     "output_type": "stream",
     "text": [
      "0.8623819910467897\n"
     ]
    }
   ],
   "source": [
    "import random\n",
    "print(random.random())"
   ]
  },
  {
   "cell_type": "code",
   "execution_count": null,
   "metadata": {},
   "outputs": [],
   "source": [
    "print(random.randint(1,6)) # both numbers inclusive\n",
    "print(random.randrange(1, 6)) # first number inclusive, second number exclusive"
   ]
  },
  {
   "cell_type": "code",
   "execution_count": null,
   "metadata": {},
   "outputs": [],
   "source": [
    "print(random.choice([1,2,3,4,5,6]))"
   ]
  },
  {
   "cell_type": "code",
   "execution_count": null,
   "metadata": {},
   "outputs": [],
   "source": [
    "aList = [1,2,3,4,5,6]\n",
    "random.shuffle(aList)\n",
    "print(aList)"
   ]
  },
  {
   "cell_type": "markdown",
   "metadata": {},
   "source": [
    "#### copy Module"
   ]
  },
  {
   "cell_type": "code",
   "execution_count": null,
   "metadata": {},
   "outputs": [],
   "source": [
    "import copy\n",
    "aList = [[1,2,3], [4,5,6], [7,8,9]]\n",
    "bList = copy.copy(aList)        # perform a shallow copy of aList\n",
    "print(f'copy: {aList is bList}')           # aList and bList are different objects\n",
    "for i in range(len(aList)):\n",
    "    print(aList[i] is bList[i]) # aList[i] and bList[i] are the same objects\n",
    "\n",
    "bList = copy.deepcopy(aList)    # perform a deep copy of aList\n",
    "print(f'deepcopy: {aList is bList}')           # aList and bList are different objects\n",
    "for i in range(len(aList)):\n",
    "    print(aList[i] is bList[i]) # aList[i] and bList[i] are different objects"
   ]
  },
  {
   "cell_type": "markdown",
   "metadata": {},
   "source": [
    "#### Alternative Import Statements"
   ]
  },
  {
   "cell_type": "code",
   "execution_count": null,
   "metadata": {},
   "outputs": [],
   "source": [
    "# import specific functions from the import module using the \"from\" keyword\n",
    "from math import pi"
   ]
  },
  {
   "cell_type": "code",
   "execution_count": null,
   "metadata": {},
   "outputs": [],
   "source": [
    "# import all functions to eliminate module name reference\n",
    "from math import *"
   ]
  },
  {
   "cell_type": "code",
   "execution_count": null,
   "metadata": {},
   "outputs": [],
   "source": [
    "# import custom modules from other documents\n",
    "\n",
    "import myModule\n",
    "myModule.myFunc()"
   ]
  }
 ],
 "metadata": {
  "kernelspec": {
   "display_name": "Python 3",
   "language": "python",
   "name": "python3"
  },
  "language_info": {
   "codemirror_mode": {
    "name": "ipython",
    "version": 3
   },
   "file_extension": ".py",
   "mimetype": "text/x-python",
   "name": "python",
   "nbconvert_exporter": "python",
   "pygments_lexer": "ipython3",
   "version": "3.8.10"
  }
 },
 "nbformat": 4,
 "nbformat_minor": 2
}
