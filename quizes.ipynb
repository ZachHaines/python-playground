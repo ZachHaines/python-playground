{
 "cells": [
  {
   "cell_type": "markdown",
   "metadata": {},
   "source": [
    "# End of Lecture CTF Challenges\n",
    "\n",
    "#### Solutions by Zachary Haines"
   ]
  },
  {
   "cell_type": "markdown",
   "metadata": {},
   "source": [
    "---\n",
    "\n",
    "## Table of Contents\n",
    "\n",
    "--- \n"
   ]
  },
  {
   "cell_type": "markdown",
   "metadata": {},
   "source": [
    "### Py2 - Data Types, Variables, containers, Input/Out\n",
    "### Py3 - Flow control / Branching & Functions\n",
    "### Py4 - Loops, range(), len(), & Slicing\n",
    "### Py5 - File I/O\n",
    "### Py7a - Dictionaries & Sets\n",
    "### Py7b - args, kwargs, & Sorting"
   ]
  },
  {
   "cell_type": "markdown",
   "metadata": {},
   "source": [
    "---\n",
    "\n",
    "## <span style=\"color:green\">Py2 - Data Types, Variables, Containers, Input/Output</span>\n",
    "\n",
    "---"
   ]
  },
  {
   "cell_type": "markdown",
   "metadata": {},
   "source": [
    "### <span style=\"color:red\">Py2 - Question 1</span>"
   ]
  },
  {
   "cell_type": "markdown",
   "metadata": {},
   "source": [
    "Use python to produce code below that will create several named variables with the specified value:\n",
    "\n",
    "| Variable | Value | Type |\n",
    "| -------- | ----- | ---- |\n",
    "| hello | hello | string |\n",
    "| is_python_awesome | true | boolean |\n",
    "| days_in_python | 6 | integer |\n",
    "| pie_size | |3.14 | float |\n",
    "\n",
    "After creating all variables and assigning their value, print each variable on a separate line\n",
    "\n"
   ]
  },
  {
   "cell_type": "code",
   "execution_count": null,
   "metadata": {},
   "outputs": [],
   "source": [
    "hello = 'hello'\n",
    "is_python_awesome = True\n",
    "days_in_python = 6\n",
    "pie_size = 3.14\n",
    "\n",
    "# use a single print statement with a return carriage separator '\\n'.\n",
    "# alternatively, you can use 4 separate print statements, but inefficient\n",
    "print(hello, is_python_awesome, days_in_python, pie_size, sep='\\n')"
   ]
  },
  {
   "cell_type": "markdown",
   "metadata": {},
   "source": [
    "### <span style=\"color:red\">Py2 - Question 2</span>"
   ]
  },
  {
   "cell_type": "markdown",
   "metadata": {},
   "source": [
    "Use Python code to create the following **variables**. Those variables will be assigned the **Starting Value** as seen in the table below. \n",
    "\n",
    "After assigning each **Variable** with a **Starting Value**, use Python Built-in Functions to perform the conversion designated in the **Convert to Type** column.\n",
    "\n",
    "| Variable | Starting Value | Convert to Type |\n",
    "| -------- | -------------- | --------------- |\n",
    "| int_input | \"345\" | integer |\n",
    "| pi_4 | \"3.1415\" | float |\n",
    "| hours_str | 40 | string |\n",
    "| hourly_rate |\t15 | float |"
   ]
  },
  {
   "cell_type": "markdown",
   "metadata": {},
   "source": [
    "#### Method 1"
   ]
  },
  {
   "cell_type": "code",
   "execution_count": null,
   "metadata": {},
   "outputs": [],
   "source": [
    "int_input = '345'\n",
    "pi_4 = \"3.1415\"\n",
    "hours_str = 40\n",
    "hourly_rate = 15\n",
    "\n",
    "# in a signle print statement, convert data types inline\n",
    "print(int(int_input), float(pi_4), str(hours_str), float(hourly_rate), sep='\\n')"
   ]
  },
  {
   "cell_type": "markdown",
   "metadata": {},
   "source": [
    "#### Method 2"
   ]
  },
  {
   "cell_type": "code",
   "execution_count": null,
   "metadata": {},
   "outputs": [],
   "source": [
    "int_input, pi_4, hours_str, hourly_rate = '345', \"3.1415\", 40, 15\n",
    "\n",
    "print(int(int_input), float(pi_4), str(hours_str), float(hourly_rate), sep='\\n')"
   ]
  },
  {
   "cell_type": "markdown",
   "metadata": {},
   "source": [
    "### <span style=\"color:red\">Py2 - Question 3</span>"
   ]
  },
  {
   "cell_type": "markdown",
   "metadata": {},
   "source": [
    "Use python to produce code below that will create several named variables with the specified value using math operators:\n",
    "\n",
    "\n",
    "| Variable | Value | Type |\n",
    "| -------- | ----- | ---- |\n",
    "| x | 16 | integer |\n",
    "| y | 3\t| integer |\n",
    "| xysum | sum of x and y | integer |\n",
    "| xydiff | difference of x and y | integer |\n",
    "| xyprod | product of x and y |\tinteger |\n",
    "| xyquo | quotient of x and y |\tfloat |\n",
    "| xyintquo |integer quotient of x and y | integer |\n",
    "| xymod\t| modulus of x and y | integer |\n",
    "\n",
    "After assigning all variables and performing the assigned math operations print each variable on a separate line in the order they appear in the table.\n"
   ]
  },
  {
   "cell_type": "code",
   "execution_count": null,
   "metadata": {},
   "outputs": [],
   "source": [
    "x, y = 16, 3\n",
    "xysum = x + y\n",
    "xydiff = x - y\n",
    "xyprod = x * y\n",
    "xyquo = x / y\n",
    "xyintquo = int(x / y)\n",
    "xymod = x % y\n",
    "\n",
    "print(xysum, xydiff, xyprod, xyquo, xyintquo, xymod, sep='\\n')"
   ]
  },
  {
   "cell_type": "markdown",
   "metadata": {},
   "source": [
    "### <span style=\"color:red\">Py2 - Question 4</span>"
   ]
  },
  {
   "cell_type": "markdown",
   "metadata": {},
   "source": [
    "Use python to produce code below that will create several named variables that read a value (or collect input) from a user.\n",
    "\n",
    "`output` should use string formatting to access the values used in `name`, `greeting`, and `time`\n",
    "\n",
    "After creating all variables print `output`.\n",
    "\n",
    "**Example 1:**\n",
    "\n",
    "| Variable | Example Input Value | Type |\n",
    "| -------- | ------------------- | ---- |\n",
    "| name | Jerry | str |\n",
    "| greeting | Sir | str |\n",
    "| time | noon | str |\n",
    "| output | \tHello Jerry! Sir, will you be arriving by noon? | str |\n",
    "\n",
    "**Example 2:**\n",
    "\n",
    "| Variable | Example Input Value | Type |\n",
    "| -------- | ------------------- | ---- |\n",
    "| name | Karen | str |\n",
    "| greeting | Madam | str |\n",
    "| time | midnight | str |\n",
    "| output | Hello Karen! Madam, will you be arriving by midnight? | str |"
   ]
  },
  {
   "cell_type": "code",
   "execution_count": null,
   "metadata": {},
   "outputs": [],
   "source": [
    "# initialize all 3 variables on a single line with x3 input() function calls\n",
    "name, greeting, time = input(), input(), input()\n",
    "\n",
    "print(f'Hello {name}! {greeting}, will you be arriving by {time}?')"
   ]
  },
  {
   "cell_type": "markdown",
   "metadata": {},
   "source": [
    "### <span style=\"color:red\">Py2 - Question 5</span>"
   ]
  },
  {
   "cell_type": "markdown",
   "metadata": {},
   "source": [
    "Use python to produce code below that will perform the following:\n",
    "\n",
    "- Create a variable named `sentence` and assign the value `'good for all'`\n",
    "- Turn the `sentence` variable into a list of individual characters and assign this to a variable named `sent_list`.\n",
    "- Change the first (index 0) character in the list to `'f'`\n",
    "- Change the last (index -1) character in the list to `'?'`\n",
    "- Combine the list into a new string with periods (`'.'`) in between each character and assign the result to a new variable named `output`.\n",
    "- **Print** `output`"
   ]
  },
  {
   "cell_type": "code",
   "execution_count": null,
   "metadata": {},
   "outputs": [],
   "source": [
    "sentence = 'good for all'\n",
    "sent_list = list(sentence)\n",
    "sent_list[0] = 'f'\n",
    "sent_list[-1] = '?'\n",
    "\n",
    "output = '.'.join(sent_list)\n",
    "print(output)"
   ]
  },
  {
   "cell_type": "markdown",
   "metadata": {},
   "source": [
    "### <span style=\"color:red\">Py2 - Question 6</span>"
   ]
  },
  {
   "cell_type": "markdown",
   "metadata": {},
   "source": [
    "Use python to produce code below that will perform the following:\n",
    "\n",
    "- Create a variable named `user_input` that will read multiple numbers separated by spaces on the same line from the user.\n",
    "- Update `user_input` to change all spaces to a plus sign.\n",
    "- Print the resulting string stored in `user_input` to the user."
   ]
  },
  {
   "cell_type": "code",
   "execution_count": null,
   "metadata": {},
   "outputs": [],
   "source": [
    "user_input = input().replace(' ', '+')\n",
    "print(user_input)"
   ]
  },
  {
   "cell_type": "markdown",
   "metadata": {},
   "source": [
    "### <span style=\"color:red\">Py2 - Question 7</span>"
   ]
  },
  {
   "cell_type": "markdown",
   "metadata": {},
   "source": [
    "Use python to produce code below that will:\n",
    "\n",
    "- Given an email address in `email`\n",
    "- Convert the email into a list named `lst`\n",
    "- The list will contain all individual parts of the email\n",
    "- Example: email = 'alan.m.turing@genius.com' -> lst = ['alan','m','turing', 'genius', 'com']"
   ]
  },
  {
   "cell_type": "code",
   "execution_count": null,
   "metadata": {},
   "outputs": [],
   "source": [
    "email = 'alan.m.turing@genius.com'\n",
    "\n",
    "# use \"method chaining\" to 1) replace all '@' with dots; then 2) split on dots\n",
    "lst = email.replace('@','.').split('.')\n",
    "print(lst)"
   ]
  },
  {
   "cell_type": "markdown",
   "metadata": {},
   "source": [
    "---\n",
    "\n",
    "## <span style=\"color:green\">Py3 - Flow control / Branching & Functions</span>\n",
    "\n",
    "---"
   ]
  },
  {
   "cell_type": "markdown",
   "metadata": {},
   "source": [
    "### <span style=\"color:red\">Py3 - Question 1</span>"
   ]
  },
  {
   "cell_type": "markdown",
   "metadata": {},
   "source": [
    "**You will NOT be defining a function to solve this challenge**\n",
    "\n",
    "FizzBuzz is an interview question that is said to filter out 99.5% of programming job candidates.\n",
    "\n",
    "- Add code so that it reads a number from a user and is stored in a variable called `num`\n",
    "\n",
    "- If `num` isn’t divisible by **3** or **5** then print `num`\n",
    "\n",
    "- If `num` is a multiple of **3** print `'fizz'`\n",
    "\n",
    "- If `num` is a multiple of **5** print `'buzz'`\n",
    "\n",
    "- If `num` is a multiple of **3** and **5** print `'fizzbuzz'`"
   ]
  },
  {
   "cell_type": "code",
   "execution_count": null,
   "metadata": {},
   "outputs": [],
   "source": [
    "num = int(input())\n",
    "# if divisible by 3 or 5, modulo % will result to 0\n",
    "# 0 is falsy, which means python evaluates 0 to False\n",
    "# the 'not' keyword logical operator flips False to True to print 'fizzbuzz' \n",
    "if not num % 3 and not num % 5:\n",
    "    print('fizzbuzz')\n",
    "elif not num % 3:\n",
    "    print('fizz')\n",
    "elif not num % 5:\n",
    "    print('buzz')\n",
    "else: \n",
    "    print(num)"
   ]
  },
  {
   "cell_type": "markdown",
   "metadata": {},
   "source": [
    "### <span style=\"color:red\">Py3 - Question 2</span>"
   ]
  },
  {
   "cell_type": "markdown",
   "metadata": {},
   "source": [
    "Use python to produce code below that will perform the following:\n",
    "\n",
    "- Read input from the user stored in the variable `num_input`, the input will be an integer.\n",
    "- Determine which of the following categories `num_input` fits into an print this to the user:\n",
    "    - Negative Even\n",
    "    - Negative Odd\n",
    "    - Zero\n",
    "    - Positive Even\n",
    "    - Positive Odd\n",
    "**NOTE:** Capitalization matters"
   ]
  },
  {
   "cell_type": "code",
   "execution_count": null,
   "metadata": {},
   "outputs": [],
   "source": [
    "num_input = int(input())\n",
    "\n",
    "# \"ternary operator\" consolidates simple conditional statements on 1 line\n",
    "sign = 'Positive' if num_input > 0 else 'Negative'\n",
    "parity = 'Odd' if num_input % 2 else 'Even'\n",
    "\n",
    "# ternary operators can be used within print and return statements\n",
    "# print sign and parity unless the number is 0 (False), then print 'Zero'\n",
    "print (f'{sign} {parity}' if num_input else 'Zero')"
   ]
  },
  {
   "cell_type": "markdown",
   "metadata": {},
   "source": [
    "### <span style=\"color:red\">Py3 - Question 3</span>"
   ]
  },
  {
   "cell_type": "markdown",
   "metadata": {},
   "source": [
    "Use python to produce code below that will perform the following:\n",
    "\n",
    "- Create a function named `domath` that will accept 3 parameters.\n",
    "- The function will add the first two parameters and multiply this sum by the third parameter.\n",
    "- You can select the variables for each of the parameters.\n",
    "- The resulting product will be returned to the caller."
   ]
  },
  {
   "cell_type": "code",
   "execution_count": null,
   "metadata": {},
   "outputs": [],
   "source": [
    "# Solution\n",
    "def domath(num1, num2, num3):\n",
    "    return (num1 + num2) * num3\n",
    "\n",
    "\n",
    "# Test Function Call\n",
    "domath(2, 3, 5)"
   ]
  },
  {
   "cell_type": "markdown",
   "metadata": {},
   "source": [
    "### <span style=\"color:red\">Py3 - Question 4</span>"
   ]
  },
  {
   "cell_type": "markdown",
   "metadata": {},
   "source": [
    "Complete the function below to return the type of the parameter as a string.\n",
    "\n",
    "Possible types and what they should return:\n",
    "\n",
    "| Data Type | Literal string to return: |\n",
    "| --------- | ------------------------- |\n",
    "| String | string |\n",
    "| Boolean | boolean | \n",
    "| Integer | integer |\n",
    "| Float | float |\n",
    "| List | list |\n",
    "| Tuple | tuple |\n",
    "| Any other type of object | unknown|\n",
    "\n",
    "**Examples:**\n",
    "\n",
    "`get_type_str('hello world')`  \n",
    "Returns: `string`  \n",
    "\n",
    "`get_type_str((item1, item2))`  \n",
    "Returns: `tuple`\n",
    "\n",
    "`get_type_str({})`  \n",
    "Returns: `unknown`"
   ]
  },
  {
   "cell_type": "code",
   "execution_count": null,
   "metadata": {},
   "outputs": [],
   "source": [
    "# Solution\n",
    "def get_type_str(obj):\n",
    "    if type(obj) == str: \n",
    "        return 'string'\n",
    "    elif type(obj) == bool:\n",
    "        return 'boolean'\n",
    "    elif type(obj) == int:\n",
    "        return 'integer'\n",
    "    elif type(obj) == list:\n",
    "        return 'list'\n",
    "    elif type(obj) == tuple:\n",
    "        return 'tuple'\n",
    "    else: return 'unknown'\n"
   ]
  },
  {
   "cell_type": "markdown",
   "metadata": {},
   "source": [
    "---\n",
    "\n",
    "## <span style=\"color:green\">Py4 - Loops, range(), len(), & Slicing</span>\n",
    "\n",
    "---"
   ]
  },
  {
   "cell_type": "markdown",
   "metadata": {},
   "source": [
    "### <span style=\"color:red\">Py4 - Question 1</span>"
   ]
  },
  {
   "cell_type": "markdown",
   "metadata": {},
   "source": [
    "In a research and development database, record identifiers are formatted with a 3 character code representing a department, followed by the 5 digit employee id that made the entry, and ends in the subject category.\n",
    "\n",
    "Create a function `IDextractor` that takes a string `recordID` and returns the employee id.\n",
    "\n",
    "**For example:**\n",
    "\n",
    "`print(IDextractor('AGR12345Hybrid_corn'))`\n",
    "\n",
    "Result: `12345`"
   ]
  },
  {
   "cell_type": "code",
   "execution_count": null,
   "metadata": {},
   "outputs": [],
   "source": [
    "# Solution\n",
    "# slice at the starting index and 1 more than the ending index\n",
    "# remember, slicing includes the start, but EXCLUDES the ending index\n",
    "def IDextractor(recordID):\n",
    "    return recordID[3:8]\n",
    "\n",
    "\n",
    "# Test Function Call\n",
    "print(IDextractor('AGR12345Hybrid_corn'))\n",
    "print(IDextractor('AGR12345Hybrid_corn'))\n",
    "print(IDextractor('ATO246805Crazy_ideas'))"
   ]
  },
  {
   "cell_type": "markdown",
   "metadata": {},
   "source": [
    "### <span style=\"color:red\">Py4 - Question 2</span>"
   ]
  },
  {
   "cell_type": "markdown",
   "metadata": {},
   "source": [
    "`myList` is a list. Using the provided function signature, **return** every other item in `myList`.\n",
    "\n",
    "**Test:** `print(everyOtherItem([0,1,2,3,4,5]))`  \n",
    "**Result:** `[0, 2, 4]`"
   ]
  },
  {
   "cell_type": "code",
   "execution_count": null,
   "metadata": {},
   "outputs": [],
   "source": [
    "# Solution\n",
    "# starting at index 0 until the end of the string, step by 2 [::2]\n",
    "def everyOtherItem(myList):\n",
    "    return myList[::2]\n",
    "\n",
    "\n",
    "# Test Function Call\n",
    "myList = [0,1,2,3,4,5]\n",
    "everyOtherItem(myList)"
   ]
  },
  {
   "cell_type": "markdown",
   "metadata": {},
   "source": [
    "### <span style=\"color:red\">Py4 - Question 3</span>"
   ]
  },
  {
   "cell_type": "markdown",
   "metadata": {},
   "source": [
    "`myList` contains a sequence of iterables. **Print** the **length of the last item** multiplied by the **length of the first item**.\n",
    "\n",
    "**NOTE:** `thisList` is already be defined, do not assign a value to it. You may create your own list to test with prior to submission.\n",
    "\n",
    "**For example:**\n",
    "\n",
    "**Test:** `myList = [ [1, 2, 3] , [4,5,6], [1,2,3,4] , [9,10] ]`  \n",
    "**Result:** `6`"
   ]
  },
  {
   "cell_type": "code",
   "execution_count": null,
   "metadata": {},
   "outputs": [],
   "source": [
    "# Test Case\n",
    "myList = [ [1, 2, 3] , [4,5,6], [1,2,3,4] , [9,10] ]\n",
    "\n",
    "# Solution\n",
    "# the last item is always located at index [-1]\n",
    "# the first item is always located at index [0]\n",
    "print(len(myList[-1])*len(myList[0]))"
   ]
  },
  {
   "cell_type": "markdown",
   "metadata": {},
   "source": [
    "### <span style=\"color:red\">Py4 - Question 4</span>"
   ]
  },
  {
   "cell_type": "markdown",
   "metadata": {},
   "source": [
    "Use python to finish the function below that will perform the following:\n",
    "\n",
    "- Read multiple lines from the user on standard input until an empty string is read.\n",
    "- **Return** a list of all these lines\n",
    "- Each line should be reversed from how it is read in.\n",
    "\n",
    "**Example:** If the following inputs were collected:\n",
    "\n",
    "`hello`  \n",
    "`hi`  \n",
    "`bye`  \n",
    "`goodbye`  \n",
    "\n",
    "The list returned should be:  `['olleh', 'ih', 'eyb', 'eybdoog']`"
   ]
  },
  {
   "cell_type": "code",
   "execution_count": null,
   "metadata": {},
   "outputs": [],
   "source": [
    "# Solution \n",
    "def reverseit():\n",
    "    # initialize accumulator variable as an empty list\n",
    "    input_list = []\n",
    "    # request user input. If no input entered, user_input evaluates to False. \n",
    "    user_input = input()\n",
    "    while user_input:\n",
    "        # append user_input to input_list, but stepped in reverse order [::-1]\n",
    "        input_list.append(user_input[::-1])\n",
    "        # keep calling input() and avoid infinite loop\n",
    "        user_input = input()\n",
    "    return input_list\n",
    "\n",
    "\n",
    "# Test Function Call\n",
    "reverseit()"
   ]
  },
  {
   "cell_type": "markdown",
   "metadata": {},
   "source": [
    "### <span style=\"color:red\">Py4 - Question 5</span>"
   ]
  },
  {
   "cell_type": "markdown",
   "metadata": {},
   "source": [
    "Use python to complete the function below that will perform the following:\n",
    "\n",
    "- Given a mixed case string as parameter s\n",
    "- Capitalize every letter with an even index within the string.\n",
    "- Lowercase every letter with an odd index within the string.\n",
    "- **Return** the resulting string.\n",
    "- **Example:**\n",
    "    - `leetString(\"ABCDEF ghijkl\")`\n",
    "    - **Return:** `\"AbCdEf gHiJkL\"`"
   ]
  },
  {
   "cell_type": "code",
   "execution_count": null,
   "metadata": {},
   "outputs": [],
   "source": [
    "# Solution 1 with range()\n",
    "def leetString(s):\n",
    "    # intialize accumulator variable to empty string\n",
    "    new_string = ''\n",
    "    # iterate through each character of the string length\n",
    "    for i in range(len(s)):\n",
    "        # 1. concatenate character to empty string with +=\n",
    "        # 2. ternary operatory - \n",
    "            # 2a. lowercase letter if index number is NOT divisible by 2 (odd)\n",
    "            # 2b. otherwise, uppercase letter\n",
    "            # Remember! Even numbers evalute to 0 --> False\n",
    "        new_string += s[i].lower() if i % 2 else s[i].upper()\n",
    "    return new_string\n",
    "\n",
    "\n",
    "# Test Function Call\n",
    "leetString(\"ABCDEF ghijkl\")"
   ]
  },
  {
   "cell_type": "code",
   "execution_count": null,
   "metadata": {},
   "outputs": [],
   "source": [
    "# Solution 2 with enumerate()\n",
    "def leetString(s):\n",
    "    new_string = ''\n",
    "    # enumerate() function provides access to both index AND the value\n",
    "    for i, char in enumerate(s):\n",
    "        # refer to the value variable 'char' directly\n",
    "        new_string += char.lower() if i % 2 else char.upper()\n",
    "    return new_string\n",
    "\n",
    "# Test Function Call\n",
    "leetString(\"ABCDEF ghijkl\")"
   ]
  },
  {
   "cell_type": "markdown",
   "metadata": {},
   "source": [
    "### <span style=\"color:red\">Py4 - Question 6</span>"
   ]
  },
  {
   "cell_type": "markdown",
   "metadata": {},
   "source": [
    "Use python to finish the function below that will perform the following:\n",
    "\n",
    "- First, print out every even number on a separate line from provided parameter `first` to parameter `last`, inclusive.\n",
    "- Next, print out every odd number from `first` to `last`, inclusive."
   ]
  },
  {
   "cell_type": "code",
   "execution_count": null,
   "metadata": {},
   "outputs": [],
   "source": [
    "# Solution\n",
    "def evensandodds(first, last):\n",
    "    # outer loop 'i' with a range of just 2, \n",
    "     # runs the 1st loop starting at index 0 (even numbers), \n",
    "    # runs 2nd loop starting at index 1 (odd numbers)\n",
    "    for i in range(2):    \n",
    "        # outer loop index 'i' (0 or 1) is added to inner loop start parameter\n",
    "        # add +1 to range stop parameter to INCLUDE the last number in argument\n",
    "        for j in range(first+i, last+1, 2):\n",
    "            print(j)\n",
    "    \n",
    "\n",
    "# Test Function Call\n",
    "evensandodds(0, 20)"
   ]
  },
  {
   "cell_type": "markdown",
   "metadata": {},
   "source": [
    "### <span style=\"color:red\">Py4 - Question 7</span>"
   ]
  },
  {
   "cell_type": "markdown",
   "metadata": {},
   "source": [
    "Use Python to finish the function below to read strings from a user until the user enters an empty string. The strings should be stored into a list that will be returned when the user enters an empty string.\n",
    "\n",
    "**Example:**\n",
    "\n",
    "If the following strings are read from the user:\n",
    "\n",
    "`this`\n",
    "`is`\n",
    "`a`\n",
    "`test`\n",
    "\n",
    "The returned list would be:\n",
    "\n",
    "`['this', 'is', 'a', 'test']`"
   ]
  },
  {
   "cell_type": "code",
   "execution_count": null,
   "metadata": {},
   "outputs": [],
   "source": [
    "# Solution\n",
    "def user_io():\n",
    "    ui_list = []\n",
    "    ui = input()\n",
    "    while ui:\n",
    "        ui_list.append(ui)\n",
    "        ui = input()\n",
    "    return ui_list\n",
    "\n",
    "\n",
    "# Test Function Call\n",
    "user_io()"
   ]
  },
  {
   "cell_type": "markdown",
   "metadata": {},
   "source": [
    "### <span style=\"color:red\">Py4 - Question 8</span>"
   ]
  },
  {
   "cell_type": "markdown",
   "metadata": {},
   "source": [
    "Use Python to complete the function below to return a tuple of the multiples of **10** from **1** to **1000** **inclusive**."
   ]
  },
  {
   "cell_type": "code",
   "execution_count": null,
   "metadata": {},
   "outputs": [],
   "source": [
    "# Solution 1\n",
    "def make_tuple():\n",
    "    # adjust range to 1010 to include 1000\n",
    "    rangeList = list(range(1, 1010))\n",
    "    multiplesList = []\n",
    "    for i in rangeList:\n",
    "        # append number if divisible by 10.\n",
    "        # 'not' keyword flips the modulo result of 0 (False) to True\n",
    "        if not i % 10:\n",
    "            multiplesList.append(i)\n",
    "    # convert to tuple within return statment\n",
    "    return tuple(multiplesList)\n",
    "\n",
    "\n",
    "# Function Call\n",
    "make_tuple()"
   ]
  },
  {
   "cell_type": "code",
   "execution_count": null,
   "metadata": {},
   "outputs": [],
   "source": [
    "# Solution 2 - List Comprehension\n",
    "# same logic as Solution 1, but using List Comprehension\n",
    "def make_tuple():\n",
    "  return tuple([i for i in range(1, 1010) if not i % 10])\n",
    "\n",
    "\n",
    "# Test Function Call\n",
    "make_tuple()"
   ]
  },
  {
   "cell_type": "markdown",
   "metadata": {},
   "source": [
    "### <span style=\"color:red\">Py4 - Question 9</span>"
   ]
  },
  {
   "cell_type": "markdown",
   "metadata": {},
   "source": [
    "Use Python to finish the function below to return a tuple with the following 2 items in the order they are listed:\n",
    "\n",
    "1. a literal empty string\n",
    "2. this string (no leading or trailing spaces):  `Physics is the universe's operating system`"
   ]
  },
  {
   "cell_type": "code",
   "execution_count": null,
   "metadata": {},
   "outputs": [],
   "source": [
    "# Solution\n",
    "def strings():\n",
    "    return ('', \"Physics is the universe's operating system\")\n",
    "\n",
    "\n",
    "# Test Function Call\n",
    "strings()"
   ]
  },
  {
   "cell_type": "markdown",
   "metadata": {},
   "source": [
    "### <span style=\"color:red\">Py4 - Question 10</span>"
   ]
  },
  {
   "cell_type": "markdown",
   "metadata": {},
   "source": [
    "Use Python to finish the function below to return a tuple of the given list (lst) split into two equally sized halves.\n",
    "\n",
    "The given list will always consist of an even number of elements.\n",
    "\n",
    "**Example 1:**\n",
    "\n",
    "`disect([1, 2, 3, 4])`\n",
    "\n",
    "Returns:  `([1, 2], [3, 4])`\n",
    "\n",
    "**Example 2:**\n",
    "\n",
    "`disect(['hello', 'world!'])`\n",
    "\n",
    "Returns: `(['hello'], ['world!'])`"
   ]
  },
  {
   "cell_type": "code",
   "execution_count": null,
   "metadata": {},
   "outputs": [],
   "source": [
    "# Solution\n",
    "def disect(lst):\n",
    "  # 1. calculate length of lst using len()\n",
    "  # 2. divide calculated character length by 2 to get index halfway point\n",
    "  # 3. convert to an integer. Slicing expects integers, not floats\n",
    "  # 4. assign to index variable 'i'\n",
    "  i = int(len(lst)/2)\n",
    "  # slice from beginning to the halfway index 'i'\n",
    "  # slice from halfway index 'i' to end\n",
    "  return (lst[:i], lst[i:])\n",
    "\n",
    "\n",
    "# Test Function Calls\n",
    "print(disect(['hello', 'world!']))\n",
    "print(disect([1,2,3,4]))\n",
    "print(disect([10,20,30,40]))"
   ]
  },
  {
   "cell_type": "markdown",
   "metadata": {},
   "source": [
    "### <span style=\"color:red\">Py4 - Question 11</span>"
   ]
  },
  {
   "cell_type": "markdown",
   "metadata": {},
   "source": [
    "Use Python to finish the function below to return a copy of the given string (`strng`) reversed"
   ]
  },
  {
   "cell_type": "code",
   "execution_count": null,
   "metadata": {},
   "outputs": [],
   "source": [
    "# Solution\n",
    "def reverse_string(strng):\n",
    "    return strng[::-1]\n",
    "\n",
    "\n",
    "# Test Function Calls\n",
    "print(reverse_string(\"ABC123def\"))\n",
    "print(reverse_string(\"123abc\"))"
   ]
  },
  {
   "cell_type": "markdown",
   "metadata": {},
   "source": [
    "### <span style=\"color:red\">Py4 - Question 12</span>"
   ]
  },
  {
   "cell_type": "markdown",
   "metadata": {},
   "source": [
    "Complete the function, `round_to_position`, which takes a list of floats and returns a new list with the original floats each rounded to the number of digits of precision after the decimal point corresponding to the original float's position in the list.\n",
    "\n",
    "**Example:**\n",
    "\n",
    "`round_to_position([1.999, 1.0993, 1.01999, 1.012999])`\n",
    "\n",
    "Returns: `[2.0, 1.1, 1.02, 1.013]`"
   ]
  },
  {
   "cell_type": "code",
   "execution_count": null,
   "metadata": {},
   "outputs": [],
   "source": [
    "# Solution 1 - For Loop\n",
    "def round_to_position(lst):\n",
    "    # iterate over each number in list\n",
    "    for i in range(len(lst)):\n",
    "        # leverage index variable 'i' to round to that number of digits\n",
    "        # reassign list values in place using list index; return the same list\n",
    "        lst[i] = round(lst[i], i)\n",
    "\n",
    "    return lst\n",
    "\n",
    "\n",
    "# Test Function Calls\n",
    "print(round_to_position([1.999, 1.0993, 1.01999, 1.012999]))\n",
    "print(round_to_position([4.1356,6.6587,6.257894,7.524951]))"
   ]
  },
  {
   "cell_type": "code",
   "execution_count": null,
   "metadata": {},
   "outputs": [],
   "source": [
    "# Solution 2 - List Comprehension w/ enumerate()\n",
    "# 1. enumerate lst, giving access to index 'i' and value 'num'\n",
    "# 2. round each number in list with its index 'i' and value 'num'\n",
    "def round_to_position(lst):\n",
    "    return [round(num, i) for i, num in enumerate(lst)]\n",
    "\n",
    "\n",
    "# Test Function Calls\n",
    "print(round_to_position([1.999, 1.0993, 1.01999, 1.012999]))\n",
    "print(round_to_position([4.1356,6.6587,6.257894,7.524951]))"
   ]
  },
  {
   "cell_type": "markdown",
   "metadata": {},
   "source": [
    "### <span style=\"color:red\">Py4 - Question 13</span>"
   ]
  },
  {
   "cell_type": "markdown",
   "metadata": {},
   "source": [
    "Define the function `MatrixProduct(matrix, multiplier)` where `matrix` is a nested list and `multiplier` is a number.\n",
    "\n",
    "The function should multiply each individual item found inside `matrix` by the `multiplie`r and then **return** the updated `matrix`\n",
    "\n",
    "**Example:**\n",
    "\n",
    "`MatrixProduct([[1,2,3],[4,5,6],[7,8,9]],2)`\n",
    "\n",
    "**Returns:** `[[2, 4, 6], [8, 10, 12], [14, 16, 18]]`"
   ]
  },
  {
   "cell_type": "code",
   "execution_count": null,
   "metadata": {},
   "outputs": [],
   "source": [
    "# Solution\n",
    "def MatrixProduct(matrix, multiplier):\n",
    "    # use a nested for loop\n",
    "    # outer loop iterates over list objects\n",
    "    for i in range(len(matrix)):\n",
    "        # inner loop iterates over numbers in each list\n",
    "        for j, num in enumerate(matrix[i]):\n",
    "            # reference inside index position of list to reassign updated value\n",
    "            # user outerloop and innerloop index variables simultaneously\n",
    "            matrix[i][j] = num * multiplier\n",
    "    return matrix\n",
    "\n",
    "\n",
    "# Test Function Calls\n",
    "m = [[1,2],[3,4]]\n",
    "print(f'{MatrixProduct(m,2)} : same instance = {MatrixProduct(m,2) is m}' )\n",
    "m = [[3,4],[5,6],[8,9]]\n",
    "print(f'{MatrixProduct(m,2)} : same instance = {MatrixProduct(m,2) is m}' )\n",
    "m = [[3,4],[5,6]]\n",
    "print(f'{MatrixProduct(m,2)} : same instance = {MatrixProduct(m,2) is m}' )"
   ]
  },
  {
   "cell_type": "markdown",
   "metadata": {},
   "source": [
    "### <span style=\"color:red\">Py4 - Question 14</span>"
   ]
  },
  {
   "cell_type": "markdown",
   "metadata": {},
   "source": [
    "Define the function `FreeRange(start, stop)`. The function **returns** a range specified by the parameters with a step of **+1** if `start < stop`. Otherwise the function returns a range with a step of **-1** if `start > stop`\n",
    "\n",
    "**For example:**\n",
    "\n",
    "`print(FreeRange(0,4))`  \n",
    "**Result:** `range(0, 4)`\n",
    "\n",
    "`print(FreeRange(4,0))`  \n",
    "**Result:** `range(4, 0, -1)`\n"
   ]
  },
  {
   "cell_type": "code",
   "execution_count": null,
   "metadata": {},
   "outputs": [],
   "source": [
    "# Solution - Ternary Operator\n",
    "def FreeRange(start, stop):\n",
    "    # ternary operators can nest within function arguements: e.g. range()\n",
    "    # before functions execute, ternary operations resolve in place first\n",
    "    # in this case, ternary resolves to either 1 or -1, if start < stop\n",
    "    return range(start, stop, 1 if start < stop else -1)\n",
    "\n",
    "\n",
    "# Test Function Calls\n",
    "print(FreeRange(0,4))\n",
    "print(FreeRange(4,0))\n",
    "print(FreeRange(5,2))\n",
    "print(FreeRange(2,5))"
   ]
  },
  {
   "cell_type": "markdown",
   "metadata": {},
   "source": [
    "### <span style=\"color:red\">Py4 - Question 15</span>"
   ]
  },
  {
   "cell_type": "markdown",
   "metadata": {},
   "source": [
    "You are given a sequence of items in the variable `mySequence`. Print a range object that would only correlate to every other index from the very beginning of the sequence to the end. (**HINT:** how long is sequence? That is where it should stop.)\n",
    "\n",
    "**Example: **\n",
    "\n",
    "`mySequence = [0,1,2,3,4,5]`\n",
    "\n",
    "**Should print:**\n",
    "\n",
    "`range(0, 6, step)`     **NOTE:** The step should be filled in with the correct value to only include every other item in the range\n",
    "\n",
    "**NOTE:** The number of items in `mySequence` will be different with every test case. Your code should be dynamic enough to accommodate a varying number of items in the sequence. The sequence could be a list, a string, or any other collection of items.\n",
    "\n",
    "**For Example:**\n",
    "\n",
    "| Test | Result |\n",
    "| ---- | ------ |\n",
    "| mySequence = [1,2,3,4,5] | range(0, 5, 2) |"
   ]
  },
  {
   "cell_type": "code",
   "execution_count": null,
   "metadata": {},
   "outputs": [],
   "source": [
    "# Test Cases (Enable/Disable Lines)\n",
    "mySequence = [1,2,3,4,5]\n",
    "mySequence = 'look out for gators!'\n",
    "\n",
    "# Solution\n",
    "print(range(0, len(mySequence), 2))"
   ]
  },
  {
   "cell_type": "markdown",
   "metadata": {},
   "source": [
    "### <span style=\"color:red\">Py4 - Question 16</span>"
   ]
  },
  {
   "cell_type": "markdown",
   "metadata": {},
   "source": [
    "Define a function `BillSummary()` that repeatedly reads input from the user until the user hits return with no text input. Each line the user enters is a 3 character material code and a cost separated by a space. The function returns the grand total.\n",
    "\n",
    "**Example:**\n",
    "\n",
    "`BillSummary()`\n",
    "\n",
    "With the following 2 input strings:\n",
    "\n",
    "`'AGR 1020.00'`  \n",
    "`'THG 3040.00'`\n",
    "\n",
    "**Returns:** `4060.0`\n",
    "\n",
    "**NOTE:** the example shown below simply applies string formatting to force the returned value to carry out two places beyond the decimal. Do NOT implement this formatting in your function."
   ]
  },
  {
   "cell_type": "code",
   "execution_count": null,
   "metadata": {},
   "outputs": [],
   "source": [
    "# Solution\n",
    "def BillSummary(): \n",
    "    # initialize accumulator variable 'total' to 0\n",
    "    total = 0\n",
    "    ui = input()\n",
    "    while ui:\n",
    "        # float value in string is located at index 4 to the end of string\n",
    "        # convert string to a float\n",
    "        # add and accumulate to the 'total' variable\n",
    "        total += float(ui[4:])\n",
    "        ui = input()\n",
    "    return total\n",
    "   \n",
    "\n",
    "# Test Function Calls\n",
    "print(f'{BillSummary():.2f}')"
   ]
  },
  {
   "cell_type": "markdown",
   "metadata": {},
   "source": [
    "### <span style=\"color:red\">Py4 - Question 17</span>"
   ]
  },
  {
   "cell_type": "markdown",
   "metadata": {},
   "source": [
    "`iCanCount(good)` should count the number of times the lowercase letter 't' occurs in the variable `good`. However, no matter how many t's I put in my test string, the most the function returns is 1. Can you help fix my code?"
   ]
  },
  {
   "cell_type": "markdown",
   "metadata": {},
   "source": [
    "#### Original Broken Code That Needs Fixing"
   ]
  },
  {
   "cell_type": "code",
   "execution_count": null,
   "metadata": {},
   "outputs": [],
   "source": [
    "# Original Broken Code\n",
    "def iCanCount(good):\n",
    "   for letter in good:\n",
    "      count = 0\n",
    "      if letter == 't':\n",
    "         count += 1\n",
    "      return count\n",
    "\n",
    "# Test Function Calls\n",
    "print(iCanCount('Tim Taylor talks too technically'))\n",
    "print(iCanCount('Tiny tut tried to tranquilize tigers.') )"
   ]
  },
  {
   "cell_type": "markdown",
   "metadata": {},
   "source": [
    "#### Fixed Code Solution"
   ]
  },
  {
   "cell_type": "code",
   "execution_count": null,
   "metadata": {},
   "outputs": [],
   "source": [
    "# Solution\n",
    "def iCanCount(good):\n",
    "    # initialize accumulator/count variables outside of loops\n",
    "    count = 0\n",
    "    for letter in good:\n",
    "        if letter == 't':\n",
    "            count += 1\n",
    "    return count\n",
    "\n",
    "\n",
    "# Test Function Calls\n",
    "print(iCanCount('Tim Taylor talks too technically'))\n",
    "print(iCanCount('Tiny tut tried to tranquilize tigers.') )"
   ]
  },
  {
   "cell_type": "markdown",
   "metadata": {},
   "source": [
    "### <span style=\"color:red\">Py4 - Question 18</span>"
   ]
  },
  {
   "cell_type": "markdown",
   "metadata": {},
   "source": [
    "Define a function `BillSummary(items)` that takes `items` as a list of tuple pairs. The first index in each pair is a material as a string, the second item is a total cost for that material as a float. For each item in `items` print `material: total` ensuring 2 decimal places. At the end of the loop, return the grand total (which is also a **string** formatted to ensure 2 decimal places).\n",
    "\n",
    "**Example Input:**\n",
    "\n",
    "`BillSummary([('2x4',6000.00),('drywall',20000.00)])`\n",
    "\n",
    "**Example Output:**\n",
    "\n",
    "`2x4: $6000.00`  \n",
    "`drywall: $20000.00`  \n",
    "`26000.00`  "
   ]
  },
  {
   "cell_type": "code",
   "execution_count": null,
   "metadata": {},
   "outputs": [],
   "source": [
    "# Solution\n",
    "def BillSummary(items): \n",
    "    # accumulator variable\n",
    "    grand_total = 0\n",
    "\n",
    "    for i in items:\n",
    "        # print description at index 0\n",
    "        # print float value at index 1 to 2 decimal places :.2f\n",
    "        print(f'{i[0]}: ${(i[1]):.2f}')\n",
    "        # add cost of each item at index 1 to grand_total\n",
    "        grand_total += float(i[1])\n",
    "\n",
    "    return f'{round(grand_total, 2):.2f}'\n",
    "\n",
    "\n",
    "# Test Function Calls\n",
    "print(BillSummary([('2x4',6000.00),('drywall',20000.00)]))\n",
    "print(BillSummary([('2x4',6051.00),('drywall',20033.87)]))\n",
    "print(BillSummary([('tile',34279.13),('drywall',20033.87)]))"
   ]
  },
  {
   "cell_type": "markdown",
   "metadata": {},
   "source": [
    "---\n",
    "\n",
    "## <span style=\"color:green\">Py5 - File I/O</span>\n",
    "\n",
    "---"
   ]
  },
  {
   "cell_type": "markdown",
   "metadata": {},
   "source": [
    "### <span style=\"color:red\">Py5 - Question 1</span>"
   ]
  },
  {
   "cell_type": "markdown",
   "metadata": {},
   "source": [
    "Using the code provided, troubleshoot and find the error(s). \n",
    "\n",
    "Fix the code to execute properly so that it will print each line of the file on separate lines.\n",
    "\n",
    "`infile` can point to any test file you choose. This question will use the following file for testing purposes: file1.txt\n",
    "\n",
    "**Example output:**\n",
    "\n",
    "`Why do programmers prefer dark mode? Because light attracts bugs!`\n",
    "\n",
    "`I would tell you a joke about UDP, but you might not get it.`  \n",
    "\n",
    "**NOTE:** output has been truncated"
   ]
  },
  {
   "cell_type": "code",
   "execution_count": null,
   "metadata": {},
   "outputs": [],
   "source": [
    "# Broken Code\n",
    "def file_read(infile):\n",
    "    open(infile,'w') as inf:\n",
    "        for line in infile:\n",
    "            print(line)\n",
    "\n",
    "# Test Case\n",
    "file_read('file1.txt')"
   ]
  },
  {
   "cell_type": "code",
   "execution_count": null,
   "metadata": {},
   "outputs": [],
   "source": [
    "# Solution\n",
    "def file_read(infile):\n",
    "    # use 'r' read instead of the 'w' write\n",
    "    with open(infile,'r') as inf:\n",
    "        # refer to 'inf' the actual file, NOT 'infile' the string filepath\n",
    "        for line in inf:\n",
    "            print(line)\n",
    "\n",
    "\n",
    "# Test Case\n",
    "file_read('file1.txt')"
   ]
  },
  {
   "cell_type": "markdown",
   "metadata": {},
   "source": [
    "### <span style=\"color:red\">Py5 - Question 2</span>"
   ]
  },
  {
   "cell_type": "markdown",
   "metadata": {},
   "source": [
    "Use python to finish the function below that will perform the following:\n",
    "\n",
    "Read file specified by the path stored in the `inpath` parameter and write all lines to the file specified by the `outpath` parameter.\n",
    "Before writing out each line, add the line number starting with 1 follow by colon and space\n",
    "A test case will utilize [users.txt](http://10.50.33.245/moodle/mod/resource/view.php?id=46) as the `inpath`"
   ]
  },
  {
   "cell_type": "code",
   "execution_count": null,
   "metadata": {},
   "outputs": [],
   "source": [
    "# Solution\n",
    "def linenums(inpath, outpath):\n",
    "    # read & write (copy & paste) simultaneously\n",
    "    with open(inpath, 'r') as in_fp, open(outpath, 'w') as out_fp:\n",
    "        # enumerate to access index # for writing the line # in output\n",
    "        for i, line in enumerate(in_fp):\n",
    "            out_fp.write(f'{i+1}: {line}')\n",
    "\n",
    "\n",
    "# Test Case 1\n",
    "linenums('users.txt','this.txt')\n",
    "def linenums_test(outpath):\n",
    "    with open(outpath) as fp:\n",
    "        print(fp.read())\n",
    "linenums_test('this.txt')\n",
    "\n",
    "# Test Case 2\n",
    "linenums('file1.txt','that.txt')\n",
    "def linenums_test(outpath):\n",
    "    with open(outpath) as fp:\n",
    "        print(fp.read())\n",
    "linenums_test('that.txt')"
   ]
  },
  {
   "cell_type": "markdown",
   "metadata": {},
   "source": [
    "### <span style=\"color:red\">Py5 - Question 3</span>"
   ]
  },
  {
   "cell_type": "markdown",
   "metadata": {},
   "source": [
    "\"You have a artist friend that likes to jot down some inspirational words when the mood strikes. These fits of inspiration always have a `theme` that they need to remember with the messages. Your friend needs some help keeping track.\n",
    "\n",
    "Read each of the inspirational messages from the user and write them to the end of the file specified by `fname`.\n",
    "\n",
    "Since the `theme` is important and must be remembered, add the theme and a *colon* before each message and ensure each inspirational message is on its own line. An empty input will indicate no more entries and the end of the theme.\"\n",
    "\n",
    "**Example:**   `log_to_file('example.txt','Razzmatazz')`\n",
    "\n",
    "If `theme` was \"Razzmatazz\", and the user provided 2 inspirational messages of `input` as follows:\n",
    "\n",
    "`\"I like nonsense; it wakes up the brain cells. - Dr. Seuss\"`  \n",
    "`\"Only you can control your future. - Dr. Seuss\"`\n",
    "\n",
    "Then the resulting strings would be written to `example.txt` in the following format:\n",
    "\n",
    "`Razzmatazz:I like nonsense; it wakes up the brain cells. - Dr. Seuss`  \n",
    "`Razzmatazz:Only you can control your future. - Dr. Seuss`\n",
    "\n",
    "**Hints:**\n",
    "\n",
    "- What if there are multiple lines to be added? What separates lines in a file? What needs to be added to the example line above?\n",
    "- Do not overwrite the file. What mode should you open the file in?\n"
   ]
  },
  {
   "cell_type": "code",
   "execution_count": null,
   "metadata": {},
   "outputs": [],
   "source": [
    "# Solution\n",
    "def log_to_file(fname, theme):\n",
    "    \n",
    "    with open(fname, 'a') as fp:\n",
    "        ui = input()\n",
    "        while ui:\n",
    "            # add return carriage '\\n\\' to write on separate lines\n",
    "            fp.write(theme + ':' + ui + '\\n')\n",
    "            ui = input()\n",
    "\n",
    "\n",
    "# Test Case 1\n",
    "log_to_file('example.txt','Razzmatazz')\n",
    "with open('example.txt') as fp:\n",
    "    print(fp.read())\n",
    "\n",
    "# Test Case 2\n",
    "log_to_file('example2.txt','test')\n",
    "with open('example2.txt') as fp:\n",
    "    print(fp.read())"
   ]
  },
  {
   "cell_type": "markdown",
   "metadata": {},
   "source": [
    "### <span style=\"color:red\">Py5 - Question 4</span>"
   ]
  },
  {
   "cell_type": "markdown",
   "metadata": {},
   "source": [
    "Replace all found instances of the individual tuple entries in the file found at `in_path`. You can use the following test file: [act18_3.txt](http://10.50.33.245/moodle/pluginfile.php/106/question/questiontext/6412/4/1536/act18_3.txt)\n",
    "\n",
    "Replacements will be in the list `reps` as a list of tuples.\n",
    "\n",
    "Each tuple entry will contain the 'find' as the first element and the 'replace' will be the second element.\n",
    "\n",
    "Write the result to the file specified with `out_path`.\n",
    "\n",
    "**Example:**\n",
    "\n",
    "`replace_in_file('act18_3.txt', 'outpath_ex.txt', [(\"taken\",\"delivered\"),(\"cat\",\"dog\"),(\"outside\",\"beyond\"),(\"straightaway\",\"forthwith\"),(\"possibly\",\"perchance\")])`\n",
    "\n",
    "- Contents of `inpath_ex.txt` - \"The cat possibly needs to be taken outside, straightaway.\"\n",
    "\n",
    "- Changed string example to write to outpath_ex.txt - \"The dog perchance needs to be delivered beyond, forthwith.\"\n",
    "\n",
    "- reps = `[(\"taken\",\"delivered\"),(\"cat\",\"dog\"),(\"outside\",\"beyond\"),(\"straightaway\",\"forthwith\"),(\"possibly\",\"perchance\")]`"
   ]
  },
  {
   "cell_type": "code",
   "execution_count": null,
   "metadata": {},
   "outputs": [],
   "source": [
    "# Solution\n",
    "def replace_in_file(in_path, out_path, reps):\n",
    "\n",
    "    with open(in_path, 'r') as fp_in, open(out_path, 'w') as fp_out:\n",
    "        # store read() contents in an accessible variable: updated_text\n",
    "        updated_text = fp_in.read()\n",
    "        # iterate over list of replacement tuples in the argument reps\n",
    "        for rep in reps:\n",
    "            # make all replacements and reassign updated_text variable\n",
    "            updated_text = updated_text.replace(rep[0], rep[1])\n",
    "        # after replacements finish, write final variable contents to new file\n",
    "        fp_out.write(updated_text) \n",
    "\n",
    "\n",
    "# Test Case\n",
    "replace_in_file('act18_3.txt', 'outpath_ex.txt', [(\"taken\",\"delivered\"),(\"cat\",\"dog\"),(\"outside\",\"beyond\"),(\"straightaway\",\"forthwith\"),(\"possibly\",\"perchance\")])\n",
    "with open('outpath_ex.txt') as out:\n",
    "    print(out.read())"
   ]
  },
  {
   "cell_type": "markdown",
   "metadata": {},
   "source": [
    "---\n",
    "\n",
    "## <span style=\"color:green\">Py7a - Dictionaries & Sets</span>\n",
    "\n",
    "---"
   ]
  },
  {
   "cell_type": "markdown",
   "metadata": {},
   "source": [
    "### <span style=\"color:red\">Py7a - Question 1</span>"
   ]
  },
  {
   "cell_type": "markdown",
   "metadata": {},
   "source": [
    "Complete the function below to perform the following:\n",
    "\n",
    "`fname` is a file containing words that are separated by at least one character of whitespace.\n",
    "A list of words is provided as the parameter `words`.\n",
    "Return a list of all the words found in the file that are **NOT** contained in the list of words in parameter.\n",
    "You can use [act24.txt](http://10.50.33.245/moodle/pluginfile.php/106/question/questiontext/6097/1/4646/act24.txt) as a test file to complete this challenge.\n",
    "\n",
    "**Example:** \n",
    "\n",
    "`diffwords('act24.txt', ['this', 'is', 'a', 'list', 'of', 'words'])`\n",
    "\n",
    "**Returns:**  `['in', 'file', 'the']`"
   ]
  },
  {
   "cell_type": "code",
   "execution_count": 70,
   "metadata": {},
   "outputs": [],
   "source": [
    "# Solution 1 - For Loop\n",
    "def diffwords(fname, words):\n",
    "    with open(fname, 'r') as fp:\n",
    "        # intialize an empty set using the set constructor\n",
    "        # need a set, not a list, in order to use .difference() method\n",
    "        file_words = set()\n",
    "        for line in fp.readlines():\n",
    "            # remove return carraiges '\\n' with strip()\n",
    "            # .add() method adds eachline to set\n",
    "            file_words.add(line.strip())\n",
    "        # return difference between file_words and list of words\n",
    "        # question asked to return a list, not a set.\n",
    "        return list(file_words.difference(words))"
   ]
  },
  {
   "cell_type": "code",
   "execution_count": null,
   "metadata": {},
   "outputs": [],
   "source": [
    "# Solution 2 - Read, Split, Set\n",
    "def diffwords(fname, words):\n",
    "    with open(fname, 'r') as fp:\n",
    "        # instead of using for loop, read entire file and split off of return carraiges\n",
    "        # initialize set with file_words instead of an empty set\n",
    "        file_words = set(fp.read().split())\n",
    "    return list(file_words.difference(words))\n",
    "\n",
    "# Test Case \n",
    "diffwords('act24.txt', ['this', 'is', 'a', 'list', 'of', 'words'])\n",
    "   "
   ]
  },
  {
   "cell_type": "markdown",
   "metadata": {},
   "source": [
    "### <span style=\"color:red\">Py7a - Question 2</span>"
   ]
  },
  {
   "cell_type": "markdown",
   "metadata": {},
   "source": [
    "Count the occurrences of each word in the file: act25.txt.\n",
    "\n",
    "Create a dictionary that contains each word in the file as a key and the value for each key will contain the number of times each words is found in the file. Words will be separated by one or more whitespace characters spread over multiple lines.\n",
    "\n",
    "Return the dictionary.\n",
    "\n",
    "**Example:**\n",
    "\n",
    "the file contains the following sentence: `a dog jumped a fence`\n",
    "\n",
    "the returned dictionary would contain:\n",
    "\n",
    "`{'a':2, 'dog':1, 'jumped':1, 'fence':1}`"
   ]
  },
  {
   "cell_type": "code",
   "execution_count": null,
   "metadata": {},
   "outputs": [],
   "source": [
    "# Solution 1\n",
    "def count_words(filepath):\n",
    "    with open(filepath, 'r') as fp:\n",
    "        # save file contents as a list of words\n",
    "        filewords = fp.read().split()\n",
    "\n",
    "    # initialize empty dictionary\n",
    "    word_count_dict = {}  \n",
    "    # iterate over the list of words in filewords  \n",
    "    for word in filewords:\n",
    "        # update dictionary with key value pairs\n",
    "        # key = word, and value = number of times word appears in list\n",
    "        word_count_dict.update({word:filewords.count(word)})\n",
    "\n",
    "    return word_count_dict\n",
    "\n",
    "\n",
    "# Test Cases\n",
    "print(count_words('act25.txt'))\n",
    "print(count_words('file1.txt'))"
   ]
  },
  {
   "cell_type": "code",
   "execution_count": null,
   "metadata": {},
   "outputs": [],
   "source": [
    "# Solution 2 - List Comprehension\n",
    "def count_words(filepath):\n",
    "    word_count_dict = {}    \n",
    "    with open(filepath, 'r') as fp:\n",
    "        words = fp.read().split()\n",
    "        [word_count_dict.update({word:words.count(word)}) for word in words]\n",
    "    return word_count_dict\n",
    "\n",
    "\n",
    "# Test Cases\n",
    "print(count_words('act25.txt'))\n",
    "print(count_words('file1.txt'))"
   ]
  },
  {
   "cell_type": "markdown",
   "metadata": {},
   "source": [
    "### <span style=\"color:red\">Py7a - Question 3</span>"
   ]
  },
  {
   "cell_type": "markdown",
   "metadata": {},
   "source": [
    "Given a function named `find_keys` with a single parameter `book` (a dictionary with strings as both keys and values), **return** a list containing all the values from the dictionary.\n",
    "\n",
    " **HINT:** You do NOT want a `dict_values` data type. You want a simple list data type with the values found in the dictionary"
   ]
  },
  {
   "cell_type": "code",
   "execution_count": null,
   "metadata": {},
   "outputs": [],
   "source": [
    "# Solution\n",
    "def find_keys(book):\n",
    "    return list(book.values())\n",
    "\n",
    "\n",
    "# Test Cases\n",
    "book = {'Coralie': 'Chile', 'Tomasine': 'St Kitts & Nevis', 'Belle': 'Zimbabwe', 'Hailee': 'Belgium', 'Chiarra': 'Greece'}\n",
    "print(find_keys(book))\n",
    "\n",
    "book = {'Bab': 'Barbados', 'Candice': 'Brazil', 'Britta': 'Bosnia Herzegovina', 'Leticia': 'Kuwait', 'Dniren': 'Cyprus'}\n",
    "print(find_keys(book))\n",
    "\n",
    "\t\n",
    "book = {'Germaine': 'Gabon', 'Willa': 'Saudi Arabia', 'Starla': 'Poland', 'Coletta': 'Chad', 'Lisette': 'Laos'}\n",
    "print(find_keys(book))"
   ]
  },
  {
   "cell_type": "markdown",
   "metadata": {},
   "source": [
    "### <span style=\"color:red\">Py7a - Question 4</span>"
   ]
  },
  {
   "cell_type": "markdown",
   "metadata": {},
   "source": [
    "Given a function named `toddlers` that takes one parameter `fruits` (a dictionary where keys are fruit names and values are their prices as strings), return a string that reads: `\"The total price of your fruits is $X.XX.\"`, where X.XX.\" is the sum of the `values` from the fruits dictionary.\n",
    "\n",
    "**Example:**\n",
    "\n",
    "`toddlers({\"apple\": \"$2.99\", \"strawberries\": \"$3.99\", \"grapes\": \"$2.49\"})`\n",
    "\n",
    "**the return string should read:**\n",
    "\n",
    "`\"The total price of your fruits is $9.47.\"`\n",
    "\n"
   ]
  },
  {
   "cell_type": "code",
   "execution_count": null,
   "metadata": {},
   "outputs": [],
   "source": [
    "# Solution 1 - For Loop\n",
    "def toddlers(fruits):\n",
    "    total_price = 0\n",
    "    for price in fruits.values():\n",
    "        total_price += float(price[1:])\n",
    "    return f'The total price of your fruits is ${total_price}.'\n",
    "\n",
    "\n",
    "# Test Cases\n",
    "print(toddlers(fruits = {\"apple\" : \"$2.99\", \"strawberries\" : \"$3.99\", \"grapes\" : \"$2.49\"}))\n",
    "print(toddlers(fruits = {\"mangos\" : \"$1.99\", \"blueberries\" : \"$5.99\", \"raspberries\" : \"$3.49\"}))\n",
    "print(toddlers(fruits = {\"oranges\" : \"$5.99\", \"bananas\" : \"$0.99\", \"candyloupe\" : \"$2.99\"}))"
   ]
  },
  {
   "cell_type": "code",
   "execution_count": null,
   "metadata": {},
   "outputs": [],
   "source": [
    "# Solution 2 - sum() & List Comprehension\n",
    "def toddlers(fruits):\n",
    "    # use list comprehension to create a list of only float values\n",
    "    # use the sum() function to add all of the floats together\n",
    "    total = sum([float(cost.strip('$')) for cost in fruits.values()])\n",
    "    return f'The total price of your fruits is ${total}.'\n",
    "\n",
    "\n",
    "# Test Cases\n",
    "print(toddlers(fruits = {\"apple\" : \"$2.99\", \"strawberries\" : \"$3.99\", \"grapes\" : \"$2.49\"}))\n",
    "print(toddlers(fruits = {\"mangos\" : \"$1.99\", \"blueberries\" : \"$5.99\", \"raspberries\" : \"$3.49\"}))\n",
    "print(toddlers(fruits = {\"oranges\" : \"$5.99\", \"bananas\" : \"$0.99\", \"candyloupe\" : \"$2.99\"}))"
   ]
  },
  {
   "cell_type": "markdown",
   "metadata": {},
   "source": [
    "### <span style=\"color:red\">Py7a - Question 5</span>"
   ]
  },
  {
   "cell_type": "markdown",
   "metadata": {},
   "source": [
    "Given a function named `add_elements` with three parameters:\n",
    "\n",
    "1.  `dogs` (a dictionary where the keys are dog breeds as strings and values are lists of colors)\n",
    "\n",
    "Example:  `dogs = {'german shepherd': ['black', 'brown'], 'pitbull': ['red', 'blue'], 'labrador': ['white', 'chocolate']}`\n",
    "\n",
    "2.  `breed` (a string representing a dog breed)\n",
    "\n",
    "Example:  `breed = 'german shepherd'`\n",
    "\n",
    "3.  colors (a list of colors)\n",
    "\n",
    "Example:  `colors = ['sable','white']`\n",
    " \n",
    "**Task:** \n",
    "\n",
    "The function will **return** the `dogs` dictionary where the values in the `dogs` dictionary for the specified `breed` are updated to **include** the new items from the colors list."
   ]
  },
  {
   "cell_type": "code",
   "execution_count": null,
   "metadata": {},
   "outputs": [],
   "source": [
    "# Solution 1\n",
    "def add_elements(dogs, breed, colors):\n",
    "    for color in colors:\n",
    "        # since breed is a dictionary key, use the arguement breed to update dictionary\n",
    "        dogs[breed].append(color)\n",
    "    return dogs\n",
    "\n",
    "\n",
    "# Test Cases\n",
    "dct = {'german shepherd': ['black', 'brown'], 'pitbull': ['red', 'blue'], 'labrador': ['white', 'chocolate']}\n",
    "print(add_elements(dct, 'german shepherd', ['sable','white']))\n",
    "\n",
    "dct = {'german shepherd': ['black', 'brown'], 'pitbull': ['red', 'blue'], 'labrador': ['white', 'chocolate']}\n",
    "print(add_elements(dct, 'pitbull', ['white', 'brindle', 'brown']))"
   ]
  },
  {
   "cell_type": "code",
   "execution_count": null,
   "metadata": {},
   "outputs": [],
   "source": [
    "# Solution 2 - List Comprehension\n",
    "def add_elements(dogs, breed, colors):\n",
    "    # use list comprehension to iteratively update dictionary entries\n",
    "    [dogs[breed].append(color) for color in colors]\n",
    "    return dogs\n",
    "\n",
    "\n",
    "# Test Cases\n",
    "dct = {'german shepherd': ['black', 'brown'], 'pitbull': ['red', 'blue'], 'labrador': ['white', 'chocolate']}\n",
    "print(add_elements(dct, 'german shepherd', ['sable','white']))\n",
    "\n",
    "dct = {'german shepherd': ['black', 'brown'], 'pitbull': ['red', 'blue'], 'labrador': ['white', 'chocolate']}\n",
    "print(add_elements(dct, 'pitbull', ['white', 'brindle', 'brown']))"
   ]
  },
  {
   "cell_type": "markdown",
   "metadata": {},
   "source": [
    "### <span style=\"color:red\">Py7a - Question 6</span>"
   ]
  },
  {
   "cell_type": "markdown",
   "metadata": {},
   "source": [
    "Write a function named `name_game` that takes one parameter `fname`, a file of names, separated by line breaks, and return a dictionary where the key is the first letter of the name and the value is the first instance of a name that begins with that first letter.\n",
    "\n",
    "**Example Output:**\n",
    "\n",
    "`{\"A\": \"Allison, \"B\": \"Bob\", \"C\": \"Candice\", \"X\": \"Xavier\"}` "
   ]
  },
  {
   "cell_type": "code",
   "execution_count": null,
   "metadata": {},
   "outputs": [],
   "source": [
    "# Solution 1\n",
    "def name_game(fname):\n",
    "    # store each word in a list called 'names'\n",
    "    with open(fname, 'r') as fp: \n",
    "        names = fp.read().splitlines()\n",
    "  \n",
    "    name_dictionary = {}\n",
    "    for name in names:\n",
    "        # assign alias of 'name[0]' to 'key' for readability\n",
    "        # key is the first letter of the name\n",
    "        key = name[0]\n",
    "        # conditional statement prevents overwriting pre-existing key entries\n",
    "        if key not in name_dictionary:\n",
    "            name_dictionary[key] = name\n",
    "    \n",
    "    return name_dictionary\n",
    "\n",
    "\n",
    "# Test Cases\n",
    "print(name_game('names.txt'))\n",
    "print(name_game('names0.txt'))\n",
    "print(name_game('names1.txt'))"
   ]
  },
  {
   "cell_type": "code",
   "execution_count": null,
   "metadata": {},
   "outputs": [],
   "source": [
    "# Solution 2 - List Comprehension\n",
    "def name_game(fname):\n",
    "    # read file statement on 1 line\n",
    "    with open(fname, 'r') as fp: names = fp.read().splitlines()\n",
    "    name_dict = {}\n",
    "    # List Comprehension updates dictionary if the letter key doesn't exist\n",
    "    [name_dict.update({name[0]:name}) for name in names if name[0] not in name_dict]\n",
    "    return name_dict\n",
    "\n",
    "\n",
    "# Test Cases\n",
    "print(name_game('names.txt'))\n",
    "# print(name_game('names0.txt'))\n",
    "# print(name_game('names1.txt'))"
   ]
  },
  {
   "cell_type": "markdown",
   "metadata": {},
   "source": [
    "---\n",
    "\n",
    "## <span style=\"color:green\">Py7b - args, kwargs, & Sorting</span>\n",
    "\n",
    "---"
   ]
  },
  {
   "cell_type": "markdown",
   "metadata": {},
   "source": [
    "### <span style=\"color:red\">Py7b - Question 1</span>"
   ]
  },
  {
   "cell_type": "markdown",
   "metadata": {},
   "source": [
    "Use python to produce code below that will perform the following:\n",
    "\n",
    "- Create a function called `infinitearguments` that will:\n",
    "\n",
    "- Print to standard output all positional arguments, in the order received, on separate lines.\n",
    "- Followed immediately by all keyword arguments in the form `keyword=value` in keyword alphabetic order."
   ]
  },
  {
   "cell_type": "code",
   "execution_count": null,
   "metadata": {},
   "outputs": [],
   "source": [
    "# Solution\n",
    "def infinitearguments(*args, **kwargs):\n",
    "\n",
    "    sorted_kwargs = dict(sorted(kwargs.items()))\n",
    "\n",
    "    for arg in args:\n",
    "        print(arg)\n",
    "        \n",
    "    for k, v in sorted_kwargs.items():\n",
    "        print(f'{k}={v}')\n",
    "\n",
    "\n",
    "# Test Cases\n",
    "print(infinitearguments(1,2,3,4,5,a=5, b=3, c=7))\n",
    "print()\n",
    "print(infinitearguments(5,2,3,7,5,a=9, z=3, b=10))"
   ]
  },
  {
   "cell_type": "markdown",
   "metadata": {},
   "source": [
    "### <span style=\"color:red\">Py7b - Question 2</span>"
   ]
  },
  {
   "cell_type": "markdown",
   "metadata": {},
   "source": [
    "Read all lines from file in `filepath` and return a list of all lines in case-insensitive ASCII order. Remove all linebreaks before sorting.\n",
    "\n",
    "You can use the following file for testing purposes: [file1.txt](http://10.50.33.245/moodle/pluginfile.php/106/question/questiontext/6196/2/2149/file1.txt)"
   ]
  },
  {
   "cell_type": "code",
   "execution_count": null,
   "metadata": {},
   "outputs": [],
   "source": [
    "# Solution\n",
    "def sort_ascii(filepath):\n",
    "    with open(filepath, 'r') as fp:\n",
    "        # method/function chaining:\n",
    "            # 1. read file - .read() \n",
    "            # 2. create list by splitting lines - .splitlines()\n",
    "            # 3. sort the list - sorted()\n",
    "        return sorted(fp.read().splitlines())\n",
    "\n",
    "\n",
    "# Test Case\n",
    "print(sort_ascii('file1.txt'))"
   ]
  },
  {
   "cell_type": "markdown",
   "metadata": {},
   "source": [
    "### <span style=\"color:red\">Py7b - Question 3</span>"
   ]
  },
  {
   "cell_type": "markdown",
   "metadata": {},
   "source": [
    "Read all lines from file in `filepath` and return a list of all lines sorted longest to shortest. Remove all linebreaks before sorting.\n",
    "\n",
    "You can use the following file for testing: [file1.txt](http://10.50.33.245/moodle/pluginfile.php/106/question/questiontext/6196/2/2149/file1.txt)"
   ]
  },
  {
   "cell_type": "code",
   "execution_count": null,
   "metadata": {},
   "outputs": [],
   "source": [
    "# Solution\n",
    "def sort_length(filepath):\n",
    "    with open(filepath, 'r') as fp:\n",
    "        # method/function chaining\n",
    "            # 1. read file - .read()\n",
    "            # 2. create a list of lines - .splitlines()\n",
    "            # 3. sort by the length of each line - key=lambda x : len(x)\n",
    "            # 4. sort in descending order - reverse=True\n",
    "        return sorted(fp.read().splitlines(), key=lambda x : len(x), reverse=True)"
   ]
  }
 ],
 "metadata": {
  "kernelspec": {
   "display_name": "Python 3",
   "language": "python",
   "name": "python3"
  },
  "language_info": {
   "codemirror_mode": {
    "name": "ipython",
    "version": 3
   },
   "file_extension": ".py",
   "mimetype": "text/x-python",
   "name": "python",
   "nbconvert_exporter": "python",
   "pygments_lexer": "ipython3",
   "version": "3.11.1"
  }
 },
 "nbformat": 4,
 "nbformat_minor": 2
}
