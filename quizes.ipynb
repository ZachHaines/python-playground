{
 "cells": [
  {
   "cell_type": "markdown",
   "metadata": {},
   "source": [
    "# End of Lecture CTF Challenges\n",
    "\n",
    "#### Solutions by Zachary Haines"
   ]
  },
  {
   "cell_type": "markdown",
   "metadata": {},
   "source": [
    "---\n",
    "\n",
    "## Table of Contents\n",
    "\n",
    "--- "
   ]
  },
  {
   "cell_type": "markdown",
   "metadata": {},
   "source": [
    "### [Py2 - Data Types, Variables, containers, Input/Out](#2-0)"
   ]
  },
  {
   "cell_type": "markdown",
   "metadata": {},
   "source": [
    "- [Question 1](#2-1)\n",
    "\n",
    "- [Question 2](#2-2)\n",
    "\n",
    "- [Question 3](#2-3)\n",
    "\n",
    "- [Question 4](#2-4)\n",
    "\n",
    "- [Question 5](#2-5)\n",
    "\n",
    "- [Question 6](#2-6)\n",
    "\n",
    "- [Question 7](#2-7)"
   ]
  },
  {
   "cell_type": "markdown",
   "metadata": {},
   "source": [
    "### [Py3 - Flow control / Branching & Functions](#3-0)"
   ]
  },
  {
   "cell_type": "markdown",
   "metadata": {},
   "source": [
    "- [Question 1](#3-1)\n",
    "\n",
    "- [Question 2](#3-2)\n",
    "\n",
    "- [Question 3](#3-3)\n",
    "\n",
    "- [Question 4](#3-4)"
   ]
  },
  {
   "cell_type": "markdown",
   "metadata": {},
   "source": [
    "### [Py4 - Loops, range(), len(), & Slicing](#4-0)"
   ]
  },
  {
   "cell_type": "markdown",
   "metadata": {},
   "source": [
    "- [Question 1](#4-1)\n",
    "\n",
    "- [Question 2](#4-2)\n",
    "\n",
    "- [Question 3](#4-3)\n",
    "\n",
    "- [Question 4](#4-4)\n",
    "\n",
    "- [Question 5](#4-5)\n",
    "\n",
    "- [Question 6](#4-6)\n",
    "\n",
    "- [Question 7](#4-7)\n",
    "\n",
    "- [Question 8](#4-8)\n",
    "\n",
    "- [Question 9](#4-9)\n",
    "\n",
    "- [Question 10](#4-10)\n",
    "\n",
    "- [Question 11](#4-11)\n",
    "\n",
    "- [Question 12](#4-12)\n",
    "\n",
    "- [Question 13](#4-13)\n",
    "\n",
    "- [Question 14](#4-14)\n",
    "\n",
    "- [Question 15](#4-15)\n",
    "\n",
    "- [Question 16](#4-16)\n",
    "\n",
    "- [Question 17](#4-17)\n",
    "\n",
    "- [Question 18](#4-18)"
   ]
  },
  {
   "cell_type": "markdown",
   "metadata": {},
   "source": [
    "---\n",
    "<a id=\"2-0\"></a>\n",
    "## <span style=\"color:green\">Py2 - Data Types, Variables, Containers, Input/Output</span>\n",
    "\n",
    "---"
   ]
  },
  {
   "cell_type": "markdown",
   "metadata": {},
   "source": [
    "<a id=\"2-1\"></a>\n",
    "### <span style=\"color:red\">Py2 - Question 1</span>"
   ]
  },
  {
   "cell_type": "markdown",
   "metadata": {},
   "source": [
    "Use python to produce code below that will create several named variables with the specified value:\n",
    "\n",
    "| Variable | Value | Type |\n",
    "| -------- | ----- | ---- |\n",
    "| hello | hello | string |\n",
    "| is_python_awesome | true | boolean |\n",
    "| days_in_python | 6 | integer |\n",
    "| pie_size | |3.14 | float |\n",
    "\n",
    "After creating all variables and assigning their value, print each variable on a separate line\n",
    "\n"
   ]
  },
  {
   "cell_type": "code",
   "execution_count": 1,
   "metadata": {},
   "outputs": [
    {
     "name": "stdout",
     "output_type": "stream",
     "text": [
      "hello\n",
      "True\n",
      "6\n",
      "3.14\n"
     ]
    }
   ],
   "source": [
    "hello:str = 'hello'\n",
    "is_python_awesome:bool = True\n",
    "days_in_python:int = 6\n",
    "pie_size:float = 3.14\n",
    "\n",
    "print(hello, is_python_awesome, days_in_python, pie_size, sep='\\n')"
   ]
  },
  {
   "cell_type": "markdown",
   "metadata": {},
   "source": [
    "<a id=\"2-2\"></a>\n",
    "### <span style=\"color:red\">Py2 - Question 2</span>"
   ]
  },
  {
   "cell_type": "markdown",
   "metadata": {},
   "source": [
    "Use Python code to create the following **variables**. Those variables will be assigned the **Starting Value** as seen in the table below. \n",
    "\n",
    "After assigning each **Variable** with a **Starting Value**, use Python Built-in Functions to perform the conversion designated in the **Convert to Type** column.\n",
    "\n",
    "| Variable | Starting Value | Convert to Type |\n",
    "| -------- | -------------- | --------------- |\n",
    "| int_input | \"345\" | integer |\n",
    "| pi_4 | \"3.1415\" | float |\n",
    "| hours_str | 40 | string |\n",
    "| hourly_rate |\t15 | float |"
   ]
  },
  {
   "cell_type": "markdown",
   "metadata": {},
   "source": [
    "#### Method 1"
   ]
  },
  {
   "cell_type": "code",
   "execution_count": 2,
   "metadata": {},
   "outputs": [
    {
     "name": "stdout",
     "output_type": "stream",
     "text": [
      "345\n",
      "3.1415\n",
      "40\n",
      "15.0\n"
     ]
    }
   ],
   "source": [
    "int_input = '345'\n",
    "pi_4 = \"3.1415\"\n",
    "hours_str = 40\n",
    "hourly_rate = 15\n",
    "\n",
    "print(int(int_input), float(pi_4), str(hours_str), float(hourly_rate), sep='\\n')"
   ]
  },
  {
   "cell_type": "markdown",
   "metadata": {},
   "source": [
    "#### Method 2"
   ]
  },
  {
   "cell_type": "code",
   "execution_count": 3,
   "metadata": {},
   "outputs": [
    {
     "name": "stdout",
     "output_type": "stream",
     "text": [
      "345\n",
      "3.1415\n",
      "40\n",
      "15.0\n"
     ]
    }
   ],
   "source": [
    "int_input, pi_4, hours_str, hourly_rate = '345', \"3.1415\", 40, 15\n",
    "\n",
    "print(int(int_input), float(pi_4), str(hours_str), float(hourly_rate), sep='\\n')"
   ]
  },
  {
   "cell_type": "markdown",
   "metadata": {},
   "source": [
    "<a id=\"2-3\"></a>\n",
    "### <span style=\"color:red\">Py2 - Question 3</span>"
   ]
  },
  {
   "cell_type": "markdown",
   "metadata": {},
   "source": [
    "Use python to produce code below that will create several named variables with the specified value using math operators:\n",
    "\n",
    "\n",
    "| Variable | Value | Type |\n",
    "| -------- | ----- | ---- |\n",
    "| x | 16 | integer |\n",
    "| y | 3\t| integer |\n",
    "| xysum | sum of x and y | integer |\n",
    "| xydiff | difference of x and y | integer |\n",
    "| xyprod | product of x and y |\tinteger |\n",
    "| xyquo | quotient of x and y |\tfloat |\n",
    "| xyintquo |integer quotient of x and y | integer |\n",
    "| xymod\t| modulus of x and y | integer |\n",
    "\n",
    "After assigning all variables and performing the assigned math operations print each variable on a separate line in the order they appear in the table.\n"
   ]
  },
  {
   "cell_type": "code",
   "execution_count": 4,
   "metadata": {},
   "outputs": [
    {
     "name": "stdout",
     "output_type": "stream",
     "text": [
      "19\n",
      "13\n",
      "48\n",
      "5.333333333333333\n",
      "5\n",
      "1\n"
     ]
    }
   ],
   "source": [
    "x, y = 16, 3\n",
    "xysum = x + y\n",
    "xydiff = x - y\n",
    "xyprod = x * y\n",
    "xyquo = x / y\n",
    "xyintquo = int(x / y)\n",
    "xymod = x % y\n",
    "\n",
    "print(xysum, xydiff, xyprod, xyquo, xyintquo, xymod, sep='\\n')"
   ]
  },
  {
   "cell_type": "markdown",
   "metadata": {},
   "source": [
    "<a id=\"2-4\"></a>\n",
    "### <span style=\"color:red\">Py2 - Question 4</span>"
   ]
  },
  {
   "cell_type": "markdown",
   "metadata": {},
   "source": [
    "Use python to produce code below that will create several named variables that read a value (or collect input) from a user.\n",
    "\n",
    "`output` should use string formatting to access the values used in `name`, `greeting`, and `time`\n",
    "\n",
    "After creating all variables print `output`.\n",
    "\n",
    "**Example 1:**\n",
    "\n",
    "| Variable | Example Input Value | Type |\n",
    "| -------- | ------------------- | ---- |\n",
    "| name | Jerry | str |\n",
    "| greeting | Sir | str |\n",
    "| time | noon | str |\n",
    "| output | \tHello Jerry! Sir, will you be arriving by noon? | str |\n",
    "\n",
    "**Example 2:**\n",
    "\n",
    "| Variable | Example Input Value | Type |\n",
    "| -------- | ------------------- | ---- |\n",
    "| name | Karen | str |\n",
    "| greeting | Madam | str |\n",
    "| time | midnight | str |\n",
    "| output | Hello Karen! Madam, will you be arriving by midnight? | str |"
   ]
  },
  {
   "cell_type": "code",
   "execution_count": 5,
   "metadata": {},
   "outputs": [
    {
     "name": "stdout",
     "output_type": "stream",
     "text": [
      "Hello ! , will you be arriving by ?\n"
     ]
    }
   ],
   "source": [
    "name, greeting, time = input(), input(), input()\n",
    "\n",
    "print(f'Hello {name}! {greeting}, will you be arriving by {time}?')"
   ]
  },
  {
   "cell_type": "markdown",
   "metadata": {},
   "source": [
    "<a id=\"2-5\"></a>\n",
    "### <span style=\"color:red\">Py2 - Question 5</span>"
   ]
  },
  {
   "cell_type": "markdown",
   "metadata": {},
   "source": [
    "Use python to produce code below that will perform the following:\n",
    "\n",
    "- Create a variable named `sentence` and assign the value `'good for all'`\n",
    "- Turn the `sentence` variable into a list of individual characters and assign this to a variable named `sent_list`.\n",
    "- Change the first (index 0) character in the list to `'f'`\n",
    "- Change the last (index -1) character in the list to `'?'`\n",
    "- Combine the list into a new string with periods (`'.'`) in between each character and assign the result to a new variable named `output`.\n",
    "- **Print** `output`"
   ]
  },
  {
   "cell_type": "code",
   "execution_count": 6,
   "metadata": {},
   "outputs": [
    {
     "name": "stdout",
     "output_type": "stream",
     "text": [
      "f.o.o.d. .f.o.r. .a.l.?\n"
     ]
    }
   ],
   "source": [
    "sentence = 'good for all'\n",
    "sent_list = list(sentence)\n",
    "sent_list[0] = 'f'\n",
    "sent_list[-1] = '?'\n",
    "\n",
    "output = '.'.join(sent_list)\n",
    "print(output)"
   ]
  },
  {
   "cell_type": "markdown",
   "metadata": {},
   "source": [
    "<a id=\"2-6\"></a>\n",
    "### <span style=\"color:red\">Py2 - Question 6</span>"
   ]
  },
  {
   "cell_type": "markdown",
   "metadata": {},
   "source": [
    "Use python to produce code below that will perform the following:\n",
    "\n",
    "- Create a variable named `user_input` that will read multiple numbers separated by spaces on the same line from the user.\n",
    "- Update `user_input` to change all spaces to a plus sign.\n",
    "- Print the resulting string stored in `user_input` to the user."
   ]
  },
  {
   "cell_type": "code",
   "execution_count": 7,
   "metadata": {},
   "outputs": [
    {
     "name": "stdout",
     "output_type": "stream",
     "text": [
      "\n"
     ]
    }
   ],
   "source": [
    "user_input = input().replace(' ', '+')\n",
    "print(user_input)"
   ]
  },
  {
   "cell_type": "markdown",
   "metadata": {},
   "source": [
    "<a id=\"2-7\"></a>\n",
    "### <span style=\"color:red\">Py2 - Question 7</span>"
   ]
  },
  {
   "cell_type": "markdown",
   "metadata": {},
   "source": [
    "Use python to produce code below that will:\n",
    "\n",
    "- Given an email address in `email`\n",
    "- Convert the email into a list named `lst`\n",
    "- The list will contain all individual parts of the email\n",
    "- Example: email = 'alan.m.turing@genius.com' -> lst = ['alan','m','turing', 'genius', 'com']"
   ]
  },
  {
   "cell_type": "code",
   "execution_count": 8,
   "metadata": {},
   "outputs": [
    {
     "name": "stdout",
     "output_type": "stream",
     "text": [
      "['alan', 'm', 'turing', 'genius', 'com']\n"
     ]
    }
   ],
   "source": [
    "email = 'alan.m.turing@genius.com'\n",
    "lst = email.replace('@','.').split('.')\n",
    "print(lst)"
   ]
  },
  {
   "cell_type": "markdown",
   "metadata": {},
   "source": [
    "---\n",
    "<a id=\"3-0\"></a>\n",
    "## <span style=\"color:green\">Py3 - Flow control / Branching & Functions</span>\n",
    "\n",
    "---"
   ]
  },
  {
   "cell_type": "markdown",
   "metadata": {},
   "source": [
    "<a id=\"3-1\"></a>\n",
    "### <span style=\"color:red\">Py3 - Question 1</span>"
   ]
  },
  {
   "cell_type": "markdown",
   "metadata": {},
   "source": [
    "**You will NOT be defining a function to solve this challenge**\n",
    "\n",
    "FizzBuzz is an interview question that is said to filter out 99.5% of programming job candidates.\n",
    "\n",
    "- Add code so that it reads a number from a user and is stored in a variable called `num`\n",
    "\n",
    "- If `num` isn’t divisible by **3** or **5** then print `num`\n",
    "\n",
    "- If `num` is a multiple of **3** print `'fizz'`\n",
    "\n",
    "- If `num` is a multiple of **5** print `'buzz'`\n",
    "\n",
    "- If `num` is a multiple of **3** and **5** print `'fizzbuzz'`"
   ]
  },
  {
   "cell_type": "code",
   "execution_count": 9,
   "metadata": {},
   "outputs": [
    {
     "ename": "ValueError",
     "evalue": "invalid literal for int() with base 10: ''",
     "output_type": "error",
     "traceback": [
      "\u001b[0;31m---------------------------------------------------------------------------\u001b[0m",
      "\u001b[0;31mValueError\u001b[0m                                Traceback (most recent call last)",
      "Cell \u001b[0;32mIn[9], line 1\u001b[0m\n\u001b[0;32m----> 1\u001b[0m num \u001b[38;5;241m=\u001b[39m \u001b[38;5;28;43mint\u001b[39;49m\u001b[43m(\u001b[49m\u001b[38;5;28;43minput\u001b[39;49m\u001b[43m(\u001b[49m\u001b[43m)\u001b[49m\u001b[43m)\u001b[49m\n\u001b[1;32m      2\u001b[0m \u001b[38;5;28;01mif\u001b[39;00m \u001b[38;5;129;01mnot\u001b[39;00m num \u001b[38;5;241m%\u001b[39m \u001b[38;5;241m3\u001b[39m \u001b[38;5;129;01mand\u001b[39;00m \u001b[38;5;129;01mnot\u001b[39;00m num \u001b[38;5;241m%\u001b[39m \u001b[38;5;241m5\u001b[39m:\n\u001b[1;32m      3\u001b[0m     \u001b[38;5;28mprint\u001b[39m(\u001b[38;5;124m'\u001b[39m\u001b[38;5;124mfizzbuzz\u001b[39m\u001b[38;5;124m'\u001b[39m)\n",
      "\u001b[0;31mValueError\u001b[0m: invalid literal for int() with base 10: ''"
     ]
    }
   ],
   "source": [
    "num = int(input())\n",
    "if not num % 3 and not num % 5:\n",
    "    print('fizzbuzz')\n",
    "elif not num % 3:\n",
    "    print('fizz')\n",
    "elif not num % 5:\n",
    "    print('buzz')\n",
    "else: \n",
    "    print(num)"
   ]
  },
  {
   "cell_type": "markdown",
   "metadata": {},
   "source": [
    "<a id=\"3-2\"></a>\n",
    "### <span style=\"color:red\">Py3 - Question 2</span>"
   ]
  },
  {
   "cell_type": "markdown",
   "metadata": {},
   "source": [
    "Use python to produce code below that will perform the following:\n",
    "\n",
    "- Read input from the user stored in the variable `num_input`, the input will be an integer.\n",
    "- Determine which of the following categories `num_input` fits into an print this to the user:\n",
    "    - Negative Even\n",
    "    - Negative Odd\n",
    "    - Zero\n",
    "    - Positive Even\n",
    "    - Positive Odd\n",
    "**NOTE:** Capitalization matters"
   ]
  },
  {
   "cell_type": "code",
   "execution_count": null,
   "metadata": {},
   "outputs": [],
   "source": [
    "num_input = int(input())\n",
    "sign = 'Positive' if num_input > 0 else 'Negative'\n",
    "parity = 'Odd' if num_input % 2 else 'Even'\n",
    "print (f'{sign} {parity}' if num_input else 'Zero')"
   ]
  },
  {
   "cell_type": "markdown",
   "metadata": {},
   "source": [
    "<a id=\"3-3\"></a>\n",
    "### <span style=\"color:red\">Py3 - Question 3</span>"
   ]
  },
  {
   "cell_type": "markdown",
   "metadata": {},
   "source": [
    "Use python to produce code below that will perform the following:\n",
    "\n",
    "- Create a function named `domath` that will accept 3 parameters.\n",
    "- The function will add the first two parameters and multiply this sum by the third parameter.\n",
    "- You can select the variables for each of the parameters.\n",
    "- The resulting product will be returned to the caller."
   ]
  },
  {
   "cell_type": "code",
   "execution_count": null,
   "metadata": {},
   "outputs": [],
   "source": [
    "# Solution\n",
    "def domath(num1, num2, num3):\n",
    "    return (num1 + num2) * num3\n",
    "\n",
    "\n",
    "# Function Call\n",
    "domath(2, 3, 5)"
   ]
  },
  {
   "cell_type": "markdown",
   "metadata": {},
   "source": [
    "<a id=\"3-4\"></a>\n",
    "### <span style=\"color:red\">Py3 - Question 4</span>"
   ]
  },
  {
   "cell_type": "markdown",
   "metadata": {},
   "source": [
    "Complete the function below to return the type of the parameter as a string.\n",
    "\n",
    "Possible types and what they should return:\n",
    "\n",
    "| Data Type | Literal string to return: |\n",
    "| --------- | ------------------------- |\n",
    "| String | string |\n",
    "| Boolean | boolean | \n",
    "| Integer | integer |\n",
    "| Float | float |\n",
    "| List | list |\n",
    "| Tuple | tuple |\n",
    "| Any other type of object | unknown|\n",
    "\n",
    "**Examples:**\n",
    "\n",
    "`get_type_str('hello world')`  \n",
    "Returns: `string`  \n",
    "\n",
    "`get_type_str((item1, item2))`  \n",
    "Returns: `tuple`\n",
    "\n",
    "`get_type_str({})`  \n",
    "Returns: `unknown`"
   ]
  },
  {
   "cell_type": "code",
   "execution_count": null,
   "metadata": {},
   "outputs": [],
   "source": [
    "# Solution\n",
    "def get_type_str(obj):\n",
    "    if type(obj) == str: \n",
    "        return 'string'\n",
    "    elif type(obj) == bool:\n",
    "        return 'boolean'\n",
    "    elif type(obj) == int:\n",
    "        return 'integer'\n",
    "    elif type(obj) == list:\n",
    "        return 'list'\n",
    "    elif type(obj) == tuple:\n",
    "        return 'tuple'\n",
    "    else: return 'unknown'\n"
   ]
  },
  {
   "cell_type": "markdown",
   "metadata": {},
   "source": [
    "---\n",
    "<a id=\"4-0\"></a>\n",
    "## <span style=\"color:green\">Py4 - Loops, range(), len(), & Slicing</span>\n",
    "\n",
    "---"
   ]
  },
  {
   "cell_type": "markdown",
   "metadata": {},
   "source": [
    "<a id=\"4-1\"></a>\n",
    "### <span style=\"color:red\">Py4 - Question 1</span>"
   ]
  },
  {
   "cell_type": "markdown",
   "metadata": {},
   "source": [
    "In a research and development database, record identifiers are formatted with a 3 character code representing a department, followed by the 5 digit employee id that made the entry, and ends in the subject category.\n",
    "\n",
    "Create a function `IDextractor` that takes a string r`ecordID` and returns the employee id.\n",
    "\n",
    "**For example:**\n",
    "\n",
    "`print(IDextractor('AGR12345Hybrid_corn'))`\n",
    "\n",
    "Result: `12345`"
   ]
  },
  {
   "cell_type": "code",
   "execution_count": 1,
   "metadata": {},
   "outputs": [],
   "source": [
    "def IDextractor(recordID):\n",
    "    return recordID[3:8]"
   ]
  },
  {
   "cell_type": "markdown",
   "metadata": {},
   "source": [
    "<a id=\"4-2\"></a>\n",
    "### <span style=\"color:red\">Py4 - Question 2</span>"
   ]
  },
  {
   "cell_type": "markdown",
   "metadata": {},
   "source": [
    "`myList` is a list. Using the provided function signature, **return** every other item in `myList`.\n",
    "\n",
    "**Test:** `print(everyOtherItem([0,1,2,3,4,5]))`  \n",
    "**Result:** `[0, 2, 4]`"
   ]
  },
  {
   "cell_type": "code",
   "execution_count": 14,
   "metadata": {},
   "outputs": [
    {
     "data": {
      "text/plain": [
       "[0, 2, 4]"
      ]
     },
     "execution_count": 14,
     "metadata": {},
     "output_type": "execute_result"
    }
   ],
   "source": [
    "# Solution\n",
    "def everyOtherItem(myList):\n",
    "    return myList[::2]\n",
    "\n",
    "\n",
    "# Function Call\n",
    "myList = [0,1,2,3,4,5]\n",
    "everyOtherItem(myList)"
   ]
  },
  {
   "cell_type": "markdown",
   "metadata": {},
   "source": [
    "<a id=\"4-3\"></a>\n",
    "### <span style=\"color:red\">Py4 - Question 3</span>"
   ]
  },
  {
   "cell_type": "markdown",
   "metadata": {},
   "source": [
    "`myList` contains a sequence of iterables. **Print** the **length of the last item** multiplied by the **length of the first item**.\n",
    "\n",
    "**NOTE:** `thisList` is already be defined, do not assign a value to it. You may create your own list to test with prior to submission.\n",
    "\n",
    "**For example:**\n",
    "\n",
    "**Test:** `myList = [ [1, 2, 3] , [4,5,6], [1,2,3,4] , [9,10] ]`  \n",
    "**Result:** `6`"
   ]
  },
  {
   "cell_type": "code",
   "execution_count": null,
   "metadata": {},
   "outputs": [],
   "source": [
    "# Test Case\n",
    "myList = [ [1, 2, 3] , [4,5,6], [1,2,3,4] , [9,10] ]\n",
    "\n",
    "# Solution\n",
    "print(len(myList[-1])*len(myList[0]))"
   ]
  },
  {
   "cell_type": "markdown",
   "metadata": {},
   "source": [
    "<a id=\"4-4\"></a>\n",
    "### <span style=\"color:red\">Py4 - Question 4</span>"
   ]
  },
  {
   "cell_type": "markdown",
   "metadata": {},
   "source": [
    "Use python to finish the function below that will perform the following:\n",
    "\n",
    "- Read multiple lines from the user on standard input until an empty string is read.\n",
    "- **Return** a list of all these lines\n",
    "- Each line should be reversed from how it is read in.\n",
    "\n",
    "**Example:** If the following inputs were collected:\n",
    "\n",
    "`hello`  \n",
    "`hi`  \n",
    "`bye`  \n",
    "`goodbye`  \n",
    "\n",
    "The list returned should be:  `['olleh', 'ih', 'eyb', 'eybdoog']`"
   ]
  },
  {
   "cell_type": "code",
   "execution_count": null,
   "metadata": {},
   "outputs": [],
   "source": [
    "# Solution \n",
    "def reverseit():\n",
    "    input_list = []\n",
    "    user_input = input()\n",
    "    while user_input:\n",
    "        input_list.append(user_input[::-1])\n",
    "        user_input = input()\n",
    "    return input_list\n",
    "\n",
    "\n",
    "# Function Call\n",
    "reverseit()"
   ]
  },
  {
   "cell_type": "markdown",
   "metadata": {},
   "source": [
    "<a id=\"4-5\"></a>\n",
    "### <span style=\"color:red\">Py4 - Question 5</span>"
   ]
  },
  {
   "cell_type": "markdown",
   "metadata": {},
   "source": [
    "Use python to complete the function below that will perform the following:\n",
    "\n",
    "- Given a mixed case string as parameter s\n",
    "- Capitalize every letter with an even index within the string.\n",
    "- Lowercase every letter with an odd index within the string.\n",
    "- **Return** the resulting string.\n",
    "- **Example:**\n",
    "    - `leetString(\"ABCDEF ghijkl\")`\n",
    "    - **Return:** `\"AbCdEf gHiJkL\"`"
   ]
  },
  {
   "cell_type": "code",
   "execution_count": null,
   "metadata": {},
   "outputs": [],
   "source": [
    "# Solution\n",
    "def leetString(s):\n",
    "    new_string = ''\n",
    "    for i in range(len(s)):\n",
    "        new_string += s[i].lower() if i % 2 else s[i].upper()\n",
    "    return new_string\n",
    "\n",
    "\n",
    "# Function Call\n",
    "leetString(\"ABCDEF ghijkl\")"
   ]
  },
  {
   "cell_type": "markdown",
   "metadata": {},
   "source": [
    "<a id=\"4-6\"></a>\n",
    "### <span style=\"color:red\">Py4 - Question 6</span>"
   ]
  },
  {
   "cell_type": "markdown",
   "metadata": {},
   "source": [
    "Use python to finish the function below that will perform the following:\n",
    "\n",
    "- First, print out every even number on a separate line from provided parameter `first` to parameter `last`, inclusive.\n",
    "- Next, print out every odd number from `first` to `last`, inclusive."
   ]
  },
  {
   "cell_type": "code",
   "execution_count": null,
   "metadata": {},
   "outputs": [],
   "source": [
    "# Solution\n",
    "def evensandodds(first, last):\n",
    "    for i in range(2):\n",
    "        for j in range(first+i, last+1, 2):\n",
    "            print(j)\n",
    "    \n",
    "\n",
    "# Function Call\n",
    "evensandodds(0, 20)"
   ]
  },
  {
   "cell_type": "markdown",
   "metadata": {},
   "source": [
    "<a id=\"4-7\"></a>\n",
    "### <span style=\"color:red\">Py4 - Question 7</span>"
   ]
  },
  {
   "cell_type": "markdown",
   "metadata": {},
   "source": [
    "Use Python to finish the function below to read strings from a user until the user enters an empty string. The strings should be stored into a list that will be returned when the user enters an empty string.\n",
    "\n",
    "**Example:**\n",
    "\n",
    "If the following strings are read from the user:\n",
    "\n",
    "`this`\n",
    "`is`\n",
    "`a`\n",
    "`test`\n",
    "\n",
    "The returned list would be:\n",
    "\n",
    "`['this', 'is', 'a', 'test']`"
   ]
  },
  {
   "cell_type": "code",
   "execution_count": null,
   "metadata": {},
   "outputs": [],
   "source": [
    "# Solution\n",
    "def user_io():\n",
    "    ui_list = []\n",
    "    ui = input()\n",
    "    while ui:\n",
    "        ui_list.append(ui)\n",
    "        ui = input()\n",
    "    return ui_list\n",
    "\n",
    "\n",
    "# Function Call\n",
    "user_io()"
   ]
  },
  {
   "cell_type": "markdown",
   "metadata": {},
   "source": [
    "<a id=\"4-8\"></a>\n",
    "### <span style=\"color:red\">Py4 - Question 8</span>"
   ]
  },
  {
   "cell_type": "markdown",
   "metadata": {},
   "source": [
    "Use Python to complete the function below to return a tuple of the multiples of 10 from 1 to 1000 inclusive.\n",
    "\n"
   ]
  },
  {
   "cell_type": "markdown",
   "metadata": {},
   "source": [
    "<a id=\"4-9\"></a>\n",
    "### <span style=\"color:red\">Py4 - Question 9</span>"
   ]
  },
  {
   "cell_type": "markdown",
   "metadata": {},
   "source": [
    "<a id=\"4-10\"></a>\n",
    "### <span style=\"color:red\">Py4 - Question 10</span>"
   ]
  },
  {
   "cell_type": "markdown",
   "metadata": {},
   "source": [
    "<a id=\"4-11\"></a>\n",
    "### <span style=\"color:red\">Py4 - Question 11</span>"
   ]
  },
  {
   "cell_type": "markdown",
   "metadata": {},
   "source": [
    "<a id=\"4-12\"></a>\n",
    "### <span style=\"color:red\">Py4 - Question 12</span>"
   ]
  },
  {
   "cell_type": "markdown",
   "metadata": {},
   "source": [
    "<a id=\"4-13\"></a>\n",
    "### <span style=\"color:red\">Py4 - Question 13</span>"
   ]
  },
  {
   "cell_type": "markdown",
   "metadata": {},
   "source": [
    "<a id=\"4-14\"></a>\n",
    "### <span style=\"color:red\">Py4 - Question 14</span>"
   ]
  },
  {
   "cell_type": "markdown",
   "metadata": {},
   "source": [
    "<a id=\"4-15\"></a>\n",
    "### <span style=\"color:red\">Py4 - Question 15</span>"
   ]
  },
  {
   "cell_type": "markdown",
   "metadata": {},
   "source": [
    "<a id=\"4-16\"></a>\n",
    "### <span style=\"color:red\">Py4 - Question 16</span>"
   ]
  },
  {
   "cell_type": "markdown",
   "metadata": {},
   "source": [
    "<a id=\"4-17\"></a>\n",
    "### <span style=\"color:red\">Py4 - Question 17</span>"
   ]
  },
  {
   "cell_type": "markdown",
   "metadata": {},
   "source": [
    "<a id=\"4-18\"></a>\n",
    "### <span style=\"color:red\">Py4 - Question 18</span>"
   ]
  }
 ],
 "metadata": {
  "kernelspec": {
   "display_name": "Python 3",
   "language": "python",
   "name": "python3"
  },
  "language_info": {
   "codemirror_mode": {
    "name": "ipython",
    "version": 3
   },
   "file_extension": ".py",
   "mimetype": "text/x-python",
   "name": "python",
   "nbconvert_exporter": "python",
   "pygments_lexer": "ipython3",
   "version": "3.8.10"
  }
 },
 "nbformat": 4,
 "nbformat_minor": 2
}
