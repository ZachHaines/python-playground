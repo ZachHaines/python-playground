{
 "cells": [
  {
   "cell_type": "markdown",
   "metadata": {},
   "source": [
    "# End of Lecture CTF Challenges\n",
    "\n",
    "#### Solutions by Zachary Haines"
   ]
  },
  {
   "cell_type": "markdown",
   "metadata": {},
   "source": [
    "---\n",
    "\n",
    "## Table of Contents\n",
    "\n",
    "--- "
   ]
  },
  {
   "cell_type": "markdown",
   "metadata": {},
   "source": [
    "### [Py2 - Data Types, Variables, containers, Input/Out](#2-0)"
   ]
  },
  {
   "cell_type": "markdown",
   "metadata": {},
   "source": [
    "- [Question 1](#2-1)\n",
    "\n",
    "- [Question 2](#2-2)\n",
    "\n",
    "- [Question 3](#2-3)\n",
    "\n",
    "- [Question 4](#2-4)\n",
    "\n",
    "- [Question 5](#2-5)\n",
    "\n",
    "- [Question 6](#2-6)\n",
    "\n",
    "- [Question 7](#2-7)"
   ]
  },
  {
   "cell_type": "markdown",
   "metadata": {},
   "source": [
    "### [Py3 - Flow control / Branching & Functions](#3-0)"
   ]
  },
  {
   "cell_type": "markdown",
   "metadata": {},
   "source": [
    "- [Question 1](#3-1)\n",
    "\n",
    "- [Question 2](#3-2)\n",
    "\n",
    "- [Question 3](#3-3)\n",
    "\n",
    "- [Question 4](#3-4)"
   ]
  },
  {
   "cell_type": "markdown",
   "metadata": {},
   "source": [
    "---\n",
    "<a id=\"2-0\"></a>\n",
    "## <span style=\"color:green\">Py2 - Data Types, Variables, Containers, Input/Output</span>\n",
    "\n",
    "---"
   ]
  },
  {
   "cell_type": "markdown",
   "metadata": {},
   "source": [
    "<a id=\"2-1\"></a>\n",
    "### <span style=\"color:red\">Py2 - Question 1</span>"
   ]
  },
  {
   "cell_type": "markdown",
   "metadata": {},
   "source": [
    "Use python to produce code below that will create several named variables with the specified value:\n",
    "\n",
    "| Variable | Value | Type |\n",
    "| -------- | ----- | ---- |\n",
    "| hello | hello | string |\n",
    "| is_python_awesome | true | boolean |\n",
    "| days_in_python | 6 | integer |\n",
    "| pie_size | |3.14 | float |\n",
    "\n",
    "After creating all variables and assigning their value, print each variable on a separate line\n",
    "\n"
   ]
  },
  {
   "cell_type": "code",
   "execution_count": null,
   "metadata": {},
   "outputs": [],
   "source": [
    "hello:str = 'hello'\n",
    "is_python_awesome:bool = True\n",
    "days_in_python:int = 6\n",
    "pie_size:float = 3.14\n",
    "\n",
    "print(hello, is_python_awesome, days_in_python, pie_size, sep='\\n')"
   ]
  },
  {
   "cell_type": "markdown",
   "metadata": {},
   "source": [
    "<a id=\"2-2\"></a>\n",
    "### <span style=\"color:red\">Py2 - Question 2</span>"
   ]
  },
  {
   "cell_type": "markdown",
   "metadata": {},
   "source": [
    "Use Python code to create the following **variables**. Those variables will be assigned the **Starting Value** as seen in the table below. \n",
    "\n",
    "After assigning each **Variable** with a **Starting Value**, use Python Built-in Functions to perform the conversion designated in the **Convert to Type** column.\n",
    "\n",
    "| Variable | Starting Value | Convert to Type |\n",
    "| -------- | -------------- | --------------- |\n",
    "| int_input | \"345\" | integer |\n",
    "| pi_4 | \"3.1415\" | float |\n",
    "| hours_str | 40 | string |\n",
    "| hourly_rate |\t15 | float |"
   ]
  },
  {
   "cell_type": "markdown",
   "metadata": {},
   "source": [
    "#### Method 1"
   ]
  },
  {
   "cell_type": "code",
   "execution_count": null,
   "metadata": {},
   "outputs": [],
   "source": [
    "int_input = '345'\n",
    "pi_4 = \"3.1415\"\n",
    "hours_str = 40\n",
    "hourly_rate = 15\n",
    "\n",
    "print(int(int_input), float(pi_4), str(hours_str), float(hourly_rate), sep='\\n')"
   ]
  },
  {
   "cell_type": "markdown",
   "metadata": {},
   "source": [
    "#### Method 2"
   ]
  },
  {
   "cell_type": "code",
   "execution_count": null,
   "metadata": {},
   "outputs": [],
   "source": [
    "int_input, pi_4, hours_str, hourly_rate = '345', \"3.1415\", 40, 15\n",
    "\n",
    "print(int(int_input), float(pi_4), str(hours_str), float(hourly_rate), sep='\\n')"
   ]
  },
  {
   "cell_type": "markdown",
   "metadata": {},
   "source": [
    "<a id=\"2-3\"></a>\n",
    "### <span style=\"color:red\">Py2 - Question 3</span>"
   ]
  },
  {
   "cell_type": "markdown",
   "metadata": {},
   "source": [
    "Use python to produce code below that will create several named variables with the specified value using math operators:\n",
    "\n",
    "\n",
    "| Variable | Value | Type |\n",
    "| -------- | ----- | ---- |\n",
    "| x | 16 | integer |\n",
    "| y | 3\t| integer |\n",
    "| xysum | sum of x and y | integer |\n",
    "| xydiff | difference of x and y | integer |\n",
    "| xyprod | product of x and y |\tinteger |\n",
    "| xyquo | quotient of x and y |\tfloat |\n",
    "| xyintquo |integer quotient of x and y | integer |\n",
    "| xymod\t| modulus of x and y | integer |\n",
    "\n",
    "After assigning all variables and performing the assigned math operations print each variable on a separate line in the order they appear in the table.\n"
   ]
  },
  {
   "cell_type": "code",
   "execution_count": null,
   "metadata": {},
   "outputs": [],
   "source": [
    "x, y = 16, 3\n",
    "xysum = x + y\n",
    "xydiff = x - y\n",
    "xyprod = x * y\n",
    "xyquo = x / y\n",
    "xyintquo = int(x / y)\n",
    "xymod = x % y\n",
    "\n",
    "print(xysum, xydiff, xyprod, xyquo, xyintquo, xymod, sep='\\n')"
   ]
  },
  {
   "cell_type": "markdown",
   "metadata": {},
   "source": [
    "<a id=\"2-4\"></a>\n",
    "### <span style=\"color:red\">Py2 - Question 4</span>"
   ]
  },
  {
   "cell_type": "markdown",
   "metadata": {},
   "source": [
    "Use python to produce code below that will create several named variables that read a value (or collect input) from a user.\n",
    "\n",
    "`output` should use string formatting to access the values used in `name`, `greeting`, and `time`\n",
    "\n",
    "After creating all variables print `output`.\n",
    "\n",
    "**Example 1:**\n",
    "\n",
    "| Variable | Example Input Value | Type |\n",
    "| -------- | ------------------- | ---- |\n",
    "| name | Jerry | str |\n",
    "| greeting | Sir | str |\n",
    "| time | noon | str |\n",
    "| output | \tHello Jerry! Sir, will you be arriving by noon? | str |\n",
    "\n",
    "**Example 2:**\n",
    "\n",
    "| Variable | Example Input Value | Type |\n",
    "| -------- | ------------------- | ---- |\n",
    "| name | Karen | str |\n",
    "| greeting | Madam | str |\n",
    "| time | midnight | str |\n",
    "| output | Hello Karen! Madam, will you be arriving by midnight? | str |"
   ]
  },
  {
   "cell_type": "code",
   "execution_count": null,
   "metadata": {},
   "outputs": [],
   "source": [
    "name, greeting, time = input(), input(), input()\n",
    "\n",
    "print(f'Hello {name}! {greeting}, will you be arriving by {time}?')"
   ]
  },
  {
   "cell_type": "markdown",
   "metadata": {},
   "source": [
    "<a id=\"2-5\"></a>\n",
    "### <span style=\"color:red\">Py2 - Question 5</span>"
   ]
  },
  {
   "cell_type": "markdown",
   "metadata": {},
   "source": [
    "Use python to produce code below that will perform the following:\n",
    "\n",
    "- Create a variable named `sentence` and assign the value `'good for all'`\n",
    "- Turn the `sentence` variable into a list of individual characters and assign this to a variable named `sent_list`.\n",
    "- Change the first (index 0) character in the list to `'f'`\n",
    "- Change the last (index -1) character in the list to `'?'`\n",
    "- Combine the list into a new string with periods (`'.'`) in between each character and assign the result to a new variable named `output`.\n",
    "- **Print** `output`"
   ]
  },
  {
   "cell_type": "code",
   "execution_count": 9,
   "metadata": {},
   "outputs": [
    {
     "name": "stdout",
     "output_type": "stream",
     "text": [
      "f.o.o.d. .f.o.r. .a.l.?\n"
     ]
    }
   ],
   "source": [
    "sentence = 'good for all'\n",
    "sent_list = list(sentence)\n",
    "sent_list[0] = 'f'\n",
    "sent_list[-1] = '?'\n",
    "\n",
    "output = '.'.join(sent_list)\n",
    "print(output)"
   ]
  },
  {
   "cell_type": "markdown",
   "metadata": {},
   "source": [
    "<a id=\"2-6\"></a>\n",
    "### <span style=\"color:red\">Py2 - Question 6</span>"
   ]
  },
  {
   "cell_type": "markdown",
   "metadata": {},
   "source": [
    "Use python to produce code below that will perform the following:\n",
    "\n",
    "- Create a variable named `user_input` that will read multiple numbers separated by spaces on the same line from the user.\n",
    "- Update `user_input` to change all spaces to a plus sign.\n",
    "- Print the resulting string stored in `user_input` to the user."
   ]
  },
  {
   "cell_type": "code",
   "execution_count": null,
   "metadata": {},
   "outputs": [],
   "source": [
    "user_input = input().replace(' ', '+')\n",
    "print(user_input)"
   ]
  },
  {
   "cell_type": "markdown",
   "metadata": {},
   "source": [
    "<a id=\"2-7\"></a>\n",
    "### <span style=\"color:red\">Py2 - Question 7</span>"
   ]
  },
  {
   "cell_type": "markdown",
   "metadata": {},
   "source": [
    "Use python to produce code below that will:\n",
    "\n",
    "- Given an email address in `email`\n",
    "- Convert the email into a list named `lst`\n",
    "- The list will contain all individual parts of the email\n",
    "- Example: email = 'alan.m.turing@genius.com' -> lst = ['alan','m','turing', 'genius', 'com']"
   ]
  },
  {
   "cell_type": "code",
   "execution_count": null,
   "metadata": {},
   "outputs": [],
   "source": [
    "email = 'alan.m.turing@genius.com'\n",
    "lst = email.replace('@','.').split('.')\n",
    "print(lst)"
   ]
  },
  {
   "cell_type": "markdown",
   "metadata": {},
   "source": [
    "---\n",
    "<a id=\"3-0\"></a>\n",
    "## <span style=\"color:green\">Py3 - Flow control / Branching & Functions</span>\n",
    "\n",
    "---"
   ]
  },
  {
   "cell_type": "markdown",
   "metadata": {},
   "source": [
    "<a id=\"3-1\"></a>\n",
    "### <span style=\"color:red\">Py3 - Question 1</span>"
   ]
  },
  {
   "cell_type": "markdown",
   "metadata": {},
   "source": [
    "**You will NOT be defining a function to solve this challenge**\n",
    "\n",
    "FizzBuzz is an interview question that is said to filter out 99.5% of programming job candidates.\n",
    "\n",
    "- Add code so that it reads a number from a user and is stored in a variable called `num`\n",
    "\n",
    "- If `num` isn’t divisible by **3** or **5** then print `num`\n",
    "\n",
    "- If `num` is a multiple of **3** print `'fizz'`\n",
    "\n",
    "- If `num` is a multiple of **5** print `'buzz'`\n",
    "\n",
    "- If `num` is a multiple of **3** and **5** print `'fizzbuzz'`"
   ]
  },
  {
   "cell_type": "code",
   "execution_count": null,
   "metadata": {},
   "outputs": [],
   "source": [
    "num = int(input())\n",
    "if not num % 3 and not num % 5:\n",
    "    print('fizzbuzz')\n",
    "elif not num % 3:\n",
    "    print('fizz')\n",
    "elif not num % 5:\n",
    "    print('buzz')\n",
    "else: \n",
    "    print(num)"
   ]
  },
  {
   "cell_type": "markdown",
   "metadata": {},
   "source": [
    "<a id=\"3-2\"></a>\n",
    "### <span style=\"color:red\">Py3 - Question 2</span>"
   ]
  },
  {
   "cell_type": "markdown",
   "metadata": {},
   "source": [
    "Use python to produce code below that will perform the following:\n",
    "\n",
    "- Read input from the user stored in the variable `num_input`, the input will be an integer.\n",
    "- Determine which of the following categories `num_input` fits into an print this to the user:\n",
    "    - Negative Even\n",
    "    - Negative Odd\n",
    "    - Zero\n",
    "    - Positive Even\n",
    "    - Positive Odd\n",
    "**NOTE:** Capitalization matters"
   ]
  },
  {
   "cell_type": "code",
   "execution_count": null,
   "metadata": {},
   "outputs": [],
   "source": [
    "num_input = int(input())\n",
    "sign = 'Positive' if num_input > 0 else 'Negative'\n",
    "parity = 'Odd' if num_input % 2 else 'Even'\n",
    "print (f'{sign} {parity}' if num_input else 'Zero')"
   ]
  },
  {
   "cell_type": "markdown",
   "metadata": {},
   "source": [
    "<a id=\"3-3\"></a>\n",
    "### <span style=\"color:red\">Py3 - Question 3</span>"
   ]
  },
  {
   "cell_type": "markdown",
   "metadata": {},
   "source": [
    "Use python to produce code below that will perform the following:\n",
    "\n",
    "- Create a function named `domath` that will accept 3 parameters.\n",
    "- The function will add the first two parameters and multiply this sum by the third parameter.\n",
    "- You can select the variables for each of the parameters.\n",
    "- The resulting product will be returned to the caller."
   ]
  },
  {
   "cell_type": "code",
   "execution_count": null,
   "metadata": {},
   "outputs": [],
   "source": [
    "def domath(num1, num2, num3):\n",
    "    return (num1 + num2) * num3"
   ]
  },
  {
   "cell_type": "markdown",
   "metadata": {},
   "source": [
    "<a id=\"3-4\"></a>\n",
    "### <span style=\"color:red\">Py3 - Question 4</span>"
   ]
  },
  {
   "cell_type": "markdown",
   "metadata": {},
   "source": [
    "Complete the function below to return the type of the parameter as a string.\n",
    "\n",
    "Possible types and what they should return:\n",
    "\n",
    "| Data Type | Literal string to return: |\n",
    "| --------- | ------------------------- |\n",
    "| String | string |\n",
    "| Boolean | boolean | \n",
    "| Integer | integer |\n",
    "| Float | float |\n",
    "| List | list |\n",
    "| Tuple | tuple |\n",
    "| Any other type of object | unknown|\n",
    "\n",
    "**Examples:**\n",
    "\n",
    "`get_type_str('hello world')`  \n",
    "Returns: `string`  \n",
    "\n",
    "`get_type_str((item1, item2))`  \n",
    "Returns: `tuple`\n",
    "\n",
    "`get_type_str({})`  \n",
    "Returns: `unknown`"
   ]
  },
  {
   "cell_type": "code",
   "execution_count": null,
   "metadata": {},
   "outputs": [],
   "source": [
    "def get_type_str(obj):\n",
    "    if type(obj) == str: \n",
    "        return 'string'\n",
    "    elif type(obj) == bool:\n",
    "        return 'boolean'\n",
    "    elif type(obj) == int:\n",
    "        return 'integer'\n",
    "    elif type(obj) == list:\n",
    "        return 'list'\n",
    "    elif type(obj) == tuple:\n",
    "        return 'tuple'\n",
    "    else: return 'unknown'"
   ]
  }
 ],
 "metadata": {
  "kernelspec": {
   "display_name": "Python 3",
   "language": "python",
   "name": "python3"
  },
  "language_info": {
   "codemirror_mode": {
    "name": "ipython",
    "version": 3
   },
   "file_extension": ".py",
   "mimetype": "text/x-python",
   "name": "python",
   "nbconvert_exporter": "python",
   "pygments_lexer": "ipython3",
   "version": "3.8.10"
  }
 },
 "nbformat": 4,
 "nbformat_minor": 2
}
